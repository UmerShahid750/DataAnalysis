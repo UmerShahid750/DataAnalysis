{
 "cells": [
  {
   "cell_type": "code",
   "execution_count": 124,
   "metadata": {},
   "outputs": [],
   "source": [
    "import numpy as np\n",
    "import pandas as pd\n",
    "import matplotlib.pyplot as plt\n",
    "from scipy.stats import norm, gumbel_r, lognorm, genextreme, poisson, geom\n",
    "from scipy.stats import probplot, kstest\n",
    "from plotly.subplots import make_subplots\n",
    "import plotly.graph_objects as go"
   ]
  },
  {
   "cell_type": "code",
   "execution_count": 125,
   "metadata": {},
   "outputs": [
    {
     "data": {
      "text/plain": [
       "'C:/Users/LENOVO/OneDrive/inFarmer/4. Proposal & Presentations/Proposals/Forest_Fire/Brazil_Forest_Data/Lower Forest Data'"
      ]
     },
     "execution_count": 125,
     "metadata": {},
     "output_type": "execute_result"
    }
   ],
   "source": [
    "path = r'C:\\Users\\LENOVO\\OneDrive\\inFarmer\\4. Proposal & Presentations\\Proposals\\Forest_Fire\\Brazil_Forest_Data\\Lower Forest Data'\n",
    "path = path.replace(\"\\\\\",\"/\")\n",
    "path"
   ]
  },
  {
   "cell_type": "code",
   "execution_count": 126,
   "metadata": {},
   "outputs": [
    {
     "data": {
      "text/html": [
       "<div>\n",
       "<style scoped>\n",
       "    .dataframe tbody tr th:only-of-type {\n",
       "        vertical-align: middle;\n",
       "    }\n",
       "\n",
       "    .dataframe tbody tr th {\n",
       "        vertical-align: top;\n",
       "    }\n",
       "\n",
       "    .dataframe thead th {\n",
       "        text-align: right;\n",
       "    }\n",
       "</style>\n",
       "<table border=\"1\" class=\"dataframe\">\n",
       "  <thead>\n",
       "    <tr style=\"text-align: right;\">\n",
       "      <th></th>\n",
       "      <th>Date</th>\n",
       "      <th>DOY</th>\n",
       "      <th>Year</th>\n",
       "      <th>Month</th>\n",
       "      <th>Fire Weather Index</th>\n",
       "      <th>Fire Build Index</th>\n",
       "      <th>Drought Code</th>\n",
       "      <th>Duff moisture code</th>\n",
       "      <th>Fire Fuel Moisture Code</th>\n",
       "      <th>Fire severity index</th>\n",
       "      <th>Initial Spead Index</th>\n",
       "    </tr>\n",
       "  </thead>\n",
       "  <tbody>\n",
       "    <tr>\n",
       "      <th>0</th>\n",
       "      <td>03/01/1940</td>\n",
       "      <td>3</td>\n",
       "      <td>1940</td>\n",
       "      <td>1</td>\n",
       "      <td>0.004729</td>\n",
       "      <td>3.105760</td>\n",
       "      <td>8.283793</td>\n",
       "      <td>2.930334</td>\n",
       "      <td>34.07</td>\n",
       "      <td>0.00</td>\n",
       "      <td>0.01</td>\n",
       "    </tr>\n",
       "    <tr>\n",
       "      <th>1</th>\n",
       "      <td>04/01/1940</td>\n",
       "      <td>4</td>\n",
       "      <td>1940</td>\n",
       "      <td>1</td>\n",
       "      <td>0.163287</td>\n",
       "      <td>3.420774</td>\n",
       "      <td>11.832993</td>\n",
       "      <td>2.681654</td>\n",
       "      <td>55.33</td>\n",
       "      <td>0.00</td>\n",
       "      <td>0.44</td>\n",
       "    </tr>\n",
       "    <tr>\n",
       "      <th>2</th>\n",
       "      <td>05/01/1940</td>\n",
       "      <td>5</td>\n",
       "      <td>1940</td>\n",
       "      <td>1</td>\n",
       "      <td>0.604935</td>\n",
       "      <td>5.729544</td>\n",
       "      <td>20.663929</td>\n",
       "      <td>4.386554</td>\n",
       "      <td>76.94</td>\n",
       "      <td>0.01</td>\n",
       "      <td>1.34</td>\n",
       "    </tr>\n",
       "    <tr>\n",
       "      <th>3</th>\n",
       "      <td>06/01/1940</td>\n",
       "      <td>6</td>\n",
       "      <td>1940</td>\n",
       "      <td>1</td>\n",
       "      <td>1.578040</td>\n",
       "      <td>7.925221</td>\n",
       "      <td>29.417784</td>\n",
       "      <td>5.986382</td>\n",
       "      <td>80.24</td>\n",
       "      <td>0.06</td>\n",
       "      <td>2.12</td>\n",
       "    </tr>\n",
       "    <tr>\n",
       "      <th>4</th>\n",
       "      <td>07/01/1940</td>\n",
       "      <td>7</td>\n",
       "      <td>1940</td>\n",
       "      <td>1</td>\n",
       "      <td>0.550387</td>\n",
       "      <td>7.741090</td>\n",
       "      <td>34.220470</td>\n",
       "      <td>5.400179</td>\n",
       "      <td>69.95</td>\n",
       "      <td>0.01</td>\n",
       "      <td>1.02</td>\n",
       "    </tr>\n",
       "    <tr>\n",
       "      <th>...</th>\n",
       "      <td>...</td>\n",
       "      <td>...</td>\n",
       "      <td>...</td>\n",
       "      <td>...</td>\n",
       "      <td>...</td>\n",
       "      <td>...</td>\n",
       "      <td>...</td>\n",
       "      <td>...</td>\n",
       "      <td>...</td>\n",
       "      <td>...</td>\n",
       "      <td>...</td>\n",
       "    </tr>\n",
       "    <tr>\n",
       "      <th>30582</th>\n",
       "      <td>26/09/2023</td>\n",
       "      <td>269</td>\n",
       "      <td>2023</td>\n",
       "      <td>9</td>\n",
       "      <td>49.100360</td>\n",
       "      <td>224.607970</td>\n",
       "      <td>816.015260</td>\n",
       "      <td>171.246610</td>\n",
       "      <td>94.41</td>\n",
       "      <td>26.80</td>\n",
       "      <td>14.17</td>\n",
       "    </tr>\n",
       "    <tr>\n",
       "      <th>30583</th>\n",
       "      <td>27/09/2023</td>\n",
       "      <td>270</td>\n",
       "      <td>2023</td>\n",
       "      <td>9</td>\n",
       "      <td>41.733720</td>\n",
       "      <td>228.308010</td>\n",
       "      <td>822.215330</td>\n",
       "      <td>174.996610</td>\n",
       "      <td>93.74</td>\n",
       "      <td>20.16</td>\n",
       "      <td>10.98</td>\n",
       "    </tr>\n",
       "    <tr>\n",
       "      <th>30584</th>\n",
       "      <td>28/09/2023</td>\n",
       "      <td>271</td>\n",
       "      <td>2023</td>\n",
       "      <td>9</td>\n",
       "      <td>28.668493</td>\n",
       "      <td>231.058010</td>\n",
       "      <td>827.747250</td>\n",
       "      <td>177.696660</td>\n",
       "      <td>90.91</td>\n",
       "      <td>10.32</td>\n",
       "      <td>6.19</td>\n",
       "    </tr>\n",
       "    <tr>\n",
       "      <th>30585</th>\n",
       "      <td>29/09/2023</td>\n",
       "      <td>272</td>\n",
       "      <td>2023</td>\n",
       "      <td>9</td>\n",
       "      <td>29.066023</td>\n",
       "      <td>234.039980</td>\n",
       "      <td>833.497250</td>\n",
       "      <td>180.478590</td>\n",
       "      <td>90.96</td>\n",
       "      <td>10.56</td>\n",
       "      <td>6.30</td>\n",
       "    </tr>\n",
       "    <tr>\n",
       "      <th>30586</th>\n",
       "      <td>30/09/2023</td>\n",
       "      <td>273</td>\n",
       "      <td>2023</td>\n",
       "      <td>9</td>\n",
       "      <td>19.489082</td>\n",
       "      <td>220.328890</td>\n",
       "      <td>839.029200</td>\n",
       "      <td>164.817300</td>\n",
       "      <td>87.47</td>\n",
       "      <td>5.70</td>\n",
       "      <td>3.77</td>\n",
       "    </tr>\n",
       "  </tbody>\n",
       "</table>\n",
       "<p>30587 rows × 11 columns</p>\n",
       "</div>"
      ],
      "text/plain": [
       "             Date  DOY  Year  Month  Fire Weather Index  Fire Build Index   \n",
       "0      03/01/1940    3  1940      1            0.004729          3.105760  \\\n",
       "1      04/01/1940    4  1940      1            0.163287          3.420774   \n",
       "2      05/01/1940    5  1940      1            0.604935          5.729544   \n",
       "3      06/01/1940    6  1940      1            1.578040          7.925221   \n",
       "4      07/01/1940    7  1940      1            0.550387          7.741090   \n",
       "...           ...  ...   ...    ...                 ...               ...   \n",
       "30582  26/09/2023  269  2023      9           49.100360        224.607970   \n",
       "30583  27/09/2023  270  2023      9           41.733720        228.308010   \n",
       "30584  28/09/2023  271  2023      9           28.668493        231.058010   \n",
       "30585  29/09/2023  272  2023      9           29.066023        234.039980   \n",
       "30586  30/09/2023  273  2023      9           19.489082        220.328890   \n",
       "\n",
       "       Drought Code  Duff moisture code  Fire Fuel Moisture Code   \n",
       "0          8.283793            2.930334                    34.07  \\\n",
       "1         11.832993            2.681654                    55.33   \n",
       "2         20.663929            4.386554                    76.94   \n",
       "3         29.417784            5.986382                    80.24   \n",
       "4         34.220470            5.400179                    69.95   \n",
       "...             ...                 ...                      ...   \n",
       "30582    816.015260          171.246610                    94.41   \n",
       "30583    822.215330          174.996610                    93.74   \n",
       "30584    827.747250          177.696660                    90.91   \n",
       "30585    833.497250          180.478590                    90.96   \n",
       "30586    839.029200          164.817300                    87.47   \n",
       "\n",
       "       Fire severity index  Initial Spead Index  \n",
       "0                     0.00                 0.01  \n",
       "1                     0.00                 0.44  \n",
       "2                     0.01                 1.34  \n",
       "3                     0.06                 2.12  \n",
       "4                     0.01                 1.02  \n",
       "...                    ...                  ...  \n",
       "30582                26.80                14.17  \n",
       "30583                20.16                10.98  \n",
       "30584                10.32                 6.19  \n",
       "30585                10.56                 6.30  \n",
       "30586                 5.70                 3.77  \n",
       "\n",
       "[30587 rows x 11 columns]"
      ]
     },
     "execution_count": 126,
     "metadata": {},
     "output_type": "execute_result"
    }
   ],
   "source": [
    "data_1 = pd.read_csv(path+'/data.csv')\n",
    "# #set the first column of data as the index\n",
    "# data.set_index('Unnamed: 0', inplace=True)\n",
    "data_1"
   ]
  },
  {
   "cell_type": "code",
   "execution_count": 152,
   "metadata": {},
   "outputs": [
    {
     "data": {
      "text/plain": [
       "'Fire Build Index'"
      ]
     },
     "execution_count": 152,
     "metadata": {},
     "output_type": "execute_result"
    }
   ],
   "source": [
    "variables = data_1.columns\n",
    "#FWI starts from 4\n",
    "variable = variables[5]\n",
    "variable"
   ]
  },
  {
   "cell_type": "code",
   "execution_count": 153,
   "metadata": {},
   "outputs": [],
   "source": [
    "data = data_1.groupby('Year')[variable].max()\n"
   ]
  },
  {
   "cell_type": "code",
   "execution_count": 154,
   "metadata": {},
   "outputs": [
    {
     "data": {
      "text/html": [
       "<div>\n",
       "<style scoped>\n",
       "    .dataframe tbody tr th:only-of-type {\n",
       "        vertical-align: middle;\n",
       "    }\n",
       "\n",
       "    .dataframe tbody tr th {\n",
       "        vertical-align: top;\n",
       "    }\n",
       "\n",
       "    .dataframe thead th {\n",
       "        text-align: right;\n",
       "    }\n",
       "</style>\n",
       "<table border=\"1\" class=\"dataframe\">\n",
       "  <thead>\n",
       "    <tr style=\"text-align: right;\">\n",
       "      <th></th>\n",
       "      <th>Year</th>\n",
       "      <th>Fire Build Index</th>\n",
       "    </tr>\n",
       "  </thead>\n",
       "  <tbody>\n",
       "    <tr>\n",
       "      <th>0</th>\n",
       "      <td>1940</td>\n",
       "      <td>409.28900</td>\n",
       "    </tr>\n",
       "    <tr>\n",
       "      <th>1</th>\n",
       "      <td>1941</td>\n",
       "      <td>115.66292</td>\n",
       "    </tr>\n",
       "    <tr>\n",
       "      <th>2</th>\n",
       "      <td>1942</td>\n",
       "      <td>654.67230</td>\n",
       "    </tr>\n",
       "    <tr>\n",
       "      <th>3</th>\n",
       "      <td>1943</td>\n",
       "      <td>262.29773</td>\n",
       "    </tr>\n",
       "    <tr>\n",
       "      <th>4</th>\n",
       "      <td>1944</td>\n",
       "      <td>578.37470</td>\n",
       "    </tr>\n",
       "    <tr>\n",
       "      <th>...</th>\n",
       "      <td>...</td>\n",
       "      <td>...</td>\n",
       "    </tr>\n",
       "    <tr>\n",
       "      <th>79</th>\n",
       "      <td>2019</td>\n",
       "      <td>474.94336</td>\n",
       "    </tr>\n",
       "    <tr>\n",
       "      <th>80</th>\n",
       "      <td>2020</td>\n",
       "      <td>444.78910</td>\n",
       "    </tr>\n",
       "    <tr>\n",
       "      <th>81</th>\n",
       "      <td>2021</td>\n",
       "      <td>475.66837</td>\n",
       "    </tr>\n",
       "    <tr>\n",
       "      <th>82</th>\n",
       "      <td>2022</td>\n",
       "      <td>532.71185</td>\n",
       "    </tr>\n",
       "    <tr>\n",
       "      <th>83</th>\n",
       "      <td>2023</td>\n",
       "      <td>375.56995</td>\n",
       "    </tr>\n",
       "  </tbody>\n",
       "</table>\n",
       "<p>84 rows × 2 columns</p>\n",
       "</div>"
      ],
      "text/plain": [
       "    Year  Fire Build Index\n",
       "0   1940         409.28900\n",
       "1   1941         115.66292\n",
       "2   1942         654.67230\n",
       "3   1943         262.29773\n",
       "4   1944         578.37470\n",
       "..   ...               ...\n",
       "79  2019         474.94336\n",
       "80  2020         444.78910\n",
       "81  2021         475.66837\n",
       "82  2022         532.71185\n",
       "83  2023         375.56995\n",
       "\n",
       "[84 rows x 2 columns]"
      ]
     },
     "execution_count": 154,
     "metadata": {},
     "output_type": "execute_result"
    }
   ],
   "source": [
    "data = pd.DataFrame(data).reset_index()\n",
    "data"
   ]
  },
  {
   "cell_type": "code",
   "execution_count": 155,
   "metadata": {},
   "outputs": [],
   "source": [
    "# # Function to fit distributions and plot probability plots\n",
    "# def fit_and_plot_distribution(data, distribution):\n",
    "#     params = distribution.fit(data)\n",
    "#     _, p_value = kstest(data, distribution.cdf, params)\n",
    "#     return params, p_value\n",
    "\n",
    "# plt.subplots(nrows=2,ncols=2,figsize=(30, 10))\n",
    "\n",
    "# for index, distribution in enumerate(distributions):\n",
    "#     plt.subplot(2,2,index+1)\n",
    "#     # Plot  Distribution\n",
    "#     label = distribution\n",
    "#     params, p_value = fit_and_plot_distribution(data[variable], distribution)\n",
    "#     plt.hist(data[variable], bins=30, density=True, color='blue', alpha=0.7, label=distribution)\n",
    "#     x_range = np.linspace(data[variable].min(), data[variable].max(), 100)\n",
    "#     plt.plot(x_range, distribution.pdf(x_range,*params), color='red', linewidth=2)\n",
    "#     plt.title(f'{label} Fit (p-value: {p_value:.4f})')\n"
   ]
  },
  {
   "cell_type": "code",
   "execution_count": 156,
   "metadata": {},
   "outputs": [
    {
     "data": {
      "image/png": "[encoded data removed]",
      "text/plain": [
       "<Figure size 3000x500 with 4 Axes>"
      ]
     },
     "metadata": {},
     "output_type": "display_data"
    }
   ],
   "source": [
    "# Plot histograms for each distribution\n",
    "plt.figure(figsize=(30, 5))\n",
    "font_size = 10\n",
    "n_cols = 4\n",
    "\n",
    "# Plot Normal Distribution\n",
    "plt.subplot(1, n_cols, 1)\n",
    "#gives the mean and standard deviation of data, assuming it follows normal distribution\n",
    "params_1 = norm.fit(data[variable])\n",
    "#Kolmogorov-Smirnov (KS) test, D is KS Statistic which is maximum, and p_value is significance level 0.05 usually\n",
    "D, p_value_1 = kstest(data[variable], norm.cdf, params_1)\n",
    "plt.hist(data[variable], bins=30, density=True, color='blue', alpha=0.7, label='Normal')\n",
    "x_range_normal = np.linspace(data[variable].min(), data[variable].max(), 100)\n",
    "# ax2 = plt.gca().twinx()\n",
    "plt.plot(x_range_normal, norm.pdf(x_range_normal,*params_1), color='red', linewidth=2)\n",
    "plt.title(f'Normal Distribution with p_value:{round(p_value_1,3)}& D:{round(D,2)}')\n",
    "plt.legend()\n",
    "plt.xlabel(f'values of the {variable}',fontsize = font_size)\n",
    "plt.ylabel('Probability Density',fontsize = font_size)\n",
    "\n",
    "\n",
    "plt.subplot(1, n_cols, 2)\n",
    "params_2 = gumbel_r.fit(data[variable])\n",
    "D, p_value_2 = kstest(data[variable], gumbel_r.cdf, params_2)\n",
    "plt.hist(data[variable], bins=30, density=True, color='green', alpha=0.7, label='Gumbel')\n",
    "x_range_gumbel = np.linspace(data[variable].min(), data[variable].max(), 100)\n",
    "# plt.plot(x_range_gumbel, gumbel_r.pdf(x_range_gumbel,*params_2), color='red', linewidth=2)\n",
    "plt.title(f'Gumbel Distribution with p_value:{round(p_value_2,3)} &D:{round(D,2)}')\n",
    "# ax2 = plt.gca().twinx()\n",
    "# Plot the Gumbel distribution on the second y-axis\n",
    "plt.plot(x_range_gumbel, gumbel_r.pdf(x_range_gumbel, *params_2), color='red', linewidth=2)\n",
    "# ax2.set_ylabel('Probability Density')\n",
    "# ax2.tick_params('y', colors='red')\n",
    "plt.legend()\n",
    "plt.xlabel(f'values of the {variable}',fontsize = font_size)\n",
    "plt.ylabel('Probability Density',fontsize = font_size)\n",
    "\n",
    "\n",
    "plt.subplot(1, n_cols, 3)\n",
    "params_3 = lognorm.fit(data[variable])\n",
    "D, p_value_3 = kstest(data[variable], lognorm.cdf, params_3)\n",
    "plt.hist(data[variable], bins=30, density=True, color='orange', alpha=0.7, label='Log Pearson')\n",
    "x_range_lognorm = np.linspace(data[variable].min(), data[variable].max(), 100)\n",
    "# ax2 = plt.gca().twinx()\n",
    "plt.plot(x_range_lognorm, lognorm.pdf(x_range_lognorm,*params_3), color='red', linewidth=2)\n",
    "plt.title(f'Log Pearson Distribution with p_value:{round(p_value_3,3)} &D:{round(D,2)}')\n",
    "plt.legend()\n",
    "plt.xlabel(f'values of the {variable}',fontsize = font_size)\n",
    "plt.ylabel('Probability Density',fontsize = font_size)\n",
    "\n",
    "\n",
    "plt.subplot(1, n_cols, 4)\n",
    "params_4 = genextreme.fit(data[variable])\n",
    "D, p_value_4 = kstest(data[variable], genextreme.cdf, params_4)\n",
    "plt.hist(data[variable], bins=30, density=True, color='purple', alpha=0.7, label='General Extreme')\n",
    "x_range_genextreme = np.linspace(data[variable].min(), data[variable].max(), 100)\n",
    "# ax2 = plt.gca().twinx()\n",
    "plt.plot(x_range_genextreme, genextreme.pdf(x_range_genextreme,*params_4), color='red', linewidth=2)\n",
    "plt.ylabel('Probability Density',fontsize = font_size)\n",
    "plt.title(f'General Extreme Distribution with p_value:{round(p_value_4,3)} &D:{round(D,2)}')\n",
    "plt.legend()\n",
    "plt.xlabel(f'values of the {variable}',fontsize = font_size)\n",
    "\n",
    "\n",
    "\n",
    "plt.tight_layout()\n",
    "plt.show()"
   ]
  },
  {
   "cell_type": "code",
   "execution_count": 185,
   "metadata": {},
   "outputs": [
    {
     "data": {
      "application/vnd.plotly.v1+json": {
       "config": {
        "plotlyServerURL": "https://plot.ly"
       },
       "data": [
        {
         "histnorm": "probability density",
         "name": "Normal",
         "nbinsx": 30,
         "opacity": 0.7,
         "type": "histogram",
         "x": [
          409.289,
          115.66292,
          654.6723,
          262.29773,
          578.3747,
          404.14612,
          368.9193,
          215.4239,
          430.702,
          568.9708,
          469.90512,
          481.46674,
          544.2848,
          423.50107,
          579.0638,
          634.51105,
          292.46158,
          477.44214,
          490.7196,
          486.95782,
          408.64478,
          768.7303,
          533.7486,
          536.8025,
          473.2295,
          367.16983,
          413.36804,
          510.08127,
          324.67343,
          618.65314,
          392.13297,
          213.64633,
          319.01443,
          241.55357,
          322.13574,
          441.83755,
          235.62807,
          233.56522,
          205.2419,
          260.93097,
          379.69516,
          362.24054,
          250.36528,
          251.10751,
          273.32523,
          406.07407,
          183.42151,
          300.7561,
          343.46768,
          165.2252,
          217.97227,
          341.26273,
          297.8656,
          226.21379,
          329.95517,
          376.88608,
          196.56596,
          302.86197,
          455.07852,
          420.26093,
          240.70996,
          312.58936,
          417.06247,
          363.75964,
          491.3206,
          350.36038,
          358.1325,
          513.06,
          445.47058,
          286.54108,
          571.32574,
          485.56537,
          396.40808,
          323.41058,
          374.43262,
          278.51254,
          433.94122,
          416.45966,
          395.4417,
          474.94336,
          444.7891,
          475.66837,
          532.71185,
          375.56995
         ],
         "xaxis": "x",
         "yaxis": "y"
        },
        {
         "line": {
          "color": "red",
          "width": 2
         },
         "mode": "lines",
         "name": "Normal Fit",
         "type": "scatter",
         "x": [
          115.66292,
          122.2595602020202,
          128.8562004040404,
          135.45284060606062,
          142.0494808080808,
          148.646121010101,
          155.24276121212122,
          161.83940141414143,
          168.43604161616162,
          175.03268181818183,
          181.62932202020204,
          188.22596222222222,
          194.82260242424243,
          201.41924262626264,
          208.01588282828283,
          214.61252303030307,
          221.20916323232325,
          227.80580343434343,
          234.40244363636367,
          240.99908383838385,
          247.59572404040404,
          254.19236424242428,
          260.78900444444446,
          267.3856446464647,
          273.9822848484849,
          280.57892505050506,
          287.1755652525253,
          293.7722054545455,
          300.36884565656567,
          306.9654858585859,
          313.5621260606061,
          320.1587662626263,
          326.7554064646465,
          333.3520466666667,
          339.9486868686869,
          346.5453270707071,
          353.1419672727273,
          359.73860747474754,
          366.3352476767677,
          372.9318878787879,
          379.5285280808081,
          386.1251682828283,
          392.7218084848485,
          399.3184486868687,
          405.91508888888893,
          412.5117290909091,
          419.10836929292935,
          425.70500949494954,
          432.3016496969697,
          438.89828989898996,
          445.49493010101014,
          452.0915703030303,
          458.68821050505056,
          465.28485070707075,
          471.8814909090909,
          478.47813111111117,
          485.07477131313135,
          491.67141151515153,
          498.2680517171718,
          504.86469191919196,
          511.4613321212122,
          518.0579723232324,
          524.6546125252526,
          531.2512527272728,
          537.847892929293,
          544.4445331313132,
          551.0411733333334,
          557.6378135353536,
          564.2344537373738,
          570.831093939394,
          577.4277341414142,
          584.0243743434345,
          590.6210145454546,
          597.2176547474749,
          603.8142949494951,
          610.4109351515152,
          617.0075753535355,
          623.6042155555557,
          630.2008557575758,
          636.7974959595961,
          643.3941361616162,
          649.9907763636364,
          656.5874165656567,
          663.1840567676768,
          669.780696969697,
          676.3773371717173,
          682.9739773737374,
          689.5706175757576,
          696.1672577777779,
          702.763897979798,
          709.3605381818182,
          715.9571783838385,
          722.5538185858587,
          729.1504587878788,
          735.7470989898991,
          742.3437391919193,
          748.9403793939395,
          755.5370195959597,
          762.1336597979799,
          768.7303
         ],
         "xaxis": "x",
         "y": [
          0.0003001405625741657,
          0.0003361633456823282,
          0.0003754626216439928,
          0.00041819009748789474,
          0.00046448475760837776,
          0.0005144697863062638,
          0.0005682493768098834,
          0.0006259054702663819,
          0.0006874944743656406,
          0.0007530440169342382,
          0.0008225497948131236,
          0.0008959725824079388,
          0.0009732354672786047,
          0.0010542213818310008,
          0.0011387710004240898,
          0.0012266810698731436,
          0.0013177032383098943,
          0.0014115434425893967,
          0.0015078619078920288,
          0.0016062738048881293,
          0.0017063505998950069,
          0.0018076221219981686,
          0.001909579358320607,
          0.002011677974746778,
          0.0021133425447293092,
          0.002213971453655232,
          0.0023129424309860118,
          0.002409618647397055,
          0.0025033552998254757,
          0.0025935065940884045,
          0.0026794330229455653,
          0.002760508827512428,
          0.00283612952211101,
          0.0029057193572534284,
          0.0029687385927090536,
          0.0030246904526629497,
          0.003073127637910347,
          0.0031136582758495034,
          0.0031459511976531657,
          0.0031697404432563434,
          0.003184828908457826,
          0.0031910910641865698,
          0.0031884746954609355,
          0.0031770016263462193,
          0.0031567674168319878,
          0.0031279400375180274,
          0.0030907575478180257,
          0.003045524822569814,
          0.0029926093900059145,
          0.0029324364605479106,
          0.0028654832404493087,
          0.0027922726365889653,
          0.002713366468443497,
          0.002629358310249549,
          0.0025408660904918984,
          0.002448524577088456,
          0.002352977875035373,
          0.0022548720589482952,
          0.002154848056083212,
          0.002053534886298447,
          0.0019515433543368316,
          0.0018494602771138469,
          0.0017478433147725034,
          0.0016472164595046257,
          0.0015480662209406918,
          0.0014508385316680224,
          0.001355936381522529,
          0.0012637181750554665,
          0.0011744967933090904,
          0.0010885393290048164,
          0.0010060674536655565,
          0.0009272583662190973,
          0.0008522462653667208,
          0.0007811242825023967,
          0.0007139468082338534,
          0.0006507321435413523,
          0.0005914654062249518,
          0.0005361016244117549,
          0.0004845689513671041,
          0.0004367719395012195,
          0.0003925948160931522,
          0.00035190470866642225,
          0.0003145547739428272,
          0.00028038719067405906,
          0.0002492359832161395,
          0.00022092964929426454,
          0.00019529357184816564,
          0.00017215220101361934,
          0.00015133099806937154,
          0.0001326581384685935,
          0.00011596597581126017,
          0.0001010922727520272,
          0.00008788120835192573,
          0.00007618417426543787,
          0.00006586037441828472,
          0.0000567772445012957,
          0.000048810708719827096,
          0.00004184529184363185,
          0.00003577410475295358,
          0.000030498721431449632
         ],
         "yaxis": "y"
        },
        {
         "histnorm": "probability density",
         "name": "Gumbel",
         "nbinsx": 30,
         "opacity": 0.7,
         "type": "histogram",
         "x": [
          409.289,
          115.66292,
          654.6723,
          262.29773,
          578.3747,
          404.14612,
          368.9193,
          215.4239,
          430.702,
          568.9708,
          469.90512,
          481.46674,
          544.2848,
          423.50107,
          579.0638,
          634.51105,
          292.46158,
          477.44214,
          490.7196,
          486.95782,
          408.64478,
          768.7303,
          533.7486,
          536.8025,
          473.2295,
          367.16983,
          413.36804,
          510.08127,
          324.67343,
          618.65314,
          392.13297,
          213.64633,
          319.01443,
          241.55357,
          322.13574,
          441.83755,
          235.62807,
          233.56522,
          205.2419,
          260.93097,
          379.69516,
          362.24054,
          250.36528,
          251.10751,
          273.32523,
          406.07407,
          183.42151,
          300.7561,
          343.46768,
          165.2252,
          217.97227,
          341.26273,
          297.8656,
          226.21379,
          329.95517,
          376.88608,
          196.56596,
          302.86197,
          455.07852,
          420.26093,
          240.70996,
          312.58936,
          417.06247,
          363.75964,
          491.3206,
          350.36038,
          358.1325,
          513.06,
          445.47058,
          286.54108,
          571.32574,
          485.56537,
          396.40808,
          323.41058,
          374.43262,
          278.51254,
          433.94122,
          416.45966,
          395.4417,
          474.94336,
          444.7891,
          475.66837,
          532.71185,
          375.56995
         ],
         "xaxis": "x2",
         "yaxis": "y2"
        },
        {
         "line": {
          "color": "red",
          "width": 2
         },
         "mode": "lines",
         "name": "Gumbel Fit",
         "type": "scatter",
         "x": [
          115.66292,
          122.2595602020202,
          128.8562004040404,
          135.45284060606062,
          142.0494808080808,
          148.646121010101,
          155.24276121212122,
          161.83940141414143,
          168.43604161616162,
          175.03268181818183,
          181.62932202020204,
          188.22596222222222,
          194.82260242424243,
          201.41924262626264,
          208.01588282828283,
          214.61252303030307,
          221.20916323232325,
          227.80580343434343,
          234.40244363636367,
          240.99908383838385,
          247.59572404040404,
          254.19236424242428,
          260.78900444444446,
          267.3856446464647,
          273.9822848484849,
          280.57892505050506,
          287.1755652525253,
          293.7722054545455,
          300.36884565656567,
          306.9654858585859,
          313.5621260606061,
          320.1587662626263,
          326.7554064646465,
          333.3520466666667,
          339.9486868686869,
          346.5453270707071,
          353.1419672727273,
          359.73860747474754,
          366.3352476767677,
          372.9318878787879,
          379.5285280808081,
          386.1251682828283,
          392.7218084848485,
          399.3184486868687,
          405.91508888888893,
          412.5117290909091,
          419.10836929292935,
          425.70500949494954,
          432.3016496969697,
          438.89828989898996,
          445.49493010101014,
          452.0915703030303,
          458.68821050505056,
          465.28485070707075,
          471.8814909090909,
          478.47813111111117,
          485.07477131313135,
          491.67141151515153,
          498.2680517171718,
          504.86469191919196,
          511.4613321212122,
          518.0579723232324,
          524.6546125252526,
          531.2512527272728,
          537.847892929293,
          544.4445331313132,
          551.0411733333334,
          557.6378135353536,
          564.2344537373738,
          570.831093939394,
          577.4277341414142,
          584.0243743434345,
          590.6210145454546,
          597.2176547474749,
          603.8142949494951,
          610.4109351515152,
          617.0075753535355,
          623.6042155555557,
          630.2008557575758,
          636.7974959595961,
          643.3941361616162,
          649.9907763636364,
          656.5874165656567,
          663.1840567676768,
          669.780696969697,
          676.3773371717173,
          682.9739773737374,
          689.5706175757576,
          696.1672577777779,
          702.763897979798,
          709.3605381818182,
          715.9571783838385,
          722.5538185858587,
          729.1504587878788,
          735.7470989898991,
          742.3437391919193,
          748.9403793939395,
          755.5370195959597,
          762.1336597979799,
          768.7303
         ],
         "xaxis": "x2",
         "y": [
          0.00008688047460205669,
          0.00011853240175558734,
          0.00015835902250809059,
          0.00020742301402060852,
          0.0002666659918818852,
          0.00033684904290057254,
          0.00041849884157335224,
          0.0005118633710984512,
          0.0006168804604663762,
          0.0007331612693949672,
          0.0008599896396899639,
          0.0009963370222366328,
          0.0011408916027729568,
          0.0012920993764024404,
          0.0014482143142028074,
          0.0016073544432311652,
          0.001767560610503967,
          0.001926854885231953,
          0.0020832959197652086,
          0.0022350290797870653,
          0.002380329710311975,
          0.002517638474024912,
          0.0026455882399586818,
          0.0027630224820718477,
          0.002869005548848734,
          0.0029628254767571196,
          0.0030439902410358674,
          0.003112218472209031,
          0.0031674257258513636,
          0.003209707389048704,
          0.003239319253371262,
          0.003256656694513257,
          0.003262233285506498,
          0.0032566595444386694,
          0.0032406223878558797,
          0.003214865734496761,
          0.0031801725858081374,
          0.003137348803258845,
          0.0030872087097872634,
          0.003030562564607924,
          0.0029682058969775667,
          0.00290091063463765,
          0.0028294179253215927,
          0.0027544325234899504,
          0.002676618597763388,
          0.0025965968057775693,
          0.002514942480868169,
          0.0024321847777092655,
          0.002348806630525791,
          0.0022652453866974305,
          0.002181893989551913,
          0.0020991025961567575,
          0.0020171805283563304,
          0.0019363984676962094,
          0.001856990816877106,
          0.0017791581617336528,
          0.001703069778269707,
          0.001628866138899634,
          0.0015566613806957837,
          0.0014865457061187114,
          0.0014185876934322257,
          0.0013528364998254398,
          0.0012893239452390303,
          0.0012280664690922025,
          0.0011690669556044483,
          0.001112316426277025,
          0.00105779560041697,
          0.0010054763264216973,
          0.00095532288796075,
          0.0009072931902539193,
          0.0008613398324067196,
          0.0008174110722745767,
          0.0007754516906299029,
          0.0007354037615398254,
          0.0006972073358602104,
          0.0006608010446423566,
          0.0006261226290569937,
          0.0005931094031865664,
          0.0005616986557385858,
          0.0005318279964044572,
          0.000503435652241338,
          0.00047646071909880036,
          0.00045084337275492874,
          0.0004265250440739313,
          0.0004034485621539529,
          0.00038155826910298414,
          0.0003608001097649602,
          0.0003411216994190883,
          0.0003224723721941032,
          0.0003048032126760393,
          0.00028806707294338525,
          0.000272218577036874,
          0.0002572141146622407,
          0.00024301182573241865,
          0.00022957157718004242,
          0.00021685493331097505,
          0.00020482512082392276,
          0.00019344698948914977,
          0.00018268696935989568,
          0.00017251302528239242
         ],
         "yaxis": "y2"
        },
        {
         "histnorm": "probability density",
         "name": "Log Pearson",
         "nbinsx": 30,
         "opacity": 0.7,
         "type": "histogram",
         "x": [
          409.289,
          115.66292,
          654.6723,
          262.29773,
          578.3747,
          404.14612,
          368.9193,
          215.4239,
          430.702,
          568.9708,
          469.90512,
          481.46674,
          544.2848,
          423.50107,
          579.0638,
          634.51105,
          292.46158,
          477.44214,
          490.7196,
          486.95782,
          408.64478,
          768.7303,
          533.7486,
          536.8025,
          473.2295,
          367.16983,
          413.36804,
          510.08127,
          324.67343,
          618.65314,
          392.13297,
          213.64633,
          319.01443,
          241.55357,
          322.13574,
          441.83755,
          235.62807,
          233.56522,
          205.2419,
          260.93097,
          379.69516,
          362.24054,
          250.36528,
          251.10751,
          273.32523,
          406.07407,
          183.42151,
          300.7561,
          343.46768,
          165.2252,
          217.97227,
          341.26273,
          297.8656,
          226.21379,
          329.95517,
          376.88608,
          196.56596,
          302.86197,
          455.07852,
          420.26093,
          240.70996,
          312.58936,
          417.06247,
          363.75964,
          491.3206,
          350.36038,
          358.1325,
          513.06,
          445.47058,
          286.54108,
          571.32574,
          485.56537,
          396.40808,
          323.41058,
          374.43262,
          278.51254,
          433.94122,
          416.45966,
          395.4417,
          474.94336,
          444.7891,
          475.66837,
          532.71185,
          375.56995
         ],
         "xaxis": "x3",
         "yaxis": "y3"
        },
        {
         "line": {
          "color": "red",
          "width": 2
         },
         "mode": "lines",
         "name": "Log Pearson Fit",
         "type": "scatter",
         "x": [
          115.66292,
          122.2595602020202,
          128.8562004040404,
          135.45284060606062,
          142.0494808080808,
          148.646121010101,
          155.24276121212122,
          161.83940141414143,
          168.43604161616162,
          175.03268181818183,
          181.62932202020204,
          188.22596222222222,
          194.82260242424243,
          201.41924262626264,
          208.01588282828283,
          214.61252303030307,
          221.20916323232325,
          227.80580343434343,
          234.40244363636367,
          240.99908383838385,
          247.59572404040404,
          254.19236424242428,
          260.78900444444446,
          267.3856446464647,
          273.9822848484849,
          280.57892505050506,
          287.1755652525253,
          293.7722054545455,
          300.36884565656567,
          306.9654858585859,
          313.5621260606061,
          320.1587662626263,
          326.7554064646465,
          333.3520466666667,
          339.9486868686869,
          346.5453270707071,
          353.1419672727273,
          359.73860747474754,
          366.3352476767677,
          372.9318878787879,
          379.5285280808081,
          386.1251682828283,
          392.7218084848485,
          399.3184486868687,
          405.91508888888893,
          412.5117290909091,
          419.10836929292935,
          425.70500949494954,
          432.3016496969697,
          438.89828989898996,
          445.49493010101014,
          452.0915703030303,
          458.68821050505056,
          465.28485070707075,
          471.8814909090909,
          478.47813111111117,
          485.07477131313135,
          491.67141151515153,
          498.2680517171718,
          504.86469191919196,
          511.4613321212122,
          518.0579723232324,
          524.6546125252526,
          531.2512527272728,
          537.847892929293,
          544.4445331313132,
          551.0411733333334,
          557.6378135353536,
          564.2344537373738,
          570.831093939394,
          577.4277341414142,
          584.0243743434345,
          590.6210145454546,
          597.2176547474749,
          603.8142949494951,
          610.4109351515152,
          617.0075753535355,
          623.6042155555557,
          630.2008557575758,
          636.7974959595961,
          643.3941361616162,
          649.9907763636364,
          656.5874165656567,
          663.1840567676768,
          669.780696969697,
          676.3773371717173,
          682.9739773737374,
          689.5706175757576,
          696.1672577777779,
          702.763897979798,
          709.3605381818182,
          715.9571783838385,
          722.5538185858587,
          729.1504587878788,
          735.7470989898991,
          742.3437391919193,
          748.9403793939395,
          755.5370195959597,
          762.1336597979799,
          768.7303
         ],
         "xaxis": "x3",
         "y": [
          10189.489461256448,
          0.011756881746374702,
          0.00572570058977593,
          0.0037267918917806855,
          0.0027374947905204417,
          0.002150198282060513,
          0.0017626788640887697,
          0.0014885747066040406,
          0.001284890600535795,
          0.0011278506655987156,
          0.0010032568470045055,
          0.000902116802049855,
          0.000818463724131396,
          0.0007481857746167024,
          0.0006883591766065656,
          0.0006368492820216047,
          0.0005920619976442977,
          0.0005527834323762224,
          0.0005180733187277333,
          0.00048719230926811595,
          0.00045955123499857615,
          0.0004346749674079103,
          0.0004121762121928177,
          0.0003917361944979093,
          0.00037309021343390946,
          0.00035601669380040603,
          0.0003403287872082661,
          0.00032586785708485467,
          0.000312498373221841,
          0.000300103873114047,
          0.0002885837392714129,
          0.00027785060680390287,
          0.00026782826229331013,
          0.0002584499288756119,
          0.0002496568573444357,
          0.00024139716153929712,
          0.00023362485009668807,
          0.00022629901707720546,
          0.00021938316193122082,
          0.00021284461536953485,
          0.00020665405242766777,
          0.00020078507769161934,
          0.00019521387053872988,
          0.00018991888052514628,
          0.00018488056486028347,
          0.00018008116135334704,
          0.00017550449137707563,
          0.0001711357883302722,
          0.00016696154784027927,
          0.00016296939656563401,
          0.0001591479769659719,
          0.00015548684582297558,
          0.00015197638464023604,
          0.0001486077203350915,
          0.00014537265487280196,
          0.00014226360269159564,
          0.00013927353493318302,
          0.00013639592963297649,
          0.0001336247271420518,
          0.0001309542901525622,
          0.00012837936778293117,
          0.00012589506325116033,
          0.00012349680472607247,
          0.00012118031899892611,
          0.00011894160766299833,
          0.00011677692552758163,
          0.00011468276102634615,
          0.00011265581840898754,
          0.0001106930015301782,
          0.0001087913990716321,
          0.0001069482710520688,
          0.00010516103649639235,
          0.00010342726214986907,
          0.00010174465213573285,
          0.0001001110384657582,
          0.00009852437232309273,
          0.00009698271604523679,
          0.00009548423574263351,
          0.00009402719449502844,
          0.00009260994607368174,
          0.00009123092914276875,
          0.00008988866189796883,
          0.00008858173710438382,
          0.00008730881749962513,
          0.00008606863153119656,
          0.00008485996940024159,
          0.00008368167938635346,
          0.00008253266443050239,
          0.00008141187895524169,
          0.00008031832590325733,
          0.00007925105397701916,
          0.00007820915506383898,
          0.00007719176183201074,
          0.00007619804548496423,
          0.00007522721366148286,
          0.00007427850847106278,
          0.00007335120465440481,
          0.00007244460785987132,
          0.0000715580530274958,
          0.00007069090287282387
         ],
         "yaxis": "y3"
        },
        {
         "histnorm": "probability density",
         "name": "General Extreme",
         "nbinsx": 30,
         "opacity": 0.7,
         "type": "histogram",
         "x": [
          409.289,
          115.66292,
          654.6723,
          262.29773,
          578.3747,
          404.14612,
          368.9193,
          215.4239,
          430.702,
          568.9708,
          469.90512,
          481.46674,
          544.2848,
          423.50107,
          579.0638,
          634.51105,
          292.46158,
          477.44214,
          490.7196,
          486.95782,
          408.64478,
          768.7303,
          533.7486,
          536.8025,
          473.2295,
          367.16983,
          413.36804,
          510.08127,
          324.67343,
          618.65314,
          392.13297,
          213.64633,
          319.01443,
          241.55357,
          322.13574,
          441.83755,
          235.62807,
          233.56522,
          205.2419,
          260.93097,
          379.69516,
          362.24054,
          250.36528,
          251.10751,
          273.32523,
          406.07407,
          183.42151,
          300.7561,
          343.46768,
          165.2252,
          217.97227,
          341.26273,
          297.8656,
          226.21379,
          329.95517,
          376.88608,
          196.56596,
          302.86197,
          455.07852,
          420.26093,
          240.70996,
          312.58936,
          417.06247,
          363.75964,
          491.3206,
          350.36038,
          358.1325,
          513.06,
          445.47058,
          286.54108,
          571.32574,
          485.56537,
          396.40808,
          323.41058,
          374.43262,
          278.51254,
          433.94122,
          416.45966,
          395.4417,
          474.94336,
          444.7891,
          475.66837,
          532.71185,
          375.56995
         ],
         "xaxis": "x4",
         "yaxis": "y4"
        },
        {
         "line": {
          "color": "red",
          "width": 2
         },
         "mode": "lines",
         "name": "General Extreme Fit",
         "type": "scatter",
         "x": [
          115.66292,
          122.2595602020202,
          128.8562004040404,
          135.45284060606062,
          142.0494808080808,
          148.646121010101,
          155.24276121212122,
          161.83940141414143,
          168.43604161616162,
          175.03268181818183,
          181.62932202020204,
          188.22596222222222,
          194.82260242424243,
          201.41924262626264,
          208.01588282828283,
          214.61252303030307,
          221.20916323232325,
          227.80580343434343,
          234.40244363636367,
          240.99908383838385,
          247.59572404040404,
          254.19236424242428,
          260.78900444444446,
          267.3856446464647,
          273.9822848484849,
          280.57892505050506,
          287.1755652525253,
          293.7722054545455,
          300.36884565656567,
          306.9654858585859,
          313.5621260606061,
          320.1587662626263,
          326.7554064646465,
          333.3520466666667,
          339.9486868686869,
          346.5453270707071,
          353.1419672727273,
          359.73860747474754,
          366.3352476767677,
          372.9318878787879,
          379.5285280808081,
          386.1251682828283,
          392.7218084848485,
          399.3184486868687,
          405.91508888888893,
          412.5117290909091,
          419.10836929292935,
          425.70500949494954,
          432.3016496969697,
          438.89828989898996,
          445.49493010101014,
          452.0915703030303,
          458.68821050505056,
          465.28485070707075,
          471.8814909090909,
          478.47813111111117,
          485.07477131313135,
          491.67141151515153,
          498.2680517171718,
          504.86469191919196,
          511.4613321212122,
          518.0579723232324,
          524.6546125252526,
          531.2512527272728,
          537.847892929293,
          544.4445331313132,
          551.0411733333334,
          557.6378135353536,
          564.2344537373738,
          570.831093939394,
          577.4277341414142,
          584.0243743434345,
          590.6210145454546,
          597.2176547474749,
          603.8142949494951,
          610.4109351515152,
          617.0075753535355,
          623.6042155555557,
          630.2008557575758,
          636.7974959595961,
          643.3941361616162,
          649.9907763636364,
          656.5874165656567,
          663.1840567676768,
          669.780696969697,
          676.3773371717173,
          682.9739773737374,
          689.5706175757576,
          696.1672577777779,
          702.763897979798,
          709.3605381818182,
          715.9571783838385,
          722.5538185858587,
          729.1504587878788,
          735.7470989898991,
          742.3437391919193,
          748.9403793939395,
          755.5370195959597,
          762.1336597979799,
          768.7303
         ],
         "xaxis": "x4",
         "y": [
          0.00019189823696393794,
          0.0002295783983397279,
          0.00027255738437620425,
          0.0003211724766108496,
          0.0003757135411650045,
          0.0004364117739719259,
          0.0005034290836275786,
          0.0005768485003449746,
          0.0006566659772050913,
          0.000742783910843063,
          0.0008350066547333038,
          0.0009330382320021322,
          0.0010364823794879099,
          0.00114484497427775,
          0.0012575388120350387,
          0.0013738906268840943,
          0.0014931501689457974,
          0.0016145010908643778,
          0.0017370733412690469,
          0.0018599567228171298,
          0.00198221524627117,
          0.0021029019002422665,
          0.0022210734583713553,
          0.0023358049608024184,
          0.00244620353331431,
          0.0025514212435372398,
          0.0026506667371596145,
          0.002743215445690758,
          0.002828418208948482,
          0.002905708207858551,
          0.00297460615444933,
          0.0030347237344185447,
          0.0030857653419588582,
          0.0031275281855945056,
          0.003159900876867079,
          0.003182860640392467,
          0.0031964693039579434,
          0.0032008682410577757,
          0.0031962724459090996,
          0.0031829639230485534,
          0.0031612845707103786,
          0.003131628730036958,
          0.003094435561524824,
          0.0030501813967234712,
          0.0029993721978206363,
          0.0029425362410618566,
          0.0028802171225980615,
          0.0028129671678927483,
          0.002741341308728467,
          0.0026658914755255045,
          0.002587161537434655,
          0.0025056828087221547,
          0.0024219701274857427,
          0.0023365185018174315,
          0.00224980030919455,
          0.002162263027120461,
          0.0020743274667946792,
          0.0019863864767825606,
          0.0018988040801674918,
          0.0018119150063780998,
          0.0017260245776543558,
          0.0016414089098109375,
          0.0015583153874353412,
          0.001476963374788447,
          0.001397545125329878,
          0.0013202268548520317,
          0.001245149945568874,
          0.001172432251072829,
          0.0011021694747624495,
          0.0010344365970831571,
          0.0009692893296530269,
          0.0009067655770158354,
          0.0008468868893346995,
          0.0007896598917810649,
          0.0007350776786629707,
          0.0006831211624578698,
          0.0006337603698595521,
          0.0005869556787114838,
          0.000542658991280353,
          0.0005008148407271735,
          0.0004613614288653293,
          0.00042423159436370394,
          0.00038935371146851084,
          0.00035665252009042136,
          0.00032604988874574456,
          0.000297465512363425,
          0.00027081754738530903,
          0.0002460231869070594,
          0.0002229991788422993,
          0.00020166229025365807,
          0.00018192972109125458,
          0.0001637194706209856,
          0.0001469506598202381,
          0.00013154381297503782,
          0.00011742110163708419,
          0.0001045065539978742,
          0.00009272623261565136,
          0.00008200838329411931,
          0.00007228355776394573,
          0.00006348471266270083
         ],
         "yaxis": "y4"
        }
       ],
       "layout": {
        "annotations": [
         {
          "font": {
           "size": 16
          },
          "showarrow": false,
          "text": "Normal Distribution with p_value:0.994& D:0.04",
          "x": 0.10625,
          "xanchor": "center",
          "xref": "paper",
          "y": 1.1,
          "yanchor": "bottom",
          "yref": "paper"
         },
         {
          "font": {
           "size": 16
          },
          "showarrow": false,
          "text": "Gumbel Distribution with p_value:0.668 &D:0.04",
          "x": 0.36875,
          "xanchor": "center",
          "xref": "paper",
          "y": 1.1,
          "yanchor": "bottom",
          "yref": "paper"
         },
         {
          "font": {
           "size": 16
          },
          "showarrow": false,
          "text": "Log Pearson Distribution with p_value:0.0 &D:0.04",
          "x": 0.6312500000000001,
          "xanchor": "center",
          "xref": "paper",
          "y": 1.1,
          "yanchor": "bottom",
          "yref": "paper"
         },
         {
          "font": {
           "size": 16
          },
          "showarrow": false,
          "text": "General Extreme Distribution with p_value:0.995 &D:0.04",
          "x": 0.89375,
          "xanchor": "center",
          "xref": "paper",
          "y": 1.1,
          "yanchor": "bottom",
          "yref": "paper"
         }
        ],
        "height": 500,
        "showlegend": true,
        "template": {
         "data": {
          "bar": [
           {
            "error_x": {
             "color": "#f2f5fa"
            },
            "error_y": {
             "color": "#f2f5fa"
            },
            "marker": {
             "line": {
              "color": "rgb(17,17,17)",
              "width": 0.5
             },
             "pattern": {
              "fillmode": "overlay",
              "size": 10,
              "solidity": 0.2
             }
            },
            "type": "bar"
           }
          ],
          "barpolar": [
           {
            "marker": {
             "line": {
              "color": "rgb(17,17,17)",
              "width": 0.5
             },
             "pattern": {
              "fillmode": "overlay",
              "size": 10,
              "solidity": 0.2
             }
            },
            "type": "barpolar"
           }
          ],
          "carpet": [
           {
            "aaxis": {
             "endlinecolor": "#A2B1C6",
             "gridcolor": "#506784",
             "linecolor": "#506784",
             "minorgridcolor": "#506784",
             "startlinecolor": "#A2B1C6"
            },
            "baxis": {
             "endlinecolor": "#A2B1C6",
             "gridcolor": "#506784",
             "linecolor": "#506784",
             "minorgridcolor": "#506784",
             "startlinecolor": "#A2B1C6"
            },
            "type": "carpet"
           }
          ],
          "choropleth": [
           {
            "colorbar": {
             "outlinewidth": 0,
             "ticks": ""
            },
            "type": "choropleth"
           }
          ],
          "contour": [
           {
            "colorbar": {
             "outlinewidth": 0,
             "ticks": ""
            },
            "colorscale": [
             [
              0,
              "#0d0887"
             ],
             [
              0.1111111111111111,
              "#46039f"
             ],
             [
              0.2222222222222222,
              "#7201a8"
             ],
             [
              0.3333333333333333,
              "#9c179e"
             ],
             [
              0.4444444444444444,
              "#bd3786"
             ],
             [
              0.5555555555555556,
              "#d8576b"
             ],
             [
              0.6666666666666666,
              "#ed7953"
             ],
             [
              0.7777777777777778,
              "#fb9f3a"
             ],
             [
              0.8888888888888888,
              "#fdca26"
             ],
             [
              1,
              "#f0f921"
             ]
            ],
            "type": "contour"
           }
          ],
          "contourcarpet": [
           {
            "colorbar": {
             "outlinewidth": 0,
             "ticks": ""
            },
            "type": "contourcarpet"
           }
          ],
          "heatmap": [
           {
            "colorbar": {
             "outlinewidth": 0,
             "ticks": ""
            },
            "colorscale": [
             [
              0,
              "#0d0887"
             ],
             [
              0.1111111111111111,
              "#46039f"
             ],
             [
              0.2222222222222222,
              "#7201a8"
             ],
             [
              0.3333333333333333,
              "#9c179e"
             ],
             [
              0.4444444444444444,
              "#bd3786"
             ],
             [
              0.5555555555555556,
              "#d8576b"
             ],
             [
              0.6666666666666666,
              "#ed7953"
             ],
             [
              0.7777777777777778,
              "#fb9f3a"
             ],
             [
              0.8888888888888888,
              "#fdca26"
             ],
             [
              1,
              "#f0f921"
             ]
            ],
            "type": "heatmap"
           }
          ],
          "heatmapgl": [
           {
            "colorbar": {
             "outlinewidth": 0,
             "ticks": ""
            },
            "colorscale": [
             [
              0,
              "#0d0887"
             ],
             [
              0.1111111111111111,
              "#46039f"
             ],
             [
              0.2222222222222222,
              "#7201a8"
             ],
             [
              0.3333333333333333,
              "#9c179e"
             ],
             [
              0.4444444444444444,
              "#bd3786"
             ],
             [
              0.5555555555555556,
              "#d8576b"
             ],
             [
              0.6666666666666666,
              "#ed7953"
             ],
             [
              0.7777777777777778,
              "#fb9f3a"
             ],
             [
              0.8888888888888888,
              "#fdca26"
             ],
             [
              1,
              "#f0f921"
             ]
            ],
            "type": "heatmapgl"
           }
          ],
          "histogram": [
           {
            "marker": {
             "pattern": {
              "fillmode": "overlay",
              "size": 10,
              "solidity": 0.2
             }
            },
            "type": "histogram"
           }
          ],
          "histogram2d": [
           {
            "colorbar": {
             "outlinewidth": 0,
             "ticks": ""
            },
            "colorscale": [
             [
              0,
              "#0d0887"
             ],
             [
              0.1111111111111111,
              "#46039f"
             ],
             [
              0.2222222222222222,
              "#7201a8"
             ],
             [
              0.3333333333333333,
              "#9c179e"
             ],
             [
              0.4444444444444444,
              "#bd3786"
             ],
             [
              0.5555555555555556,
              "#d8576b"
             ],
             [
              0.6666666666666666,
              "#ed7953"
             ],
             [
              0.7777777777777778,
              "#fb9f3a"
             ],
             [
              0.8888888888888888,
              "#fdca26"
             ],
             [
              1,
              "#f0f921"
             ]
            ],
            "type": "histogram2d"
           }
          ],
          "histogram2dcontour": [
           {
            "colorbar": {
             "outlinewidth": 0,
             "ticks": ""
            },
            "colorscale": [
             [
              0,
              "#0d0887"
             ],
             [
              0.1111111111111111,
              "#46039f"
             ],
             [
              0.2222222222222222,
              "#7201a8"
             ],
             [
              0.3333333333333333,
              "#9c179e"
             ],
             [
              0.4444444444444444,
              "#bd3786"
             ],
             [
              0.5555555555555556,
              "#d8576b"
             ],
             [
              0.6666666666666666,
              "#ed7953"
             ],
             [
              0.7777777777777778,
              "#fb9f3a"
             ],
             [
              0.8888888888888888,
              "#fdca26"
             ],
             [
              1,
              "#f0f921"
             ]
            ],
            "type": "histogram2dcontour"
           }
          ],
          "mesh3d": [
           {
            "colorbar": {
             "outlinewidth": 0,
             "ticks": ""
            },
            "type": "mesh3d"
           }
          ],
          "parcoords": [
           {
            "line": {
             "colorbar": {
              "outlinewidth": 0,
              "ticks": ""
             }
            },
            "type": "parcoords"
           }
          ],
          "pie": [
           {
            "automargin": true,
            "type": "pie"
           }
          ],
          "scatter": [
           {
            "marker": {
             "line": {
              "color": "#283442"
             }
            },
            "type": "scatter"
           }
          ],
          "scatter3d": [
           {
            "line": {
             "colorbar": {
              "outlinewidth": 0,
              "ticks": ""
             }
            },
            "marker": {
             "colorbar": {
              "outlinewidth": 0,
              "ticks": ""
             }
            },
            "type": "scatter3d"
           }
          ],
          "scattercarpet": [
           {
            "marker": {
             "colorbar": {
              "outlinewidth": 0,
              "ticks": ""
             }
            },
            "type": "scattercarpet"
           }
          ],
          "scattergeo": [
           {
            "marker": {
             "colorbar": {
              "outlinewidth": 0,
              "ticks": ""
             }
            },
            "type": "scattergeo"
           }
          ],
          "scattergl": [
           {
            "marker": {
             "line": {
              "color": "#283442"
             }
            },
            "type": "scattergl"
           }
          ],
          "scattermapbox": [
           {
            "marker": {
             "colorbar": {
              "outlinewidth": 0,
              "ticks": ""
             }
            },
            "type": "scattermapbox"
           }
          ],
          "scatterpolar": [
           {
            "marker": {
             "colorbar": {
              "outlinewidth": 0,
              "ticks": ""
             }
            },
            "type": "scatterpolar"
           }
          ],
          "scatterpolargl": [
           {
            "marker": {
             "colorbar": {
              "outlinewidth": 0,
              "ticks": ""
             }
            },
            "type": "scatterpolargl"
           }
          ],
          "scatterternary": [
           {
            "marker": {
             "colorbar": {
              "outlinewidth": 0,
              "ticks": ""
             }
            },
            "type": "scatterternary"
           }
          ],
          "surface": [
           {
            "colorbar": {
             "outlinewidth": 0,
             "ticks": ""
            },
            "colorscale": [
             [
              0,
              "#0d0887"
             ],
             [
              0.1111111111111111,
              "#46039f"
             ],
             [
              0.2222222222222222,
              "#7201a8"
             ],
             [
              0.3333333333333333,
              "#9c179e"
             ],
             [
              0.4444444444444444,
              "#bd3786"
             ],
             [
              0.5555555555555556,
              "#d8576b"
             ],
             [
              0.6666666666666666,
              "#ed7953"
             ],
             [
              0.7777777777777778,
              "#fb9f3a"
             ],
             [
              0.8888888888888888,
              "#fdca26"
             ],
             [
              1,
              "#f0f921"
             ]
            ],
            "type": "surface"
           }
          ],
          "table": [
           {
            "cells": {
             "fill": {
              "color": "#506784"
             },
             "line": {
              "color": "rgb(17,17,17)"
             }
            },
            "header": {
             "fill": {
              "color": "#2a3f5f"
             },
             "line": {
              "color": "rgb(17,17,17)"
             }
            },
            "type": "table"
           }
          ]
         },
         "layout": {
          "annotationdefaults": {
           "arrowcolor": "#f2f5fa",
           "arrowhead": 0,
           "arrowwidth": 1
          },
          "autotypenumbers": "strict",
          "coloraxis": {
           "colorbar": {
            "outlinewidth": 0,
            "ticks": ""
           }
          },
          "colorscale": {
           "diverging": [
            [
             0,
             "#8e0152"
            ],
            [
             0.1,
             "#c51b7d"
            ],
            [
             0.2,
             "#de77ae"
            ],
            [
             0.3,
             "#f1b6da"
            ],
            [
             0.4,
             "#fde0ef"
            ],
            [
             0.5,
             "#f7f7f7"
            ],
            [
             0.6,
             "#e6f5d0"
            ],
            [
             0.7,
             "#b8e186"
            ],
            [
             0.8,
             "#7fbc41"
            ],
            [
             0.9,
             "#4d9221"
            ],
            [
             1,
             "#276419"
            ]
           ],
           "sequential": [
            [
             0,
             "#0d0887"
            ],
            [
             0.1111111111111111,
             "#46039f"
            ],
            [
             0.2222222222222222,
             "#7201a8"
            ],
            [
             0.3333333333333333,
             "#9c179e"
            ],
            [
             0.4444444444444444,
             "#bd3786"
            ],
            [
             0.5555555555555556,
             "#d8576b"
            ],
            [
             0.6666666666666666,
             "#ed7953"
            ],
            [
             0.7777777777777778,
             "#fb9f3a"
            ],
            [
             0.8888888888888888,
             "#fdca26"
            ],
            [
             1,
             "#f0f921"
            ]
           ],
           "sequentialminus": [
            [
             0,
             "#0d0887"
            ],
            [
             0.1111111111111111,
             "#46039f"
            ],
            [
             0.2222222222222222,
             "#7201a8"
            ],
            [
             0.3333333333333333,
             "#9c179e"
            ],
            [
             0.4444444444444444,
             "#bd3786"
            ],
            [
             0.5555555555555556,
             "#d8576b"
            ],
            [
             0.6666666666666666,
             "#ed7953"
            ],
            [
             0.7777777777777778,
             "#fb9f3a"
            ],
            [
             0.8888888888888888,
             "#fdca26"
            ],
            [
             1,
             "#f0f921"
            ]
           ]
          },
          "colorway": [
           "#636efa",
           "#EF553B",
           "#00cc96",
           "#ab63fa",
           "#FFA15A",
           "#19d3f3",
           "#FF6692",
           "#B6E880",
           "#FF97FF",
           "#FECB52"
          ],
          "font": {
           "color": "#f2f5fa"
          },
          "geo": {
           "bgcolor": "rgb(17,17,17)",
           "lakecolor": "rgb(17,17,17)",
           "landcolor": "rgb(17,17,17)",
           "showlakes": true,
           "showland": true,
           "subunitcolor": "#506784"
          },
          "hoverlabel": {
           "align": "left"
          },
          "hovermode": "closest",
          "mapbox": {
           "style": "dark"
          },
          "paper_bgcolor": "rgb(17,17,17)",
          "plot_bgcolor": "rgb(17,17,17)",
          "polar": {
           "angularaxis": {
            "gridcolor": "#506784",
            "linecolor": "#506784",
            "ticks": ""
           },
           "bgcolor": "rgb(17,17,17)",
           "radialaxis": {
            "gridcolor": "#506784",
            "linecolor": "#506784",
            "ticks": ""
           }
          },
          "scene": {
           "xaxis": {
            "backgroundcolor": "rgb(17,17,17)",
            "gridcolor": "#506784",
            "gridwidth": 2,
            "linecolor": "#506784",
            "showbackground": true,
            "ticks": "",
            "zerolinecolor": "#C8D4E3"
           },
           "yaxis": {
            "backgroundcolor": "rgb(17,17,17)",
            "gridcolor": "#506784",
            "gridwidth": 2,
            "linecolor": "#506784",
            "showbackground": true,
            "ticks": "",
            "zerolinecolor": "#C8D4E3"
           },
           "zaxis": {
            "backgroundcolor": "rgb(17,17,17)",
            "gridcolor": "#506784",
            "gridwidth": 2,
            "linecolor": "#506784",
            "showbackground": true,
            "ticks": "",
            "zerolinecolor": "#C8D4E3"
           }
          },
          "shapedefaults": {
           "line": {
            "color": "#f2f5fa"
           }
          },
          "sliderdefaults": {
           "bgcolor": "#C8D4E3",
           "bordercolor": "rgb(17,17,17)",
           "borderwidth": 1,
           "tickwidth": 0
          },
          "ternary": {
           "aaxis": {
            "gridcolor": "#506784",
            "linecolor": "#506784",
            "ticks": ""
           },
           "baxis": {
            "gridcolor": "#506784",
            "linecolor": "#506784",
            "ticks": ""
           },
           "bgcolor": "rgb(17,17,17)",
           "caxis": {
            "gridcolor": "#506784",
            "linecolor": "#506784",
            "ticks": ""
           }
          },
          "title": {
           "x": 0.05
          },
          "updatemenudefaults": {
           "bgcolor": "#506784",
           "borderwidth": 0
          },
          "xaxis": {
           "automargin": true,
           "gridcolor": "#283442",
           "linecolor": "#506784",
           "ticks": "",
           "title": {
            "standoff": 15
           },
           "zerolinecolor": "#283442",
           "zerolinewidth": 2
          },
          "yaxis": {
           "automargin": true,
           "gridcolor": "#283442",
           "linecolor": "#506784",
           "ticks": "",
           "title": {
            "standoff": 15
           },
           "zerolinecolor": "#283442",
           "zerolinewidth": 2
          }
         }
        },
        "title": {
         "text": ""
        },
        "width": 2000,
        "xaxis": {
         "anchor": "y",
         "domain": [
          0,
          0.2125
         ],
         "title": {
          "text": "Values of the Fire Build Index"
         }
        },
        "xaxis2": {
         "anchor": "y2",
         "domain": [
          0.2625,
          0.475
         ],
         "title": {
          "text": "Values of the Fire Build Index"
         }
        },
        "xaxis3": {
         "anchor": "y3",
         "domain": [
          0.525,
          0.7375
         ],
         "title": {
          "text": "Values of the Fire Build Index"
         }
        },
        "xaxis4": {
         "anchor": "y4",
         "domain": [
          0.7875,
          1
         ],
         "title": {
          "text": "Values of the Fire Build Index"
         }
        },
        "yaxis": {
         "anchor": "x",
         "domain": [
          0,
          1
         ],
         "title": {
          "text": "Probability Density"
         }
        },
        "yaxis2": {
         "anchor": "x2",
         "domain": [
          0,
          1
         ],
         "title": {
          "text": "Probability Density"
         }
        },
        "yaxis3": {
         "anchor": "x3",
         "domain": [
          0,
          1
         ],
         "title": {
          "text": "Probability Density"
         }
        },
        "yaxis4": {
         "anchor": "x4",
         "domain": [
          0,
          1
         ],
         "title": {
          "text": "Probability Density"
         }
        }
       }
      }
     },
     "metadata": {},
     "output_type": "display_data"
    }
   ],
   "source": [
    "# Create subplots with 1 row and 4 columns\n",
    "fig = make_subplots(rows=1, cols=4, subplot_titles=[\n",
    "    f'Normal Distribution', f'Gumbel Distribution', f'Log Pearson Distribution', f'General Extreme Distribution'\n",
    "])\n",
    "\n",
    "# Plot Normal Distribution\n",
    "params_1 = norm.fit(data[variable])\n",
    "D, p_value_1 = kstest(data[variable], norm.cdf, params_1)\n",
    "x_range_normal = np.linspace(data[variable].min(), data[variable].max(), 100)\n",
    "fig.add_trace(go.Histogram(x=data[variable], nbinsx=30, histnorm='probability density', name='Normal', opacity=0.7), row=1, col=1)\n",
    "fig.add_trace(go.Scatter(x=x_range_normal, y=norm.pdf(x_range_normal, *params_1), mode='lines', name='Normal Fit', line=dict(color='red', width=2)), row=1, col=1)\n",
    "fig.update_xaxes(title_text=f'Values of the {variable}', row=1, col=1)\n",
    "fig.update_yaxes(title_text='Probability Density', row=1, col=1)\n",
    "fig.update_layout(title_text=f'Normal Distribution with p_value: {round(p_value_1, 3)} & D: {round(D, 2)}', showlegend=False)\n",
    "\n",
    "# Plot Gumbel Distribution\n",
    "params_2 = gumbel_r.fit(data[variable])\n",
    "D, p_value_2 = kstest(data[variable], gumbel_r.cdf, params_2)\n",
    "x_range_gumbel = np.linspace(data[variable].min(), data[variable].max(), 100)\n",
    "fig.add_trace(go.Histogram(x=data[variable], nbinsx=30, histnorm='probability density', name='Gumbel', opacity=0.7), row=1, col=2)\n",
    "fig.add_trace(go.Scatter(x=x_range_gumbel, y=gumbel_r.pdf(x_range_gumbel, *params_2), mode='lines', name='Gumbel Fit', line=dict(color='red', width=2)), row=1, col=2)\n",
    "fig.update_xaxes(title_text=f'Values of the {variable}', row=1, col=2)\n",
    "fig.update_yaxes(title_text='Probability Density', row=1, col=2)\n",
    "fig.update_layout(title_text=f'Gumbel Distribution with p_value: {round(p_value_2, 3)} & D: {round(D, 2)}', showlegend=False)\n",
    "\n",
    "# Plot Log Pearson Distribution\n",
    "params_3 = lognorm.fit(data[variable])\n",
    "D, p_value_3 = kstest(data[variable], lognorm.cdf, params_3)\n",
    "x_range_lognorm = np.linspace(data[variable].min(), data[variable].max(), 100)\n",
    "fig.add_trace(go.Histogram(x=data[variable], nbinsx=30, histnorm='probability density', name='Log Pearson', opacity=0.7), row=1, col=3)\n",
    "fig.add_trace(go.Scatter(x=x_range_lognorm, y=lognorm.pdf(x_range_lognorm, *params_3), mode='lines', name='Log Pearson Fit', line=dict(color='red', width=2)), row=1, col=3)\n",
    "fig.update_xaxes(title_text=f'Values of the {variable}', row=1, col=3)\n",
    "fig.update_yaxes(title_text='Probability Density', row=1, col=3)\n",
    "fig.update_layout(title_text=f'Log Pearson Distribution with p_value: {round(p_value_3, 3)} & D: {round(D, 2)}', showlegend=False)\n",
    "\n",
    "# Plot General Extreme Distribution\n",
    "params_4 = genextreme.fit(data[variable])\n",
    "D, p_value_4 = kstest(data[variable], genextreme.cdf, params_4)\n",
    "x_range_genextreme = np.linspace(data[variable].min(), data[variable].max(), 100)\n",
    "fig.add_trace(go.Histogram(x=data[variable], nbinsx=30, histnorm='probability density', name='General Extreme', opacity=0.7), row=1, col=4)\n",
    "fig.add_trace(go.Scatter(x=x_range_genextreme, y=genextreme.pdf(x_range_genextreme, *params_4), mode='lines', name='General Extreme Fit', line=dict(color='red', width=2)), row=1, col=4)\n",
    "fig.update_xaxes(title_text=f'Values of the {variable}', row=1, col=4)\n",
    "fig.update_yaxes(title_text='Probability Density', row=1, col=4)\n",
    "            \n",
    "\n",
    "fig.update_layout(title_text=\"\", showlegend=True, \n",
    "            height = 500,\n",
    "            width = 2000,\n",
    "            annotations = [\n",
    "            dict(text=f'Normal Distribution with p_value:{round(p_value_1,3)}& D:{round(D,2)}',y=1.1), \n",
    "            dict(text=f'Gumbel Distribution with p_value:{round(p_value_2,3)} &D:{round(D,2)}',y=1.1),\n",
    "            dict(text=f'Log Pearson Distribution with p_value:{round(p_value_3,3)} &D:{round(D,2)}',y=1.1), \n",
    "            dict(text=f'General Extreme Distribution with p_value:{round(p_value_4,3)} &D:{round(D,2)}',y=1.1),\n",
    "            ],\n",
    "            template='plotly_dark')\n",
    "\n",
    "\n",
    "# Show the plot\n",
    "fig.show()\n"
   ]
  },
  {
   "cell_type": "code",
   "execution_count": 186,
   "metadata": {},
   "outputs": [
    {
     "data": {
      "application/vnd.plotly.v1+json": {
       "config": {
        "plotlyServerURL": "https://plot.ly"
       },
       "data": [
        {
         "mode": "lines",
         "name": "Time Series",
         "type": "scatter",
         "x": [
          1940,
          1941,
          1942,
          1943,
          1944,
          1945,
          1946,
          1947,
          1948,
          1949,
          1950,
          1951,
          1952,
          1953,
          1954,
          1955,
          1956,
          1957,
          1958,
          1959,
          1960,
          1961,
          1962,
          1963,
          1964,
          1965,
          1966,
          1967,
          1968,
          1969,
          1970,
          1971,
          1972,
          1973,
          1974,
          1975,
          1976,
          1977,
          1978,
          1979,
          1980,
          1981,
          1982,
          1983,
          1984,
          1985,
          1986,
          1987,
          1988,
          1989,
          1990,
          1991,
          1992,
          1993,
          1994,
          1995,
          1996,
          1997,
          1998,
          1999,
          2000,
          2001,
          2002,
          2003,
          2004,
          2005,
          2006,
          2007,
          2008,
          2009,
          2010,
          2011,
          2012,
          2013,
          2014,
          2015,
          2016,
          2017,
          2018,
          2019,
          2020,
          2021,
          2022,
          2023
         ],
         "y": [
          409.289,
          115.66292,
          654.6723,
          262.29773,
          578.3747,
          404.14612,
          368.9193,
          215.4239,
          430.702,
          568.9708,
          469.90512,
          481.46674,
          544.2848,
          423.50107,
          579.0638,
          634.51105,
          292.46158,
          477.44214,
          490.7196,
          486.95782,
          408.64478,
          768.7303,
          533.7486,
          536.8025,
          473.2295,
          367.16983,
          413.36804,
          510.08127,
          324.67343,
          618.65314,
          392.13297,
          213.64633,
          319.01443,
          241.55357,
          322.13574,
          441.83755,
          235.62807,
          233.56522,
          205.2419,
          260.93097,
          379.69516,
          362.24054,
          250.36528,
          251.10751,
          273.32523,
          406.07407,
          183.42151,
          300.7561,
          343.46768,
          165.2252,
          217.97227,
          341.26273,
          297.8656,
          226.21379,
          329.95517,
          376.88608,
          196.56596,
          302.86197,
          455.07852,
          420.26093,
          240.70996,
          312.58936,
          417.06247,
          363.75964,
          491.3206,
          350.36038,
          358.1325,
          513.06,
          445.47058,
          286.54108,
          571.32574,
          485.56537,
          396.40808,
          323.41058,
          374.43262,
          278.51254,
          433.94122,
          416.45966,
          395.4417,
          474.94336,
          444.7891,
          475.66837,
          532.71185,
          375.56995
         ]
        },
        {
         "line": {
          "color": "red"
         },
         "mode": "lines",
         "name": "Trend Line",
         "type": "scatter",
         "x": [
          1940,
          1941,
          1942,
          1943,
          1944,
          1945,
          1946,
          1947,
          1948,
          1949,
          1950,
          1951,
          1952,
          1953,
          1954,
          1955,
          1956,
          1957,
          1958,
          1959,
          1960,
          1961,
          1962,
          1963,
          1964,
          1965,
          1966,
          1967,
          1968,
          1969,
          1970,
          1971,
          1972,
          1973,
          1974,
          1975,
          1976,
          1977,
          1978,
          1979,
          1980,
          1981,
          1982,
          1983,
          1984,
          1985,
          1986,
          1987,
          1988,
          1989,
          1990,
          1991,
          1992,
          1993,
          1994,
          1995,
          1996,
          1997,
          1998,
          1999,
          2000,
          2001,
          2002,
          2003,
          2004,
          2005,
          2006,
          2007,
          2008,
          2009,
          2010,
          2011,
          2012,
          2013,
          2014,
          2015,
          2016,
          2017,
          2018,
          2019,
          2020,
          2021,
          2022,
          2023
         ],
         "y": [
          null,
          null,
          null,
          null,
          null,
          null,
          null,
          null,
          null,
          null,
          null,
          null,
          null,
          null,
          null,
          null,
          null,
          null,
          null,
          444.43862449999995,
          444.4064135,
          477.0597825000001,
          471.0135975,
          484.738836,
          479.481576,
          477.6327615,
          479.85519850000003,
          494.58806699999997,
          489.28663850000004,
          491.77075550000006,
          487.882148,
          474.49112749999995,
          463.22760900000003,
          454.13023400000003,
          441.283831,
          431.650156,
          428.80848050000003,
          416.6146345,
          402.3407495,
          391.039407,
          389.591926,
          369.26743799999997,
          355.098272,
          340.8135225,
          330.818309,
          332.76352099999997,
          321.2661945,
          310.799936,
          311.73964850000004,
          289.0682515,
          280.36021650000004,
          286.74103649999995,
          285.68359499999997,
          284.916606,
          285.3075775,
          282.060004,
          280.1068985,
          283.571736,
          296.063567,
          304.03006500000004,
          297.080805,
          294.598246,
          302.9331055,
          308.565712,
          319.4654805,
          316.679796,
          325.4153455,
          336.03054050000003,
          341.13068549999997,
          347.1964795,
          364.864153,
          372.079285,
          377.006409,
          381.8662485,
          384.090121,
          379.171444,
          391.040207,
          396.72009149999997,
          393.7382505,
          396.472372,
          406.676329,
          414.83027949999996,
          420.6127485,
          421.20326399999993
         ]
        }
       ],
       "layout": {
        "template": {
         "data": {
          "bar": [
           {
            "error_x": {
             "color": "#f2f5fa"
            },
            "error_y": {
             "color": "#f2f5fa"
            },
            "marker": {
             "line": {
              "color": "rgb(17,17,17)",
              "width": 0.5
             },
             "pattern": {
              "fillmode": "overlay",
              "size": 10,
              "solidity": 0.2
             }
            },
            "type": "bar"
           }
          ],
          "barpolar": [
           {
            "marker": {
             "line": {
              "color": "rgb(17,17,17)",
              "width": 0.5
             },
             "pattern": {
              "fillmode": "overlay",
              "size": 10,
              "solidity": 0.2
             }
            },
            "type": "barpolar"
           }
          ],
          "carpet": [
           {
            "aaxis": {
             "endlinecolor": "#A2B1C6",
             "gridcolor": "#506784",
             "linecolor": "#506784",
             "minorgridcolor": "#506784",
             "startlinecolor": "#A2B1C6"
            },
            "baxis": {
             "endlinecolor": "#A2B1C6",
             "gridcolor": "#506784",
             "linecolor": "#506784",
             "minorgridcolor": "#506784",
             "startlinecolor": "#A2B1C6"
            },
            "type": "carpet"
           }
          ],
          "choropleth": [
           {
            "colorbar": {
             "outlinewidth": 0,
             "ticks": ""
            },
            "type": "choropleth"
           }
          ],
          "contour": [
           {
            "colorbar": {
             "outlinewidth": 0,
             "ticks": ""
            },
            "colorscale": [
             [
              0,
              "#0d0887"
             ],
             [
              0.1111111111111111,
              "#46039f"
             ],
             [
              0.2222222222222222,
              "#7201a8"
             ],
             [
              0.3333333333333333,
              "#9c179e"
             ],
             [
              0.4444444444444444,
              "#bd3786"
             ],
             [
              0.5555555555555556,
              "#d8576b"
             ],
             [
              0.6666666666666666,
              "#ed7953"
             ],
             [
              0.7777777777777778,
              "#fb9f3a"
             ],
             [
              0.8888888888888888,
              "#fdca26"
             ],
             [
              1,
              "#f0f921"
             ]
            ],
            "type": "contour"
           }
          ],
          "contourcarpet": [
           {
            "colorbar": {
             "outlinewidth": 0,
             "ticks": ""
            },
            "type": "contourcarpet"
           }
          ],
          "heatmap": [
           {
            "colorbar": {
             "outlinewidth": 0,
             "ticks": ""
            },
            "colorscale": [
             [
              0,
              "#0d0887"
             ],
             [
              0.1111111111111111,
              "#46039f"
             ],
             [
              0.2222222222222222,
              "#7201a8"
             ],
             [
              0.3333333333333333,
              "#9c179e"
             ],
             [
              0.4444444444444444,
              "#bd3786"
             ],
             [
              0.5555555555555556,
              "#d8576b"
             ],
             [
              0.6666666666666666,
              "#ed7953"
             ],
             [
              0.7777777777777778,
              "#fb9f3a"
             ],
             [
              0.8888888888888888,
              "#fdca26"
             ],
             [
              1,
              "#f0f921"
             ]
            ],
            "type": "heatmap"
           }
          ],
          "heatmapgl": [
           {
            "colorbar": {
             "outlinewidth": 0,
             "ticks": ""
            },
            "colorscale": [
             [
              0,
              "#0d0887"
             ],
             [
              0.1111111111111111,
              "#46039f"
             ],
             [
              0.2222222222222222,
              "#7201a8"
             ],
             [
              0.3333333333333333,
              "#9c179e"
             ],
             [
              0.4444444444444444,
              "#bd3786"
             ],
             [
              0.5555555555555556,
              "#d8576b"
             ],
             [
              0.6666666666666666,
              "#ed7953"
             ],
             [
              0.7777777777777778,
              "#fb9f3a"
             ],
             [
              0.8888888888888888,
              "#fdca26"
             ],
             [
              1,
              "#f0f921"
             ]
            ],
            "type": "heatmapgl"
           }
          ],
          "histogram": [
           {
            "marker": {
             "pattern": {
              "fillmode": "overlay",
              "size": 10,
              "solidity": 0.2
             }
            },
            "type": "histogram"
           }
          ],
          "histogram2d": [
           {
            "colorbar": {
             "outlinewidth": 0,
             "ticks": ""
            },
            "colorscale": [
             [
              0,
              "#0d0887"
             ],
             [
              0.1111111111111111,
              "#46039f"
             ],
             [
              0.2222222222222222,
              "#7201a8"
             ],
             [
              0.3333333333333333,
              "#9c179e"
             ],
             [
              0.4444444444444444,
              "#bd3786"
             ],
             [
              0.5555555555555556,
              "#d8576b"
             ],
             [
              0.6666666666666666,
              "#ed7953"
             ],
             [
              0.7777777777777778,
              "#fb9f3a"
             ],
             [
              0.8888888888888888,
              "#fdca26"
             ],
             [
              1,
              "#f0f921"
             ]
            ],
            "type": "histogram2d"
           }
          ],
          "histogram2dcontour": [
           {
            "colorbar": {
             "outlinewidth": 0,
             "ticks": ""
            },
            "colorscale": [
             [
              0,
              "#0d0887"
             ],
             [
              0.1111111111111111,
              "#46039f"
             ],
             [
              0.2222222222222222,
              "#7201a8"
             ],
             [
              0.3333333333333333,
              "#9c179e"
             ],
             [
              0.4444444444444444,
              "#bd3786"
             ],
             [
              0.5555555555555556,
              "#d8576b"
             ],
             [
              0.6666666666666666,
              "#ed7953"
             ],
             [
              0.7777777777777778,
              "#fb9f3a"
             ],
             [
              0.8888888888888888,
              "#fdca26"
             ],
             [
              1,
              "#f0f921"
             ]
            ],
            "type": "histogram2dcontour"
           }
          ],
          "mesh3d": [
           {
            "colorbar": {
             "outlinewidth": 0,
             "ticks": ""
            },
            "type": "mesh3d"
           }
          ],
          "parcoords": [
           {
            "line": {
             "colorbar": {
              "outlinewidth": 0,
              "ticks": ""
             }
            },
            "type": "parcoords"
           }
          ],
          "pie": [
           {
            "automargin": true,
            "type": "pie"
           }
          ],
          "scatter": [
           {
            "marker": {
             "line": {
              "color": "#283442"
             }
            },
            "type": "scatter"
           }
          ],
          "scatter3d": [
           {
            "line": {
             "colorbar": {
              "outlinewidth": 0,
              "ticks": ""
             }
            },
            "marker": {
             "colorbar": {
              "outlinewidth": 0,
              "ticks": ""
             }
            },
            "type": "scatter3d"
           }
          ],
          "scattercarpet": [
           {
            "marker": {
             "colorbar": {
              "outlinewidth": 0,
              "ticks": ""
             }
            },
            "type": "scattercarpet"
           }
          ],
          "scattergeo": [
           {
            "marker": {
             "colorbar": {
              "outlinewidth": 0,
              "ticks": ""
             }
            },
            "type": "scattergeo"
           }
          ],
          "scattergl": [
           {
            "marker": {
             "line": {
              "color": "#283442"
             }
            },
            "type": "scattergl"
           }
          ],
          "scattermapbox": [
           {
            "marker": {
             "colorbar": {
              "outlinewidth": 0,
              "ticks": ""
             }
            },
            "type": "scattermapbox"
           }
          ],
          "scatterpolar": [
           {
            "marker": {
             "colorbar": {
              "outlinewidth": 0,
              "ticks": ""
             }
            },
            "type": "scatterpolar"
           }
          ],
          "scatterpolargl": [
           {
            "marker": {
             "colorbar": {
              "outlinewidth": 0,
              "ticks": ""
             }
            },
            "type": "scatterpolargl"
           }
          ],
          "scatterternary": [
           {
            "marker": {
             "colorbar": {
              "outlinewidth": 0,
              "ticks": ""
             }
            },
            "type": "scatterternary"
           }
          ],
          "surface": [
           {
            "colorbar": {
             "outlinewidth": 0,
             "ticks": ""
            },
            "colorscale": [
             [
              0,
              "#0d0887"
             ],
             [
              0.1111111111111111,
              "#46039f"
             ],
             [
              0.2222222222222222,
              "#7201a8"
             ],
             [
              0.3333333333333333,
              "#9c179e"
             ],
             [
              0.4444444444444444,
              "#bd3786"
             ],
             [
              0.5555555555555556,
              "#d8576b"
             ],
             [
              0.6666666666666666,
              "#ed7953"
             ],
             [
              0.7777777777777778,
              "#fb9f3a"
             ],
             [
              0.8888888888888888,
              "#fdca26"
             ],
             [
              1,
              "#f0f921"
             ]
            ],
            "type": "surface"
           }
          ],
          "table": [
           {
            "cells": {
             "fill": {
              "color": "#506784"
             },
             "line": {
              "color": "rgb(17,17,17)"
             }
            },
            "header": {
             "fill": {
              "color": "#2a3f5f"
             },
             "line": {
              "color": "rgb(17,17,17)"
             }
            },
            "type": "table"
           }
          ]
         },
         "layout": {
          "annotationdefaults": {
           "arrowcolor": "#f2f5fa",
           "arrowhead": 0,
           "arrowwidth": 1
          },
          "autotypenumbers": "strict",
          "coloraxis": {
           "colorbar": {
            "outlinewidth": 0,
            "ticks": ""
           }
          },
          "colorscale": {
           "diverging": [
            [
             0,
             "#8e0152"
            ],
            [
             0.1,
             "#c51b7d"
            ],
            [
             0.2,
             "#de77ae"
            ],
            [
             0.3,
             "#f1b6da"
            ],
            [
             0.4,
             "#fde0ef"
            ],
            [
             0.5,
             "#f7f7f7"
            ],
            [
             0.6,
             "#e6f5d0"
            ],
            [
             0.7,
             "#b8e186"
            ],
            [
             0.8,
             "#7fbc41"
            ],
            [
             0.9,
             "#4d9221"
            ],
            [
             1,
             "#276419"
            ]
           ],
           "sequential": [
            [
             0,
             "#0d0887"
            ],
            [
             0.1111111111111111,
             "#46039f"
            ],
            [
             0.2222222222222222,
             "#7201a8"
            ],
            [
             0.3333333333333333,
             "#9c179e"
            ],
            [
             0.4444444444444444,
             "#bd3786"
            ],
            [
             0.5555555555555556,
             "#d8576b"
            ],
            [
             0.6666666666666666,
             "#ed7953"
            ],
            [
             0.7777777777777778,
             "#fb9f3a"
            ],
            [
             0.8888888888888888,
             "#fdca26"
            ],
            [
             1,
             "#f0f921"
            ]
           ],
           "sequentialminus": [
            [
             0,
             "#0d0887"
            ],
            [
             0.1111111111111111,
             "#46039f"
            ],
            [
             0.2222222222222222,
             "#7201a8"
            ],
            [
             0.3333333333333333,
             "#9c179e"
            ],
            [
             0.4444444444444444,
             "#bd3786"
            ],
            [
             0.5555555555555556,
             "#d8576b"
            ],
            [
             0.6666666666666666,
             "#ed7953"
            ],
            [
             0.7777777777777778,
             "#fb9f3a"
            ],
            [
             0.8888888888888888,
             "#fdca26"
            ],
            [
             1,
             "#f0f921"
            ]
           ]
          },
          "colorway": [
           "#636efa",
           "#EF553B",
           "#00cc96",
           "#ab63fa",
           "#FFA15A",
           "#19d3f3",
           "#FF6692",
           "#B6E880",
           "#FF97FF",
           "#FECB52"
          ],
          "font": {
           "color": "#f2f5fa"
          },
          "geo": {
           "bgcolor": "rgb(17,17,17)",
           "lakecolor": "rgb(17,17,17)",
           "landcolor": "rgb(17,17,17)",
           "showlakes": true,
           "showland": true,
           "subunitcolor": "#506784"
          },
          "hoverlabel": {
           "align": "left"
          },
          "hovermode": "closest",
          "mapbox": {
           "style": "dark"
          },
          "paper_bgcolor": "rgb(17,17,17)",
          "plot_bgcolor": "rgb(17,17,17)",
          "polar": {
           "angularaxis": {
            "gridcolor": "#506784",
            "linecolor": "#506784",
            "ticks": ""
           },
           "bgcolor": "rgb(17,17,17)",
           "radialaxis": {
            "gridcolor": "#506784",
            "linecolor": "#506784",
            "ticks": ""
           }
          },
          "scene": {
           "xaxis": {
            "backgroundcolor": "rgb(17,17,17)",
            "gridcolor": "#506784",
            "gridwidth": 2,
            "linecolor": "#506784",
            "showbackground": true,
            "ticks": "",
            "zerolinecolor": "#C8D4E3"
           },
           "yaxis": {
            "backgroundcolor": "rgb(17,17,17)",
            "gridcolor": "#506784",
            "gridwidth": 2,
            "linecolor": "#506784",
            "showbackground": true,
            "ticks": "",
            "zerolinecolor": "#C8D4E3"
           },
           "zaxis": {
            "backgroundcolor": "rgb(17,17,17)",
            "gridcolor": "#506784",
            "gridwidth": 2,
            "linecolor": "#506784",
            "showbackground": true,
            "ticks": "",
            "zerolinecolor": "#C8D4E3"
           }
          },
          "shapedefaults": {
           "line": {
            "color": "#f2f5fa"
           }
          },
          "sliderdefaults": {
           "bgcolor": "#C8D4E3",
           "bordercolor": "rgb(17,17,17)",
           "borderwidth": 1,
           "tickwidth": 0
          },
          "ternary": {
           "aaxis": {
            "gridcolor": "#506784",
            "linecolor": "#506784",
            "ticks": ""
           },
           "baxis": {
            "gridcolor": "#506784",
            "linecolor": "#506784",
            "ticks": ""
           },
           "bgcolor": "rgb(17,17,17)",
           "caxis": {
            "gridcolor": "#506784",
            "linecolor": "#506784",
            "ticks": ""
           }
          },
          "title": {
           "x": 0.05
          },
          "updatemenudefaults": {
           "bgcolor": "#506784",
           "borderwidth": 0
          },
          "xaxis": {
           "automargin": true,
           "gridcolor": "#283442",
           "linecolor": "#506784",
           "ticks": "",
           "title": {
            "standoff": 15
           },
           "zerolinecolor": "#283442",
           "zerolinewidth": 2
          },
          "yaxis": {
           "automargin": true,
           "gridcolor": "#283442",
           "linecolor": "#506784",
           "ticks": "",
           "title": {
            "standoff": 15
           },
           "zerolinecolor": "#283442",
           "zerolinewidth": 2
          }
         }
        },
        "title": {
         "text": "Time Series Plot for Fire Build Index"
        },
        "xaxis": {
         "title": {
          "text": "Time"
         }
        },
        "yaxis": {
         "title": {
          "text": "Fire Build Index"
         }
        }
       }
      }
     },
     "metadata": {},
     "output_type": "display_data"
    }
   ],
   "source": [
    "# Create a time series plot with Plotly Graph Objects\n",
    "figure = go.Figure()\n",
    "\n",
    "# Add a scatter trace\n",
    "figure.add_trace(go.Scatter(x=data['Year'], y=data[variable], mode='lines', name='Time Series'))\n",
    "# Add trendline\n",
    "figure.add_trace(go.Scatter(x=data['Year'], y=data[variable].rolling(window=20).mean(), \n",
    "                         mode='lines', name='Trend Line', line=dict(color='red')))\n",
    "\n",
    "# Customize the layout if needed\n",
    "figure.update_layout(\n",
    "    title=f'Time Series Plot for {variable}',\n",
    "    xaxis_title='Time',\n",
    "    yaxis_title=variable,\n",
    "    template='plotly_dark',  # You can choose a different template if desired\n",
    ")\n",
    "\n",
    "# Show the plot\n",
    "figure.show()"
   ]
  },
  {
   "cell_type": "markdown",
   "metadata": {},
   "source": []
  },
  {
   "cell_type": "code",
   "execution_count": 188,
   "metadata": {},
   "outputs": [
    {
     "data": {
      "text/plain": [
       "(0.17539727199935162, 337.4820747325481, 116.82797437535247)"
      ]
     },
     "execution_count": 188,
     "metadata": {},
     "output_type": "execute_result"
    }
   ],
   "source": [
    "params_4"
   ]
  },
  {
   "cell_type": "code",
   "execution_count": 137,
   "metadata": {},
   "outputs": [
    {
     "name": "stdout",
     "output_type": "stream",
     "text": [
      "Estimated value for a 2-year return period: -3.369527871429053\n",
      "Estimated value for a 5-year return period: -4.129328738837346\n",
      "Estimated value for a 10-year return period: -4.133296122689199\n",
      "Estimated value for a 50-year return period: -4.133424575826062\n"
     ]
    }
   ],
   "source": [
    "from scipy.stats import genextreme\n",
    "import numpy as np\n",
    "\n",
    "\n",
    "# Return periods (in years)\n",
    "return_periods = [2, 5, 10, 50]\n",
    "\n",
    "# Function to estimate the values corresponding to return periods\n",
    "def estimate_values_from_return_periods(return_periods, params):\n",
    "    location, scale, shape = params\n",
    "    return location + scale * ((-np.log(1 - 1/np.array(return_periods))) ** shape - 1) / shape\n",
    "\n",
    "# Estimate the values corresponding to the given return periods\n",
    "estimated_values = estimate_values_from_return_periods(return_periods, params_4)\n",
    "\n",
    "# Print the results\n",
    "for period, value in zip(return_periods, estimated_values):\n",
    "    print(f\"Estimated value for a {period}-year return period: {value}\")\n"
   ]
  },
  {
   "cell_type": "code",
   "execution_count": 192,
   "metadata": {},
   "outputs": [
    {
     "data": {
      "text/html": [
       "<div>\n",
       "<style scoped>\n",
       "    .dataframe tbody tr th:only-of-type {\n",
       "        vertical-align: middle;\n",
       "    }\n",
       "\n",
       "    .dataframe tbody tr th {\n",
       "        vertical-align: top;\n",
       "    }\n",
       "\n",
       "    .dataframe thead th {\n",
       "        text-align: right;\n",
       "    }\n",
       "</style>\n",
       "<table border=\"1\" class=\"dataframe\">\n",
       "  <thead>\n",
       "    <tr style=\"text-align: right;\">\n",
       "      <th></th>\n",
       "      <th>Year</th>\n",
       "      <th>Initial Spead Index</th>\n",
       "    </tr>\n",
       "  </thead>\n",
       "  <tbody>\n",
       "    <tr>\n",
       "      <th>0</th>\n",
       "      <td>1940</td>\n",
       "      <td>20.40</td>\n",
       "    </tr>\n",
       "    <tr>\n",
       "      <th>1</th>\n",
       "      <td>1941</td>\n",
       "      <td>17.42</td>\n",
       "    </tr>\n",
       "    <tr>\n",
       "      <th>2</th>\n",
       "      <td>1942</td>\n",
       "      <td>28.97</td>\n",
       "    </tr>\n",
       "    <tr>\n",
       "      <th>3</th>\n",
       "      <td>1943</td>\n",
       "      <td>20.22</td>\n",
       "    </tr>\n",
       "    <tr>\n",
       "      <th>4</th>\n",
       "      <td>1944</td>\n",
       "      <td>30.63</td>\n",
       "    </tr>\n",
       "    <tr>\n",
       "      <th>...</th>\n",
       "      <td>...</td>\n",
       "      <td>...</td>\n",
       "    </tr>\n",
       "    <tr>\n",
       "      <th>79</th>\n",
       "      <td>2019</td>\n",
       "      <td>26.41</td>\n",
       "    </tr>\n",
       "    <tr>\n",
       "      <th>80</th>\n",
       "      <td>2020</td>\n",
       "      <td>23.13</td>\n",
       "    </tr>\n",
       "    <tr>\n",
       "      <th>81</th>\n",
       "      <td>2021</td>\n",
       "      <td>17.83</td>\n",
       "    </tr>\n",
       "    <tr>\n",
       "      <th>82</th>\n",
       "      <td>2022</td>\n",
       "      <td>22.36</td>\n",
       "    </tr>\n",
       "    <tr>\n",
       "      <th>83</th>\n",
       "      <td>2023</td>\n",
       "      <td>17.26</td>\n",
       "    </tr>\n",
       "  </tbody>\n",
       "</table>\n",
       "<p>84 rows × 2 columns</p>\n",
       "</div>"
      ],
      "text/plain": [
       "    Year  Initial Spead Index\n",
       "0   1940                20.40\n",
       "1   1941                17.42\n",
       "2   1942                28.97\n",
       "3   1943                20.22\n",
       "4   1944                30.63\n",
       "..   ...                  ...\n",
       "79  2019                26.41\n",
       "80  2020                23.13\n",
       "81  2021                17.83\n",
       "82  2022                22.36\n",
       "83  2023                17.26\n",
       "\n",
       "[84 rows x 2 columns]"
      ]
     },
     "execution_count": 192,
     "metadata": {},
     "output_type": "execute_result"
    }
   ],
   "source": [
    "ISI = data_1.groupby('Year')['Initial Spead Index'].max()\n",
    "ISI = pd.DataFrame(ISI).reset_index()\n",
    "ISI"
   ]
  },
  {
   "cell_type": "code",
   "execution_count": 193,
   "metadata": {},
   "outputs": [],
   "source": [
    "params_5 = genextreme.fit(data[variable])\n",
    "params_6 = genextreme.fit(ISI['Initial Spead Index'])"
   ]
  },
  {
   "cell_type": "code",
   "execution_count": 194,
   "metadata": {},
   "outputs": [
    {
     "data": {
      "text/plain": [
       "(0.17539727199935162, 337.4820747325481, 116.82797437535247)"
      ]
     },
     "execution_count": 194,
     "metadata": {},
     "output_type": "execute_result"
    }
   ],
   "source": [
    "params_5"
   ]
  },
  {
   "cell_type": "code",
   "execution_count": 195,
   "metadata": {},
   "outputs": [
    {
     "data": {
      "text/plain": [
       "(0.009427100639550802, 19.110781718742807, 4.612953327798838)"
      ]
     },
     "execution_count": 195,
     "metadata": {},
     "output_type": "execute_result"
    }
   ],
   "source": [
    "params_6"
   ]
  },
  {
   "cell_type": "code",
   "execution_count": 196,
   "metadata": {},
   "outputs": [
    {
     "data": {
      "text/plain": [
       "37.67"
      ]
     },
     "execution_count": 196,
     "metadata": {},
     "output_type": "execute_result"
    }
   ],
   "source": [
    "ISI['Initial Spead Index'].max()"
   ]
  },
  {
   "cell_type": "code",
   "execution_count": 197,
   "metadata": {},
   "outputs": [],
   "source": [
    "# Define a grid of values for the joint distribution\n",
    "x, y = np.meshgrid(np.linspace(ISI['Initial Spead Index'].min(), ISI['Initial Spead Index'].max(), 100), np.linspace(data[variable].min(), data[variable].max(), 100))"
   ]
  },
  {
   "cell_type": "code",
   "execution_count": 202,
   "metadata": {},
   "outputs": [
    {
     "ename": "TypeError",
     "evalue": "_parse_args() takes from 2 to 4 positional arguments but 7 were given",
     "output_type": "error",
     "traceback": [
      "\u001b[1;31m---------------------------------------------------------------------------\u001b[0m",
      "\u001b[1;31mTypeError\u001b[0m                                 Traceback (most recent call last)",
      "Cell \u001b[1;32mIn[202], line 1\u001b[0m\n\u001b[1;32m----> 1\u001b[0m joint_distribution \u001b[38;5;241m=\u001b[39m \u001b[43mgenextreme\u001b[49m\u001b[38;5;241;43m.\u001b[39;49m\u001b[43mcdf\u001b[49m\u001b[43m(\u001b[49m\u001b[43mnp\u001b[49m\u001b[38;5;241;43m.\u001b[39;49m\u001b[43mcolumn_stack\u001b[49m\u001b[43m(\u001b[49m\u001b[43m(\u001b[49m\u001b[43mx\u001b[49m\u001b[38;5;241;43m.\u001b[39;49m\u001b[43mravel\u001b[49m\u001b[43m(\u001b[49m\u001b[43m)\u001b[49m\u001b[43m,\u001b[49m\u001b[43m \u001b[49m\u001b[43my\u001b[49m\u001b[38;5;241;43m.\u001b[39;49m\u001b[43mravel\u001b[49m\u001b[43m(\u001b[49m\u001b[43m)\u001b[49m\u001b[43m)\u001b[49m\u001b[43m)\u001b[49m\u001b[43m,\u001b[49m\u001b[43m \u001b[49m\u001b[38;5;241;43m*\u001b[39;49m\u001b[43mparams_5\u001b[49m\u001b[43m,\u001b[49m\u001b[43m \u001b[49m\u001b[38;5;241;43m*\u001b[39;49m\u001b[43mparams_6\u001b[49m\u001b[43m)\u001b[49m\u001b[38;5;241m.\u001b[39mreshape(\u001b[38;5;241m100\u001b[39m, \u001b[38;5;241m100\u001b[39m)\n",
      "File \u001b[1;32mc:\\Users\\LENOVO\\anaconda3\\envs\\hydromt\\Lib\\site-packages\\scipy\\stats\\_distn_infrastructure.py:2171\u001b[0m, in \u001b[0;36mrv_continuous.cdf\u001b[1;34m(self, x, *args, **kwds)\u001b[0m\n\u001b[0;32m   2149\u001b[0m \u001b[38;5;28;01mdef\u001b[39;00m \u001b[38;5;21mcdf\u001b[39m(\u001b[38;5;28mself\u001b[39m, x, \u001b[38;5;241m*\u001b[39margs, \u001b[38;5;241m*\u001b[39m\u001b[38;5;241m*\u001b[39mkwds):\n\u001b[0;32m   2150\u001b[0m \u001b[38;5;250m    \u001b[39m\u001b[38;5;124;03m\"\"\"\u001b[39;00m\n\u001b[0;32m   2151\u001b[0m \u001b[38;5;124;03m    Cumulative distribution function of the given RV.\u001b[39;00m\n\u001b[0;32m   2152\u001b[0m \n\u001b[1;32m   (...)\u001b[0m\n\u001b[0;32m   2169\u001b[0m \n\u001b[0;32m   2170\u001b[0m \u001b[38;5;124;03m    \"\"\"\u001b[39;00m\n\u001b[1;32m-> 2171\u001b[0m     args, loc, scale \u001b[38;5;241m=\u001b[39m \u001b[38;5;28;43mself\u001b[39;49m\u001b[38;5;241;43m.\u001b[39;49m\u001b[43m_parse_args\u001b[49m\u001b[43m(\u001b[49m\u001b[38;5;241;43m*\u001b[39;49m\u001b[43margs\u001b[49m\u001b[43m,\u001b[49m\u001b[43m \u001b[49m\u001b[38;5;241;43m*\u001b[39;49m\u001b[38;5;241;43m*\u001b[39;49m\u001b[43mkwds\u001b[49m\u001b[43m)\u001b[49m\n\u001b[0;32m   2172\u001b[0m     x, loc, scale \u001b[38;5;241m=\u001b[39m \u001b[38;5;28mmap\u001b[39m(asarray, (x, loc, scale))\n\u001b[0;32m   2173\u001b[0m     args \u001b[38;5;241m=\u001b[39m \u001b[38;5;28mtuple\u001b[39m(\u001b[38;5;28mmap\u001b[39m(asarray, args))\n",
      "\u001b[1;31mTypeError\u001b[0m: _parse_args() takes from 2 to 4 positional arguments but 7 were given"
     ]
    }
   ],
   "source": [
    "joint_distribution = genextreme.cdf(np.column_stack((x.ravel(), y.ravel())), *params_5, *params_6).reshape(100, 100)"
   ]
  },
  {
   "cell_type": "code",
   "execution_count": null,
   "metadata": {},
   "outputs": [],
   "source": []
  }
 ],
 "metadata": {
  "kernelspec": {
   "display_name": "hydromt",
   "language": "python",
   "name": "python3"
  },
  "language_info": {
   "codemirror_mode": {
    "name": "ipython",
    "version": 3
   },
   "file_extension": ".py",
   "mimetype": "text/x-python",
   "name": "python",
   "nbconvert_exporter": "python",
   "pygments_lexer": "ipython3",
   "version": "3.11.3"
  }
 },
 "nbformat": 4,
 "nbformat_minor": 2
}
