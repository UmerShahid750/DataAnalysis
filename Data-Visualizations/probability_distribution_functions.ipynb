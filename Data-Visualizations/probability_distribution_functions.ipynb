{
 "cells": [
  {
   "cell_type": "code",
   "execution_count": 124,
   "metadata": {},
   "outputs": [],
   "source": [
    "import numpy as np\n",
    "import pandas as pd\n",
    "import matplotlib.pyplot as plt\n",
    "from scipy.stats import norm, gumbel_r, lognorm, genextreme, poisson, geom\n",
    "from scipy.stats import probplot, kstest\n",
    "from plotly.subplots import make_subplots\n",
    "import plotly.graph_objects as go"
   ]
  },
  {
   "cell_type": "code",
   "execution_count": 125,
   "metadata": {},
   "outputs": [
    {
     "data": {
      "text/plain": [
       "'C:/Users/LENOVO/OneDrive/inFarmer/4. Proposal & Presentations/Proposals/Forest_Fire/Brazil_Forest_Data/Lower Forest Data'"
      ]
     },
     "execution_count": 125,
     "metadata": {},
     "output_type": "execute_result"
    }
   ],
   "source": [
    "path = r'C:\\Users\\LENOVO\\OneDrive\\inFarmer\\4. Proposal & Presentations\\Proposals\\Forest_Fire\\Brazil_Forest_Data\\Lower Forest Data'\n",
    "path = path.replace(\"\\\\\",\"/\")\n",
    "path"
   ]
  },
  {
   "cell_type": "code",
   "execution_count": 126,
   "metadata": {},
   "outputs": [
    {
     "data": {
      "text/html": [
       "<div>\n",
       "<style scoped>\n",
       "    .dataframe tbody tr th:only-of-type {\n",
       "        vertical-align: middle;\n",
       "    }\n",
       "\n",
       "    .dataframe tbody tr th {\n",
       "        vertical-align: top;\n",
       "    }\n",
       "\n",
       "    .dataframe thead th {\n",
       "        text-align: right;\n",
       "    }\n",
       "</style>\n",
       "<table border=\"1\" class=\"dataframe\">\n",
       "  <thead>\n",
       "    <tr style=\"text-align: right;\">\n",
       "      <th></th>\n",
       "      <th>Date</th>\n",
       "      <th>DOY</th>\n",
       "      <th>Year</th>\n",
       "      <th>Month</th>\n",
       "      <th>Fire Weather Index</th>\n",
       "      <th>Fire Build Index</th>\n",
       "      <th>Drought Code</th>\n",
       "      <th>Duff moisture code</th>\n",
       "      <th>Fire Fuel Moisture Code</th>\n",
       "      <th>Fire severity index</th>\n",
       "      <th>Initial Spead Index</th>\n",
       "    </tr>\n",
       "  </thead>\n",
       "  <tbody>\n",
       "    <tr>\n",
       "      <th>0</th>\n",
       "      <td>03/01/1940</td>\n",
       "      <td>3</td>\n",
       "      <td>1940</td>\n",
       "      <td>1</td>\n",
       "      <td>0.004729</td>\n",
       "      <td>3.105760</td>\n",
       "      <td>8.283793</td>\n",
       "      <td>2.930334</td>\n",
       "      <td>34.07</td>\n",
       "      <td>0.00</td>\n",
       "      <td>0.01</td>\n",
       "    </tr>\n",
       "    <tr>\n",
       "      <th>1</th>\n",
       "      <td>04/01/1940</td>\n",
       "      <td>4</td>\n",
       "      <td>1940</td>\n",
       "      <td>1</td>\n",
       "      <td>0.163287</td>\n",
       "      <td>3.420774</td>\n",
       "      <td>11.832993</td>\n",
       "      <td>2.681654</td>\n",
       "      <td>55.33</td>\n",
       "      <td>0.00</td>\n",
       "      <td>0.44</td>\n",
       "    </tr>\n",
       "    <tr>\n",
       "      <th>2</th>\n",
       "      <td>05/01/1940</td>\n",
       "      <td>5</td>\n",
       "      <td>1940</td>\n",
       "      <td>1</td>\n",
       "      <td>0.604935</td>\n",
       "      <td>5.729544</td>\n",
       "      <td>20.663929</td>\n",
       "      <td>4.386554</td>\n",
       "      <td>76.94</td>\n",
       "      <td>0.01</td>\n",
       "      <td>1.34</td>\n",
       "    </tr>\n",
       "    <tr>\n",
       "      <th>3</th>\n",
       "      <td>06/01/1940</td>\n",
       "      <td>6</td>\n",
       "      <td>1940</td>\n",
       "      <td>1</td>\n",
       "      <td>1.578040</td>\n",
       "      <td>7.925221</td>\n",
       "      <td>29.417784</td>\n",
       "      <td>5.986382</td>\n",
       "      <td>80.24</td>\n",
       "      <td>0.06</td>\n",
       "      <td>2.12</td>\n",
       "    </tr>\n",
       "    <tr>\n",
       "      <th>4</th>\n",
       "      <td>07/01/1940</td>\n",
       "      <td>7</td>\n",
       "      <td>1940</td>\n",
       "      <td>1</td>\n",
       "      <td>0.550387</td>\n",
       "      <td>7.741090</td>\n",
       "      <td>34.220470</td>\n",
       "      <td>5.400179</td>\n",
       "      <td>69.95</td>\n",
       "      <td>0.01</td>\n",
       "      <td>1.02</td>\n",
       "    </tr>\n",
       "    <tr>\n",
       "      <th>...</th>\n",
       "      <td>...</td>\n",
       "      <td>...</td>\n",
       "      <td>...</td>\n",
       "      <td>...</td>\n",
       "      <td>...</td>\n",
       "      <td>...</td>\n",
       "      <td>...</td>\n",
       "      <td>...</td>\n",
       "      <td>...</td>\n",
       "      <td>...</td>\n",
       "      <td>...</td>\n",
       "    </tr>\n",
       "    <tr>\n",
       "      <th>30582</th>\n",
       "      <td>26/09/2023</td>\n",
       "      <td>269</td>\n",
       "      <td>2023</td>\n",
       "      <td>9</td>\n",
       "      <td>49.100360</td>\n",
       "      <td>224.607970</td>\n",
       "      <td>816.015260</td>\n",
       "      <td>171.246610</td>\n",
       "      <td>94.41</td>\n",
       "      <td>26.80</td>\n",
       "      <td>14.17</td>\n",
       "    </tr>\n",
       "    <tr>\n",
       "      <th>30583</th>\n",
       "      <td>27/09/2023</td>\n",
       "      <td>270</td>\n",
       "      <td>2023</td>\n",
       "      <td>9</td>\n",
       "      <td>41.733720</td>\n",
       "      <td>228.308010</td>\n",
       "      <td>822.215330</td>\n",
       "      <td>174.996610</td>\n",
       "      <td>93.74</td>\n",
       "      <td>20.16</td>\n",
       "      <td>10.98</td>\n",
       "    </tr>\n",
       "    <tr>\n",
       "      <th>30584</th>\n",
       "      <td>28/09/2023</td>\n",
       "      <td>271</td>\n",
       "      <td>2023</td>\n",
       "      <td>9</td>\n",
       "      <td>28.668493</td>\n",
       "      <td>231.058010</td>\n",
       "      <td>827.747250</td>\n",
       "      <td>177.696660</td>\n",
       "      <td>90.91</td>\n",
       "      <td>10.32</td>\n",
       "      <td>6.19</td>\n",
       "    </tr>\n",
       "    <tr>\n",
       "      <th>30585</th>\n",
       "      <td>29/09/2023</td>\n",
       "      <td>272</td>\n",
       "      <td>2023</td>\n",
       "      <td>9</td>\n",
       "      <td>29.066023</td>\n",
       "      <td>234.039980</td>\n",
       "      <td>833.497250</td>\n",
       "      <td>180.478590</td>\n",
       "      <td>90.96</td>\n",
       "      <td>10.56</td>\n",
       "      <td>6.30</td>\n",
       "    </tr>\n",
       "    <tr>\n",
       "      <th>30586</th>\n",
       "      <td>30/09/2023</td>\n",
       "      <td>273</td>\n",
       "      <td>2023</td>\n",
       "      <td>9</td>\n",
       "      <td>19.489082</td>\n",
       "      <td>220.328890</td>\n",
       "      <td>839.029200</td>\n",
       "      <td>164.817300</td>\n",
       "      <td>87.47</td>\n",
       "      <td>5.70</td>\n",
       "      <td>3.77</td>\n",
       "    </tr>\n",
       "  </tbody>\n",
       "</table>\n",
       "<p>30587 rows × 11 columns</p>\n",
       "</div>"
      ],
      "text/plain": [
       "             Date  DOY  Year  Month  Fire Weather Index  Fire Build Index   \n",
       "0      03/01/1940    3  1940      1            0.004729          3.105760  \\\n",
       "1      04/01/1940    4  1940      1            0.163287          3.420774   \n",
       "2      05/01/1940    5  1940      1            0.604935          5.729544   \n",
       "3      06/01/1940    6  1940      1            1.578040          7.925221   \n",
       "4      07/01/1940    7  1940      1            0.550387          7.741090   \n",
       "...           ...  ...   ...    ...                 ...               ...   \n",
       "30582  26/09/2023  269  2023      9           49.100360        224.607970   \n",
       "30583  27/09/2023  270  2023      9           41.733720        228.308010   \n",
       "30584  28/09/2023  271  2023      9           28.668493        231.058010   \n",
       "30585  29/09/2023  272  2023      9           29.066023        234.039980   \n",
       "30586  30/09/2023  273  2023      9           19.489082        220.328890   \n",
       "\n",
       "       Drought Code  Duff moisture code  Fire Fuel Moisture Code   \n",
       "0          8.283793            2.930334                    34.07  \\\n",
       "1         11.832993            2.681654                    55.33   \n",
       "2         20.663929            4.386554                    76.94   \n",
       "3         29.417784            5.986382                    80.24   \n",
       "4         34.220470            5.400179                    69.95   \n",
       "...             ...                 ...                      ...   \n",
       "30582    816.015260          171.246610                    94.41   \n",
       "30583    822.215330          174.996610                    93.74   \n",
       "30584    827.747250          177.696660                    90.91   \n",
       "30585    833.497250          180.478590                    90.96   \n",
       "30586    839.029200          164.817300                    87.47   \n",
       "\n",
       "       Fire severity index  Initial Spead Index  \n",
       "0                     0.00                 0.01  \n",
       "1                     0.00                 0.44  \n",
       "2                     0.01                 1.34  \n",
       "3                     0.06                 2.12  \n",
       "4                     0.01                 1.02  \n",
       "...                    ...                  ...  \n",
       "30582                26.80                14.17  \n",
       "30583                20.16                10.98  \n",
       "30584                10.32                 6.19  \n",
       "30585                10.56                 6.30  \n",
       "30586                 5.70                 3.77  \n",
       "\n",
       "[30587 rows x 11 columns]"
      ]
     },
     "execution_count": 126,
     "metadata": {},
     "output_type": "execute_result"
    }
   ],
   "source": [
    "data_1 = pd.read_csv(path+'/data.csv')\n",
    "# #set the first column of data as the index\n",
    "# data.set_index('Unnamed: 0', inplace=True)\n",
    "data_1"
   ]
  },
  {
   "cell_type": "code",
   "execution_count": 127,
   "metadata": {},
   "outputs": [
    {
     "data": {
      "text/plain": [
       "'Initial Spead Index'"
      ]
     },
     "execution_count": 127,
     "metadata": {},
     "output_type": "execute_result"
    }
   ],
   "source": [
    "variables = data_1.columns\n",
    "#FWI starts from 4\n",
    "variable = variables[10]\n",
    "variable"
   ]
  },
  {
   "cell_type": "code",
   "execution_count": 128,
   "metadata": {},
   "outputs": [],
   "source": [
    "data = data_1.groupby('Year')[variable].max()\n"
   ]
  },
  {
   "cell_type": "code",
   "execution_count": 129,
   "metadata": {},
   "outputs": [
    {
     "data": {
      "text/html": [
       "<div>\n",
       "<style scoped>\n",
       "    .dataframe tbody tr th:only-of-type {\n",
       "        vertical-align: middle;\n",
       "    }\n",
       "\n",
       "    .dataframe tbody tr th {\n",
       "        vertical-align: top;\n",
       "    }\n",
       "\n",
       "    .dataframe thead th {\n",
       "        text-align: right;\n",
       "    }\n",
       "</style>\n",
       "<table border=\"1\" class=\"dataframe\">\n",
       "  <thead>\n",
       "    <tr style=\"text-align: right;\">\n",
       "      <th></th>\n",
       "      <th>Year</th>\n",
       "      <th>Initial Spead Index</th>\n",
       "    </tr>\n",
       "  </thead>\n",
       "  <tbody>\n",
       "    <tr>\n",
       "      <th>0</th>\n",
       "      <td>1940</td>\n",
       "      <td>20.40</td>\n",
       "    </tr>\n",
       "    <tr>\n",
       "      <th>1</th>\n",
       "      <td>1941</td>\n",
       "      <td>17.42</td>\n",
       "    </tr>\n",
       "    <tr>\n",
       "      <th>2</th>\n",
       "      <td>1942</td>\n",
       "      <td>28.97</td>\n",
       "    </tr>\n",
       "    <tr>\n",
       "      <th>3</th>\n",
       "      <td>1943</td>\n",
       "      <td>20.22</td>\n",
       "    </tr>\n",
       "    <tr>\n",
       "      <th>4</th>\n",
       "      <td>1944</td>\n",
       "      <td>30.63</td>\n",
       "    </tr>\n",
       "    <tr>\n",
       "      <th>...</th>\n",
       "      <td>...</td>\n",
       "      <td>...</td>\n",
       "    </tr>\n",
       "    <tr>\n",
       "      <th>79</th>\n",
       "      <td>2019</td>\n",
       "      <td>26.41</td>\n",
       "    </tr>\n",
       "    <tr>\n",
       "      <th>80</th>\n",
       "      <td>2020</td>\n",
       "      <td>23.13</td>\n",
       "    </tr>\n",
       "    <tr>\n",
       "      <th>81</th>\n",
       "      <td>2021</td>\n",
       "      <td>17.83</td>\n",
       "    </tr>\n",
       "    <tr>\n",
       "      <th>82</th>\n",
       "      <td>2022</td>\n",
       "      <td>22.36</td>\n",
       "    </tr>\n",
       "    <tr>\n",
       "      <th>83</th>\n",
       "      <td>2023</td>\n",
       "      <td>17.26</td>\n",
       "    </tr>\n",
       "  </tbody>\n",
       "</table>\n",
       "<p>84 rows × 2 columns</p>\n",
       "</div>"
      ],
      "text/plain": [
       "    Year  Initial Spead Index\n",
       "0   1940                20.40\n",
       "1   1941                17.42\n",
       "2   1942                28.97\n",
       "3   1943                20.22\n",
       "4   1944                30.63\n",
       "..   ...                  ...\n",
       "79  2019                26.41\n",
       "80  2020                23.13\n",
       "81  2021                17.83\n",
       "82  2022                22.36\n",
       "83  2023                17.26\n",
       "\n",
       "[84 rows x 2 columns]"
      ]
     },
     "execution_count": 129,
     "metadata": {},
     "output_type": "execute_result"
    }
   ],
   "source": [
    "data = pd.DataFrame(data).reset_index()\n",
    "data"
   ]
  },
  {
   "cell_type": "code",
   "execution_count": 130,
   "metadata": {},
   "outputs": [],
   "source": [
    "# # Function to fit distributions and plot probability plots\n",
    "# def fit_and_plot_distribution(data, distribution):\n",
    "#     params = distribution.fit(data)\n",
    "#     _, p_value = kstest(data, distribution.cdf, params)\n",
    "#     return params, p_value\n",
    "\n",
    "# plt.subplots(nrows=2,ncols=2,figsize=(30, 10))\n",
    "\n",
    "# for index, distribution in enumerate(distributions):\n",
    "#     plt.subplot(2,2,index+1)\n",
    "#     # Plot  Distribution\n",
    "#     label = distribution\n",
    "#     params, p_value = fit_and_plot_distribution(data[variable], distribution)\n",
    "#     plt.hist(data[variable], bins=30, density=True, color='blue', alpha=0.7, label=distribution)\n",
    "#     x_range = np.linspace(data[variable].min(), data[variable].max(), 100)\n",
    "#     plt.plot(x_range, distribution.pdf(x_range,*params), color='red', linewidth=2)\n",
    "#     plt.title(f'{label} Fit (p-value: {p_value:.4f})')\n"
   ]
  },
  {
   "cell_type": "code",
   "execution_count": 131,
   "metadata": {},
   "outputs": [
    {
     "data": {
      "image/png": "[encoded data removed]",
      "text/plain": [
       "<Figure size 3000x500 with 4 Axes>"
      ]
     },
     "metadata": {},
     "output_type": "display_data"
    }
   ],
   "source": [
    "# Plot histograms for each distribution\n",
    "plt.figure(figsize=(30, 5))\n",
    "font_size = 10\n",
    "n_cols = 4\n",
    "\n",
    "# Plot Normal Distribution\n",
    "plt.subplot(1, n_cols, 1)\n",
    "#gives the mean and standard deviation of data, assuming it follows normal distribution\n",
    "params_1 = norm.fit(data[variable])\n",
    "#Kolmogorov-Smirnov (KS) test, D is KS Statistic which is maximum, and p_value is significance level 0.05 usually\n",
    "D, p_value_1 = kstest(data[variable], norm.cdf, params_1)\n",
    "plt.hist(data[variable], bins=30, density=True, color='blue', alpha=0.7, label='Normal')\n",
    "x_range_normal = np.linspace(data[variable].min(), data[variable].max(), 100)\n",
    "# ax2 = plt.gca().twinx()\n",
    "plt.plot(x_range_normal, norm.pdf(x_range_normal,*params_1), color='red', linewidth=2)\n",
    "plt.title(f'Normal Distribution with p_value:{round(p_value_1,3)}& D:{round(D,2)}')\n",
    "plt.legend()\n",
    "plt.xlabel(f'values of the {variable}',fontsize = font_size)\n",
    "plt.ylabel('Probability Density',fontsize = font_size)\n",
    "\n",
    "\n",
    "plt.subplot(1, n_cols, 2)\n",
    "params_2 = gumbel_r.fit(data[variable])\n",
    "D, p_value_2 = kstest(data[variable], gumbel_r.cdf, params_2)\n",
    "plt.hist(data[variable], bins=30, density=True, color='green', alpha=0.7, label='Gumbel')\n",
    "x_range_gumbel = np.linspace(data[variable].min(), data[variable].max(), 100)\n",
    "# plt.plot(x_range_gumbel, gumbel_r.pdf(x_range_gumbel,*params_2), color='red', linewidth=2)\n",
    "plt.title(f'Gumbel Distribution with p_value:{round(p_value_2,3)} &D:{round(D,2)}')\n",
    "# ax2 = plt.gca().twinx()\n",
    "# Plot the Gumbel distribution on the second y-axis\n",
    "plt.plot(x_range_gumbel, gumbel_r.pdf(x_range_gumbel, *params_2), color='red', linewidth=2, linestyle='dashed')\n",
    "# ax2.set_ylabel('Probability Density')\n",
    "# ax2.tick_params('y', colors='red')\n",
    "plt.legend()\n",
    "plt.xlabel(f'values of the {variable}',fontsize = font_size)\n",
    "plt.ylabel('Probability Density',fontsize = font_size)\n",
    "\n",
    "\n",
    "plt.subplot(1, n_cols, 3)\n",
    "params_3 = lognorm.fit(data[variable])\n",
    "D, p_value_3 = kstest(data[variable], lognorm.cdf, params_3)\n",
    "plt.hist(data[variable], bins=30, density=True, color='orange', alpha=0.7, label='Log Pearson')\n",
    "x_range_lognorm = np.linspace(data[variable].min(), data[variable].max(), 100)\n",
    "# ax2 = plt.gca().twinx()\n",
    "plt.plot(x_range_lognorm, lognorm.pdf(x_range_lognorm,*params_3), color='red', linewidth=2)\n",
    "plt.title(f'Log Pearson Distribution with p_value:{round(p_value_3,3)} &D:{round(D,2)}')\n",
    "plt.legend()\n",
    "plt.xlabel(f'values of the {variable}',fontsize = font_size)\n",
    "plt.ylabel('Probability Density',fontsize = font_size)\n",
    "\n",
    "\n",
    "plt.subplot(1, n_cols, 4)\n",
    "params_4 = genextreme.fit(data[variable])\n",
    "D, p_value_4 = kstest(data[variable], genextreme.cdf, params_4)\n",
    "plt.hist(data[variable], bins=30, density=True, color='purple', alpha=0.7, label='General Extreme')\n",
    "x_range_genextreme = np.linspace(data[variable].min(), data[variable].max(), 100)\n",
    "# ax2 = plt.gca().twinx()\n",
    "plt.plot(x_range_genextreme, genextreme.pdf(x_range_genextreme,*params_4), color='red', linewidth=2)\n",
    "plt.ylabel('Probability Density',fontsize = font_size)\n",
    "plt.title(f'General Extreme Distribution with p_value:{round(p_value_4,3)} &D:{round(D,2)}')\n",
    "plt.legend()\n",
    "plt.xlabel(f'values of the {variable}',fontsize = font_size)\n",
    "\n",
    "\n",
    "\n",
    "plt.tight_layout()\n",
    "plt.show()"
   ]
  },
  {
   "cell_type": "code",
   "execution_count": 132,
   "metadata": {},
   "outputs": [
    {
     "data": {
      "application/vnd.plotly.v1+json": {
       "config": {
        "plotlyServerURL": "https://plot.ly"
       },
       "data": [
        {
         "histnorm": "probability density",
         "name": "Normal",
         "nbinsx": 30,
         "opacity": 0.7,
         "type": "histogram",
         "x": [
          20.4,
          17.42,
          28.97,
          20.22,
          30.63,
          29.91,
          28.62,
          26.12,
          32.61,
          31.46,
          28.48,
          27.65,
          24.98,
          24.8,
          27.64,
          37.67,
          23.2,
          35.92,
          30.53,
          33.67,
          32.49,
          34.22,
          24.28,
          32.34,
          22.51,
          26.04,
          24.29,
          20.47,
          20.38,
          19.11,
          17.25,
          17.49,
          17.66,
          17.23,
          15.39,
          16.17,
          18.79,
          18.68,
          14.09,
          15.64,
          17.75,
          19.56,
          15.31,
          17.89,
          16.13,
          17.85,
          14.08,
          20.18,
          20.16,
          14.44,
          12.4,
          15.36,
          12.5,
          11.93,
          16.33,
          23.07,
          21.08,
          22.56,
          21.11,
          23.12,
          19.03,
          16.97,
          18.73,
          18.27,
          21.92,
          20.56,
          17.63,
          22.63,
          23.28,
          16.69,
          23.71,
          22.15,
          24.68,
          16.51,
          17.56,
          18.36,
          21.42,
          22.55,
          19.93,
          26.41,
          23.13,
          17.83,
          22.36,
          17.26
         ],
         "xaxis": "x",
         "yaxis": "y"
        },
        {
         "line": {
          "color": "red",
          "width": 2
         },
         "mode": "lines",
         "name": "Normal Fit",
         "type": "scatter",
         "x": [
          11.93,
          12.19,
          12.45,
          12.709999999999999,
          12.969999999999999,
          13.23,
          13.49,
          13.75,
          14.01,
          14.27,
          14.53,
          14.79,
          15.05,
          15.309999999999999,
          15.57,
          15.83,
          16.09,
          16.35,
          16.61,
          16.87,
          17.13,
          17.39,
          17.65,
          17.91,
          18.17,
          18.43,
          18.689999999999998,
          18.95,
          19.21,
          19.47,
          19.73,
          19.990000000000002,
          20.25,
          20.509999999999998,
          20.77,
          21.03,
          21.29,
          21.55,
          21.810000000000002,
          22.07,
          22.33,
          22.59,
          22.85,
          23.11,
          23.37,
          23.630000000000003,
          23.89,
          24.15,
          24.41,
          24.67,
          24.93,
          25.189999999999998,
          25.45,
          25.71,
          25.97,
          26.23,
          26.490000000000002,
          26.75,
          27.009999999999998,
          27.27,
          27.53,
          27.79,
          28.05,
          28.31,
          28.57,
          28.830000000000002,
          29.09,
          29.35,
          29.61,
          29.87,
          30.13,
          30.39,
          30.65,
          30.91,
          31.17,
          31.43,
          31.69,
          31.95,
          32.21,
          32.47,
          32.730000000000004,
          32.99,
          33.25,
          33.510000000000005,
          33.769999999999996,
          34.03,
          34.29,
          34.55,
          34.81,
          35.07,
          35.33,
          35.59,
          35.85,
          36.11,
          36.370000000000005,
          36.629999999999995,
          36.89,
          37.150000000000006,
          37.41,
          37.67
         ],
         "xaxis": "x",
         "y": [
          0.016290977249163466,
          0.017565192749029814,
          0.018900879336818593,
          0.020297119397750127,
          0.02175254673788015,
          0.023265324886464836,
          0.02483312872850529,
          0.026453129935855527,
          0.028121986642908988,
          0.02983583778152819,
          0.03159030244952189,
          0.033380484637762574,
          0.03520098358332777,
          0.03704590995039065,
          0.038908907967730236,
          0.040783183572618426,
          0.042661538526598125,
          0.044536410380582696,
          0.04639991807622377,
          0.0482439128791705,
          0.050060034249331566,
          0.0518397701652676,
          0.05357452133611454,
          0.055255668656696504,
          0.056874643191388824,
          0.05842299791141545,
          0.059892480360044936,
          0.061275105381857355,
          0.06256322702695516,
          0.06374960872951488,
          0.06482749086299679,
          0.06579065479193788,
          0.06663348257255308,
          0.06735101150105997,
          0.06793898276913062,
          0.06839388355927441,
          0.06871298199810635,
          0.06889435448094643,
          0.06893690498538696,
          0.06884037610253146,
          0.06860535163057155,
          0.0682332506941413,
          0.06772631347232447,
          0.06708757873612373,
          0.06632085351050643,
          0.06543067528476613,
          0.06442226729595879,
          0.06330148750183254,
          0.062074771940411944,
          0.060749073241907904,
          0.059331795113844156,
          0.05783072366144944,
          0.0562539564319776,
          0.05460983008350721,
          0.05290684757605193,
          0.05115360576588688,
          0.04935872425354064,
          0.047530776292839305,
          0.04567822251387213,
          0.04380934814811142,
          0.04193220437066089,
          0.040054554294338816,
          0.03818382406471699,
          0.036327059416065434,
          0.03449088795712408,
          0.03268148736443466,
          0.03090455957123345,
          0.029165310953151086,
          0.02746843842956891,
          0.025818121322674317,
          0.024218018746096134,
          0.022671272232350152,
          0.02118051325386169,
          0.019747875246525177,
          0.018375009707891795,
          0.017063105914224434,
          0.015812913781734734,
          0.01462476938705221,
          0.013498622659957776,
          0.01243406676710085,
          0.01143036871815038,
          0.010486500744867126,
          0.009601172028111038,
          0.008772860376965792,
          0.007999843497090436,
          0.007280229521220285,
          0.0066119865125750755,
          0.005992970690959147,
          0.0054209531707836356,
          0.004893645039378669,
          0.0044087206421500125,
          0.003963838977797623,
          0.0035566631414639463,
          0.0031848777859153125,
          0.0028462046003627,
          0.0025384158330630673,
          0.002259345907256392,
          0.002006901200208041,
          0.0017790680721298936,
          0.0015739192456016879
         ],
         "yaxis": "y"
        },
        {
         "histnorm": "probability density",
         "name": "Gumbel",
         "nbinsx": 30,
         "opacity": 0.7,
         "type": "histogram",
         "x": [
          20.4,
          17.42,
          28.97,
          20.22,
          30.63,
          29.91,
          28.62,
          26.12,
          32.61,
          31.46,
          28.48,
          27.65,
          24.98,
          24.8,
          27.64,
          37.67,
          23.2,
          35.92,
          30.53,
          33.67,
          32.49,
          34.22,
          24.28,
          32.34,
          22.51,
          26.04,
          24.29,
          20.47,
          20.38,
          19.11,
          17.25,
          17.49,
          17.66,
          17.23,
          15.39,
          16.17,
          18.79,
          18.68,
          14.09,
          15.64,
          17.75,
          19.56,
          15.31,
          17.89,
          16.13,
          17.85,
          14.08,
          20.18,
          20.16,
          14.44,
          12.4,
          15.36,
          12.5,
          11.93,
          16.33,
          23.07,
          21.08,
          22.56,
          21.11,
          23.12,
          19.03,
          16.97,
          18.73,
          18.27,
          21.92,
          20.56,
          17.63,
          22.63,
          23.28,
          16.69,
          23.71,
          22.15,
          24.68,
          16.51,
          17.56,
          18.36,
          21.42,
          22.55,
          19.93,
          26.41,
          23.13,
          17.83,
          22.36,
          17.26
         ],
         "xaxis": "x2",
         "yaxis": "y2"
        },
        {
         "line": {
          "color": "red",
          "width": 2
         },
         "mode": "lines",
         "name": "Gumbel Fit",
         "type": "scatter",
         "x": [
          11.93,
          12.19,
          12.45,
          12.709999999999999,
          12.969999999999999,
          13.23,
          13.49,
          13.75,
          14.01,
          14.27,
          14.53,
          14.79,
          15.05,
          15.309999999999999,
          15.57,
          15.83,
          16.09,
          16.35,
          16.61,
          16.87,
          17.13,
          17.39,
          17.65,
          17.91,
          18.17,
          18.43,
          18.689999999999998,
          18.95,
          19.21,
          19.47,
          19.73,
          19.990000000000002,
          20.25,
          20.509999999999998,
          20.77,
          21.03,
          21.29,
          21.55,
          21.810000000000002,
          22.07,
          22.33,
          22.59,
          22.85,
          23.11,
          23.37,
          23.630000000000003,
          23.89,
          24.15,
          24.41,
          24.67,
          24.93,
          25.189999999999998,
          25.45,
          25.71,
          25.97,
          26.23,
          26.490000000000002,
          26.75,
          27.009999999999998,
          27.27,
          27.53,
          27.79,
          28.05,
          28.31,
          28.57,
          28.830000000000002,
          29.09,
          29.35,
          29.61,
          29.87,
          30.13,
          30.39,
          30.65,
          30.91,
          31.17,
          31.43,
          31.69,
          31.95,
          32.21,
          32.47,
          32.730000000000004,
          32.99,
          33.25,
          33.510000000000005,
          33.769999999999996,
          34.03,
          34.29,
          34.55,
          34.81,
          35.07,
          35.33,
          35.59,
          35.85,
          36.11,
          36.370000000000005,
          36.629999999999995,
          36.89,
          37.150000000000006,
          37.41,
          37.67
         ],
         "xaxis": "x2",
         "y": [
          0.008988619474903774,
          0.011024815129001943,
          0.013329827269676462,
          0.015899916374802606,
          0.018724303993220205,
          0.021785256832881607,
          0.025058477099574313,
          0.028513767476227674,
          0.032115923955378815,
          0.035825799522204306,
          0.039601476618595303,
          0.0433994860804956,
          0.04717601413426164,
          0.05088804613166558,
          0.054494404967735784,
          0.05795665254888212,
          0.06123983335331862,
          0.06431304930504685,
          0.06714986430797165,
          0.06972854449053652,
          0.07203214630229758,
          0.07404846904059734,
          0.0757698912437952,
          0.07719311182691103,
          0.07831881706764232,
          0.07915129381191673,
          0.0796980077976388,
          0.07996916401884804,
          0.0799772637715132,
          0.07973667060740912,
          0.07926319501160624,
          0.0785737053170024,
          0.07768577025067987,
          0.076617336619662,
          0.0753864440134763,
          0.07401097703546249,
          0.07250845446795774,
          0.07089585391247578,
          0.06918946980238899,
          0.06740480223629498,
          0.06555647379751418,
          0.06365817138144486,
          0.06172261002151836,
          0.059761515762078186,
          0.057785624751062054,
          0.055804695898106785,
          0.053827534648676095,
          0.05186202564881662,
          0.04991517230750451,
          0.047993141495865414,
          0.04610131184846089,
          0.04424432434668309,
          0.04242613406488204,
          0.04065006214415562,
          0.03891884722570057,
          0.037234695724947295,
          0.03559933045963792,
          0.034014037260234296,
          0.032479709290529755,
          0.03099688889124256,
          0.02956580683095495,
          0.028186418908340418,
          0.02685843989849745,
          0.025581374875645848,
          0.024354547975640725,
          0.02317712868584131,
          0.022048155767859918,
          0.02096655893154687,
          0.019931178387072954,
          0.01894078240689337,
          0.017994083031371268,
          0.017089750051467355,
          0.01622642339966132,
          0.015402724076575296,
          0.014617263735980176,
          0.013868653045278784,
          0.013155508932427947,
          0.012476460823789212,
          0.011830155970752964,
          0.011215263956300002,
          0.01063048046605249,
          0.010074530401909226,
          0.009546170410117452,
          0.009044190889655909,
          0.008567417541119119,
          0.00811471251092553,
          0.0076849751806323755,
          0.007277142646430979,
          0.006890189929518765,
          0.0065231299539889815,
          0.0061750133251385775,
          0.005844927937655517,
          0.005531998439994526,
          0.0052353855783701456,
          0.004954285441171755,
          0.004687928622219823,
          0.004435579319120705,
          0.004196534381022189,
          0.003970122318307572,
          0.0037557022851783623
         ],
         "yaxis": "y2"
        },
        {
         "histnorm": "probability density",
         "name": "Log Pearson",
         "nbinsx": 30,
         "opacity": 0.7,
         "type": "histogram",
         "x": [
          20.4,
          17.42,
          28.97,
          20.22,
          30.63,
          29.91,
          28.62,
          26.12,
          32.61,
          31.46,
          28.48,
          27.65,
          24.98,
          24.8,
          27.64,
          37.67,
          23.2,
          35.92,
          30.53,
          33.67,
          32.49,
          34.22,
          24.28,
          32.34,
          22.51,
          26.04,
          24.29,
          20.47,
          20.38,
          19.11,
          17.25,
          17.49,
          17.66,
          17.23,
          15.39,
          16.17,
          18.79,
          18.68,
          14.09,
          15.64,
          17.75,
          19.56,
          15.31,
          17.89,
          16.13,
          17.85,
          14.08,
          20.18,
          20.16,
          14.44,
          12.4,
          15.36,
          12.5,
          11.93,
          16.33,
          23.07,
          21.08,
          22.56,
          21.11,
          23.12,
          19.03,
          16.97,
          18.73,
          18.27,
          21.92,
          20.56,
          17.63,
          22.63,
          23.28,
          16.69,
          23.71,
          22.15,
          24.68,
          16.51,
          17.56,
          18.36,
          21.42,
          22.55,
          19.93,
          26.41,
          23.13,
          17.83,
          22.36,
          17.26
         ],
         "xaxis": "x3",
         "yaxis": "y3"
        },
        {
         "line": {
          "color": "red",
          "width": 2
         },
         "mode": "lines",
         "name": "Log Pearson Fit",
         "type": "scatter",
         "x": [
          11.93,
          12.19,
          12.45,
          12.709999999999999,
          12.969999999999999,
          13.23,
          13.49,
          13.75,
          14.01,
          14.27,
          14.53,
          14.79,
          15.05,
          15.309999999999999,
          15.57,
          15.83,
          16.09,
          16.35,
          16.61,
          16.87,
          17.13,
          17.39,
          17.65,
          17.91,
          18.17,
          18.43,
          18.689999999999998,
          18.95,
          19.21,
          19.47,
          19.73,
          19.990000000000002,
          20.25,
          20.509999999999998,
          20.77,
          21.03,
          21.29,
          21.55,
          21.810000000000002,
          22.07,
          22.33,
          22.59,
          22.85,
          23.11,
          23.37,
          23.630000000000003,
          23.89,
          24.15,
          24.41,
          24.67,
          24.93,
          25.189999999999998,
          25.45,
          25.71,
          25.97,
          26.23,
          26.490000000000002,
          26.75,
          27.009999999999998,
          27.27,
          27.53,
          27.79,
          28.05,
          28.31,
          28.57,
          28.830000000000002,
          29.09,
          29.35,
          29.61,
          29.87,
          30.13,
          30.39,
          30.65,
          30.91,
          31.17,
          31.43,
          31.69,
          31.95,
          32.21,
          32.47,
          32.730000000000004,
          32.99,
          33.25,
          33.510000000000005,
          33.769999999999996,
          34.03,
          34.29,
          34.55,
          34.81,
          35.07,
          35.33,
          35.59,
          35.85,
          36.11,
          36.370000000000005,
          36.629999999999995,
          36.89,
          37.150000000000006,
          37.41,
          37.67
         ],
         "xaxis": "x3",
         "y": [
          0.008768121130116373,
          0.011011365140915703,
          0.013549016933711305,
          0.016365807014534658,
          0.01943840298725483,
          0.02273642531102067,
          0.026223697929856328,
          0.02985963720036832,
          0.033600690746429476,
          0.03740175054689755,
          0.0412174795642838,
          0.045003506822105487,
          0.04871746076174072,
          0.052319824104437015,
          0.05577460482124485,
          0.05904982697124956,
          0.06211785211751439,
          0.06495554692654999,
          0.06754431564500615,
          0.06987001771423139,
          0.07192279112740634,
          0.07369680154081351,
          0.07518993587939167,
          0.076403457451447,
          0.0773416375951536,
          0.07801137677013183,
          0.0784218258963544,
          0.07858401671474376,
          0.07851050805783871,
          0.07821505321199608,
          0.07771229204471618,
          0.07701747026848975,
          0.076146187112834,
          0.07511417176870339,
          0.07393708823939023,
          0.0726303676617968,
          0.07120906673271166,
          0.06968775056741675,
          0.06808039811413855,
          0.06640032813021433,
          0.06466014367851165,
          0.06287169311139966,
          0.06104604556191015,
          0.059193479046829194,
          0.05732347939511461,
          0.055444748339541265,
          0.053565219243481746,
          0.05169207907311353,
          0.04983179536404026,
          0.04799014706718074,
          0.04617225828946553,
          0.044382634068682716,
          0.04262519743759156,
          0.04090332713945868,
          0.039219895455128745,
          0.03757730569054528,
          0.03597752895344367,
          0.03442213991905397,
          0.032912351347505676,
          0.0314490471707316,
          0.03003281401457261,
          0.028663971063079538,
          0.027342598207275488,
          0.026068562450467826,
          0.024841542567140093,
          0.023661052033052767,
          0.022526460260936503,
          0.021437012189547255,
          0.020391846284296643,
          0.019390011015573312,
          0.018430479886589152,
          0.01751216508643912,
          0.01663392984634853,
          0.015794599578049455,
          0.01499297187310963,
          0.014227825441028822,
          0.013497928062195349,
          0.012802043629510556,
          0.012138938349769174,
          0.011507386172843992,
          0.010906173513455155,
          0.010334103326890783,
          0.009789998596551226,
          0.009272705287670659,
          0.008781094818072169,
          0.008314066093371625,
          0.007870547150693151,
          0.007449496451713099,
          0.0070499038627329,
          0.00667079135650089,
          0.006311213467671343,
          0.005970257531109559,
          0.005647043729726108,
          0.00534072497615331,
          0.005050486650359972,
          0.004775546213232817,
          0.004515152714231478,
          0.004268586209443141,
          0.004035157104715815,
          0.003814205437031643
         ],
         "yaxis": "y3"
        },
        {
         "histnorm": "probability density",
         "name": "General Extreme",
         "nbinsx": 30,
         "opacity": 0.7,
         "type": "histogram",
         "x": [
          20.4,
          17.42,
          28.97,
          20.22,
          30.63,
          29.91,
          28.62,
          26.12,
          32.61,
          31.46,
          28.48,
          27.65,
          24.98,
          24.8,
          27.64,
          37.67,
          23.2,
          35.92,
          30.53,
          33.67,
          32.49,
          34.22,
          24.28,
          32.34,
          22.51,
          26.04,
          24.29,
          20.47,
          20.38,
          19.11,
          17.25,
          17.49,
          17.66,
          17.23,
          15.39,
          16.17,
          18.79,
          18.68,
          14.09,
          15.64,
          17.75,
          19.56,
          15.31,
          17.89,
          16.13,
          17.85,
          14.08,
          20.18,
          20.16,
          14.44,
          12.4,
          15.36,
          12.5,
          11.93,
          16.33,
          23.07,
          21.08,
          22.56,
          21.11,
          23.12,
          19.03,
          16.97,
          18.73,
          18.27,
          21.92,
          20.56,
          17.63,
          22.63,
          23.28,
          16.69,
          23.71,
          22.15,
          24.68,
          16.51,
          17.56,
          18.36,
          21.42,
          22.55,
          19.93,
          26.41,
          23.13,
          17.83,
          22.36,
          17.26
         ],
         "xaxis": "x4",
         "yaxis": "y4"
        },
        {
         "line": {
          "color": "red",
          "width": 2
         },
         "mode": "lines",
         "name": "General Extreme Fit",
         "type": "scatter",
         "x": [
          11.93,
          12.19,
          12.45,
          12.709999999999999,
          12.969999999999999,
          13.23,
          13.49,
          13.75,
          14.01,
          14.27,
          14.53,
          14.79,
          15.05,
          15.309999999999999,
          15.57,
          15.83,
          16.09,
          16.35,
          16.61,
          16.87,
          17.13,
          17.39,
          17.65,
          17.91,
          18.17,
          18.43,
          18.689999999999998,
          18.95,
          19.21,
          19.47,
          19.73,
          19.990000000000002,
          20.25,
          20.509999999999998,
          20.77,
          21.03,
          21.29,
          21.55,
          21.810000000000002,
          22.07,
          22.33,
          22.59,
          22.85,
          23.11,
          23.37,
          23.630000000000003,
          23.89,
          24.15,
          24.41,
          24.67,
          24.93,
          25.189999999999998,
          25.45,
          25.71,
          25.97,
          26.23,
          26.490000000000002,
          26.75,
          27.009999999999998,
          27.27,
          27.53,
          27.79,
          28.05,
          28.31,
          28.57,
          28.830000000000002,
          29.09,
          29.35,
          29.61,
          29.87,
          30.13,
          30.39,
          30.65,
          30.91,
          31.17,
          31.43,
          31.69,
          31.95,
          32.21,
          32.47,
          32.730000000000004,
          32.99,
          33.25,
          33.510000000000005,
          33.769999999999996,
          34.03,
          34.29,
          34.55,
          34.81,
          35.07,
          35.33,
          35.59,
          35.85,
          36.11,
          36.370000000000005,
          36.629999999999995,
          36.89,
          37.150000000000006,
          37.41,
          37.67
         ],
         "xaxis": "x4",
         "y": [
          0.009208024466238165,
          0.011228947074075436,
          0.01350836817680881,
          0.016042461197152583,
          0.018820877502098734,
          0.021826816816467334,
          0.025037370500787734,
          0.028424111476327573,
          0.031953891295201466,
          0.03558979561741296,
          0.03929220439247502,
          0.043019902160230564,
          0.04673118657286254,
          0.05038492877562029,
          0.053941546841376045,
          0.05736386219832324,
          0.060617818150479404,
          0.06367304851287016,
          0.06650329255774871,
          0.06908665953883036,
          0.07140575181797208,
          0.07344765998297935,
          0.07520384634175287,
          0.07666993491147027,
          0.07784542665000828,
          0.07873335838855415,
          0.07933992291818774,
          0.07967406615343794,
          0.07974707542130016,
          0.07957217086137004,
          0.07916410980198761,
          0.0785388119019085,
          0.0777130108942937,
          0.07670393699325603,
          0.07552903245574204,
          0.07420570144895978,
          0.07275109425810304,
          0.07118192497272305,
          0.0695143210974504,
          0.06776370302384761,
          0.0659446909523722,
          0.06407103664320883,
          0.06215557727889643,
          0.06021020871827885,
          0.058245875490237776,
          0.0562725749990078,
          0.05429937357506216,
          0.05233443219339204,
          0.050385039883544154,
          0.04845765306419713,
          0.04655793924240148,
          0.04469082371860519,
          0.0428605381293859,
          0.041070669837765125,
          0.039324211344436,
          0.037623609041335,
          0.03597081076149819,
          0.03436731169631226,
          0.0328141983537007,
          0.03131219031932093,
          0.029861679658502636,
          0.028462767860528884,
          0.027115300280094765,
          0.02581889807451111,
          0.024572987670557503,
          0.023376827822885145,
          0.022229534347505076,
          0.021130102630078345,
          0.020077428020272837,
          0.019070324231108566,
          0.018107539866636116,
          0.01718777320306297,
          0.016309685348067565,
          0.015471911900958493,
          0.014673073232927668,
          0.013911783502228086,
          0.01318665851395508,
          0.012496322528448517,
          0.011839414116351185,
          0.011214591152209973,
          0.010620535032314039,
          0.010055954196329472,
          0.009519587026286667,
          0.009010204190668687,
          0.00852661049577451,
          0.008067646301225764,
          0.007632188551467617,
          0.007219151470394871,
          0.006827486961820646,
          0.006456184754393584,
          0.006104272325757232,
          0.005770814637223284,
          0.005454913706987536,
          0.005155708046941409,
          0.00487237198540948,
          0.004604114895658852,
          0.004350180347765648,
          0.004109845199372524,
          0.0038824186390125784,
          0.0036672411939973307
         ],
         "yaxis": "y4"
        }
       ],
       "layout": {
        "annotations": [
         {
          "font": {
           "size": 16
          },
          "showarrow": false,
          "text": "Normal Distribution",
          "x": 0.10625,
          "xanchor": "center",
          "xref": "paper",
          "y": 1,
          "yanchor": "bottom",
          "yref": "paper"
         },
         {
          "font": {
           "size": 16
          },
          "showarrow": false,
          "text": "Gumbel Distribution",
          "x": 0.36875,
          "xanchor": "center",
          "xref": "paper",
          "y": 1,
          "yanchor": "bottom",
          "yref": "paper"
         },
         {
          "font": {
           "size": 16
          },
          "showarrow": false,
          "text": "Log Pearson Distribution",
          "x": 0.6312500000000001,
          "xanchor": "center",
          "xref": "paper",
          "y": 1,
          "yanchor": "bottom",
          "yref": "paper"
         },
         {
          "font": {
           "size": 16
          },
          "showarrow": false,
          "text": "General Extreme Distribution",
          "x": 0.89375,
          "xanchor": "center",
          "xref": "paper",
          "y": 1,
          "yanchor": "bottom",
          "yref": "paper"
         }
        ],
        "height": 400,
        "showlegend": true,
        "template": {
         "data": {
          "bar": [
           {
            "error_x": {
             "color": "#2a3f5f"
            },
            "error_y": {
             "color": "#2a3f5f"
            },
            "marker": {
             "line": {
              "color": "#E5ECF6",
              "width": 0.5
             },
             "pattern": {
              "fillmode": "overlay",
              "size": 10,
              "solidity": 0.2
             }
            },
            "type": "bar"
           }
          ],
          "barpolar": [
           {
            "marker": {
             "line": {
              "color": "#E5ECF6",
              "width": 0.5
             },
             "pattern": {
              "fillmode": "overlay",
              "size": 10,
              "solidity": 0.2
             }
            },
            "type": "barpolar"
           }
          ],
          "carpet": [
           {
            "aaxis": {
             "endlinecolor": "#2a3f5f",
             "gridcolor": "white",
             "linecolor": "white",
             "minorgridcolor": "white",
             "startlinecolor": "#2a3f5f"
            },
            "baxis": {
             "endlinecolor": "#2a3f5f",
             "gridcolor": "white",
             "linecolor": "white",
             "minorgridcolor": "white",
             "startlinecolor": "#2a3f5f"
            },
            "type": "carpet"
           }
          ],
          "choropleth": [
           {
            "colorbar": {
             "outlinewidth": 0,
             "ticks": ""
            },
            "type": "choropleth"
           }
          ],
          "contour": [
           {
            "colorbar": {
             "outlinewidth": 0,
             "ticks": ""
            },
            "colorscale": [
             [
              0,
              "#0d0887"
             ],
             [
              0.1111111111111111,
              "#46039f"
             ],
             [
              0.2222222222222222,
              "#7201a8"
             ],
             [
              0.3333333333333333,
              "#9c179e"
             ],
             [
              0.4444444444444444,
              "#bd3786"
             ],
             [
              0.5555555555555556,
              "#d8576b"
             ],
             [
              0.6666666666666666,
              "#ed7953"
             ],
             [
              0.7777777777777778,
              "#fb9f3a"
             ],
             [
              0.8888888888888888,
              "#fdca26"
             ],
             [
              1,
              "#f0f921"
             ]
            ],
            "type": "contour"
           }
          ],
          "contourcarpet": [
           {
            "colorbar": {
             "outlinewidth": 0,
             "ticks": ""
            },
            "type": "contourcarpet"
           }
          ],
          "heatmap": [
           {
            "colorbar": {
             "outlinewidth": 0,
             "ticks": ""
            },
            "colorscale": [
             [
              0,
              "#0d0887"
             ],
             [
              0.1111111111111111,
              "#46039f"
             ],
             [
              0.2222222222222222,
              "#7201a8"
             ],
             [
              0.3333333333333333,
              "#9c179e"
             ],
             [
              0.4444444444444444,
              "#bd3786"
             ],
             [
              0.5555555555555556,
              "#d8576b"
             ],
             [
              0.6666666666666666,
              "#ed7953"
             ],
             [
              0.7777777777777778,
              "#fb9f3a"
             ],
             [
              0.8888888888888888,
              "#fdca26"
             ],
             [
              1,
              "#f0f921"
             ]
            ],
            "type": "heatmap"
           }
          ],
          "heatmapgl": [
           {
            "colorbar": {
             "outlinewidth": 0,
             "ticks": ""
            },
            "colorscale": [
             [
              0,
              "#0d0887"
             ],
             [
              0.1111111111111111,
              "#46039f"
             ],
             [
              0.2222222222222222,
              "#7201a8"
             ],
             [
              0.3333333333333333,
              "#9c179e"
             ],
             [
              0.4444444444444444,
              "#bd3786"
             ],
             [
              0.5555555555555556,
              "#d8576b"
             ],
             [
              0.6666666666666666,
              "#ed7953"
             ],
             [
              0.7777777777777778,
              "#fb9f3a"
             ],
             [
              0.8888888888888888,
              "#fdca26"
             ],
             [
              1,
              "#f0f921"
             ]
            ],
            "type": "heatmapgl"
           }
          ],
          "histogram": [
           {
            "marker": {
             "pattern": {
              "fillmode": "overlay",
              "size": 10,
              "solidity": 0.2
             }
            },
            "type": "histogram"
           }
          ],
          "histogram2d": [
           {
            "colorbar": {
             "outlinewidth": 0,
             "ticks": ""
            },
            "colorscale": [
             [
              0,
              "#0d0887"
             ],
             [
              0.1111111111111111,
              "#46039f"
             ],
             [
              0.2222222222222222,
              "#7201a8"
             ],
             [
              0.3333333333333333,
              "#9c179e"
             ],
             [
              0.4444444444444444,
              "#bd3786"
             ],
             [
              0.5555555555555556,
              "#d8576b"
             ],
             [
              0.6666666666666666,
              "#ed7953"
             ],
             [
              0.7777777777777778,
              "#fb9f3a"
             ],
             [
              0.8888888888888888,
              "#fdca26"
             ],
             [
              1,
              "#f0f921"
             ]
            ],
            "type": "histogram2d"
           }
          ],
          "histogram2dcontour": [
           {
            "colorbar": {
             "outlinewidth": 0,
             "ticks": ""
            },
            "colorscale": [
             [
              0,
              "#0d0887"
             ],
             [
              0.1111111111111111,
              "#46039f"
             ],
             [
              0.2222222222222222,
              "#7201a8"
             ],
             [
              0.3333333333333333,
              "#9c179e"
             ],
             [
              0.4444444444444444,
              "#bd3786"
             ],
             [
              0.5555555555555556,
              "#d8576b"
             ],
             [
              0.6666666666666666,
              "#ed7953"
             ],
             [
              0.7777777777777778,
              "#fb9f3a"
             ],
             [
              0.8888888888888888,
              "#fdca26"
             ],
             [
              1,
              "#f0f921"
             ]
            ],
            "type": "histogram2dcontour"
           }
          ],
          "mesh3d": [
           {
            "colorbar": {
             "outlinewidth": 0,
             "ticks": ""
            },
            "type": "mesh3d"
           }
          ],
          "parcoords": [
           {
            "line": {
             "colorbar": {
              "outlinewidth": 0,
              "ticks": ""
             }
            },
            "type": "parcoords"
           }
          ],
          "pie": [
           {
            "automargin": true,
            "type": "pie"
           }
          ],
          "scatter": [
           {
            "fillpattern": {
             "fillmode": "overlay",
             "size": 10,
             "solidity": 0.2
            },
            "type": "scatter"
           }
          ],
          "scatter3d": [
           {
            "line": {
             "colorbar": {
              "outlinewidth": 0,
              "ticks": ""
             }
            },
            "marker": {
             "colorbar": {
              "outlinewidth": 0,
              "ticks": ""
             }
            },
            "type": "scatter3d"
           }
          ],
          "scattercarpet": [
           {
            "marker": {
             "colorbar": {
              "outlinewidth": 0,
              "ticks": ""
             }
            },
            "type": "scattercarpet"
           }
          ],
          "scattergeo": [
           {
            "marker": {
             "colorbar": {
              "outlinewidth": 0,
              "ticks": ""
             }
            },
            "type": "scattergeo"
           }
          ],
          "scattergl": [
           {
            "marker": {
             "colorbar": {
              "outlinewidth": 0,
              "ticks": ""
             }
            },
            "type": "scattergl"
           }
          ],
          "scattermapbox": [
           {
            "marker": {
             "colorbar": {
              "outlinewidth": 0,
              "ticks": ""
             }
            },
            "type": "scattermapbox"
           }
          ],
          "scatterpolar": [
           {
            "marker": {
             "colorbar": {
              "outlinewidth": 0,
              "ticks": ""
             }
            },
            "type": "scatterpolar"
           }
          ],
          "scatterpolargl": [
           {
            "marker": {
             "colorbar": {
              "outlinewidth": 0,
              "ticks": ""
             }
            },
            "type": "scatterpolargl"
           }
          ],
          "scatterternary": [
           {
            "marker": {
             "colorbar": {
              "outlinewidth": 0,
              "ticks": ""
             }
            },
            "type": "scatterternary"
           }
          ],
          "surface": [
           {
            "colorbar": {
             "outlinewidth": 0,
             "ticks": ""
            },
            "colorscale": [
             [
              0,
              "#0d0887"
             ],
             [
              0.1111111111111111,
              "#46039f"
             ],
             [
              0.2222222222222222,
              "#7201a8"
             ],
             [
              0.3333333333333333,
              "#9c179e"
             ],
             [
              0.4444444444444444,
              "#bd3786"
             ],
             [
              0.5555555555555556,
              "#d8576b"
             ],
             [
              0.6666666666666666,
              "#ed7953"
             ],
             [
              0.7777777777777778,
              "#fb9f3a"
             ],
             [
              0.8888888888888888,
              "#fdca26"
             ],
             [
              1,
              "#f0f921"
             ]
            ],
            "type": "surface"
           }
          ],
          "table": [
           {
            "cells": {
             "fill": {
              "color": "#EBF0F8"
             },
             "line": {
              "color": "white"
             }
            },
            "header": {
             "fill": {
              "color": "#C8D4E3"
             },
             "line": {
              "color": "white"
             }
            },
            "type": "table"
           }
          ]
         },
         "layout": {
          "annotationdefaults": {
           "arrowcolor": "#2a3f5f",
           "arrowhead": 0,
           "arrowwidth": 1
          },
          "autotypenumbers": "strict",
          "coloraxis": {
           "colorbar": {
            "outlinewidth": 0,
            "ticks": ""
           }
          },
          "colorscale": {
           "diverging": [
            [
             0,
             "#8e0152"
            ],
            [
             0.1,
             "#c51b7d"
            ],
            [
             0.2,
             "#de77ae"
            ],
            [
             0.3,
             "#f1b6da"
            ],
            [
             0.4,
             "#fde0ef"
            ],
            [
             0.5,
             "#f7f7f7"
            ],
            [
             0.6,
             "#e6f5d0"
            ],
            [
             0.7,
             "#b8e186"
            ],
            [
             0.8,
             "#7fbc41"
            ],
            [
             0.9,
             "#4d9221"
            ],
            [
             1,
             "#276419"
            ]
           ],
           "sequential": [
            [
             0,
             "#0d0887"
            ],
            [
             0.1111111111111111,
             "#46039f"
            ],
            [
             0.2222222222222222,
             "#7201a8"
            ],
            [
             0.3333333333333333,
             "#9c179e"
            ],
            [
             0.4444444444444444,
             "#bd3786"
            ],
            [
             0.5555555555555556,
             "#d8576b"
            ],
            [
             0.6666666666666666,
             "#ed7953"
            ],
            [
             0.7777777777777778,
             "#fb9f3a"
            ],
            [
             0.8888888888888888,
             "#fdca26"
            ],
            [
             1,
             "#f0f921"
            ]
           ],
           "sequentialminus": [
            [
             0,
             "#0d0887"
            ],
            [
             0.1111111111111111,
             "#46039f"
            ],
            [
             0.2222222222222222,
             "#7201a8"
            ],
            [
             0.3333333333333333,
             "#9c179e"
            ],
            [
             0.4444444444444444,
             "#bd3786"
            ],
            [
             0.5555555555555556,
             "#d8576b"
            ],
            [
             0.6666666666666666,
             "#ed7953"
            ],
            [
             0.7777777777777778,
             "#fb9f3a"
            ],
            [
             0.8888888888888888,
             "#fdca26"
            ],
            [
             1,
             "#f0f921"
            ]
           ]
          },
          "colorway": [
           "#636efa",
           "#EF553B",
           "#00cc96",
           "#ab63fa",
           "#FFA15A",
           "#19d3f3",
           "#FF6692",
           "#B6E880",
           "#FF97FF",
           "#FECB52"
          ],
          "font": {
           "color": "#2a3f5f"
          },
          "geo": {
           "bgcolor": "white",
           "lakecolor": "white",
           "landcolor": "#E5ECF6",
           "showlakes": true,
           "showland": true,
           "subunitcolor": "white"
          },
          "hoverlabel": {
           "align": "left"
          },
          "hovermode": "closest",
          "mapbox": {
           "style": "light"
          },
          "paper_bgcolor": "white",
          "plot_bgcolor": "#E5ECF6",
          "polar": {
           "angularaxis": {
            "gridcolor": "white",
            "linecolor": "white",
            "ticks": ""
           },
           "bgcolor": "#E5ECF6",
           "radialaxis": {
            "gridcolor": "white",
            "linecolor": "white",
            "ticks": ""
           }
          },
          "scene": {
           "xaxis": {
            "backgroundcolor": "#E5ECF6",
            "gridcolor": "white",
            "gridwidth": 2,
            "linecolor": "white",
            "showbackground": true,
            "ticks": "",
            "zerolinecolor": "white"
           },
           "yaxis": {
            "backgroundcolor": "#E5ECF6",
            "gridcolor": "white",
            "gridwidth": 2,
            "linecolor": "white",
            "showbackground": true,
            "ticks": "",
            "zerolinecolor": "white"
           },
           "zaxis": {
            "backgroundcolor": "#E5ECF6",
            "gridcolor": "white",
            "gridwidth": 2,
            "linecolor": "white",
            "showbackground": true,
            "ticks": "",
            "zerolinecolor": "white"
           }
          },
          "shapedefaults": {
           "line": {
            "color": "#2a3f5f"
           }
          },
          "ternary": {
           "aaxis": {
            "gridcolor": "white",
            "linecolor": "white",
            "ticks": ""
           },
           "baxis": {
            "gridcolor": "white",
            "linecolor": "white",
            "ticks": ""
           },
           "bgcolor": "#E5ECF6",
           "caxis": {
            "gridcolor": "white",
            "linecolor": "white",
            "ticks": ""
           }
          },
          "title": {
           "x": 0.05
          },
          "xaxis": {
           "automargin": true,
           "gridcolor": "white",
           "linecolor": "white",
           "ticks": "",
           "title": {
            "standoff": 15
           },
           "zerolinecolor": "white",
           "zerolinewidth": 2
          },
          "yaxis": {
           "automargin": true,
           "gridcolor": "white",
           "linecolor": "white",
           "ticks": "",
           "title": {
            "standoff": 15
           },
           "zerolinecolor": "white",
           "zerolinewidth": 2
          }
         }
        },
        "title": {
         "text": "Distributions Comparison"
        },
        "width": 1200,
        "xaxis": {
         "anchor": "y",
         "domain": [
          0,
          0.2125
         ],
         "title": {
          "text": "Values of the Initial Spead Index"
         }
        },
        "xaxis2": {
         "anchor": "y2",
         "domain": [
          0.2625,
          0.475
         ],
         "title": {
          "text": "Values of the Initial Spead Index"
         }
        },
        "xaxis3": {
         "anchor": "y3",
         "domain": [
          0.525,
          0.7375
         ],
         "title": {
          "text": "Values of the Initial Spead Index"
         }
        },
        "xaxis4": {
         "anchor": "y4",
         "domain": [
          0.7875,
          1
         ],
         "title": {
          "text": "Values of the Initial Spead Index"
         }
        },
        "yaxis": {
         "anchor": "x",
         "domain": [
          0,
          1
         ],
         "title": {
          "text": "Probability Density"
         }
        },
        "yaxis2": {
         "anchor": "x2",
         "domain": [
          0,
          1
         ],
         "title": {
          "text": "Probability Density"
         }
        },
        "yaxis3": {
         "anchor": "x3",
         "domain": [
          0,
          1
         ],
         "title": {
          "text": "Probability Density"
         }
        },
        "yaxis4": {
         "anchor": "x4",
         "domain": [
          0,
          1
         ],
         "title": {
          "text": "Probability Density"
         }
        }
       }
      }
     },
     "metadata": {},
     "output_type": "display_data"
    }
   ],
   "source": [
    "# Create subplots with 1 row and 4 columns\n",
    "fig = make_subplots(rows=1, cols=4, subplot_titles=[\n",
    "    f'Normal Distribution', f'Gumbel Distribution', f'Log Pearson Distribution', f'General Extreme Distribution'\n",
    "])\n",
    "\n",
    "# Plot Normal Distribution\n",
    "params_1 = norm.fit(data[variable])\n",
    "D, p_value_1 = kstest(data[variable], norm.cdf, params_1)\n",
    "x_range_normal = np.linspace(data[variable].min(), data[variable].max(), 100)\n",
    "fig.add_trace(go.Histogram(x=data[variable], nbinsx=30, histnorm='probability density', name='Normal', opacity=0.7), row=1, col=1)\n",
    "fig.add_trace(go.Scatter(x=x_range_normal, y=norm.pdf(x_range_normal, *params_1), mode='lines', name='Normal Fit', line=dict(color='red', width=2)), row=1, col=1)\n",
    "fig.update_xaxes(title_text=f'Values of the {variable}', row=1, col=1)\n",
    "fig.update_yaxes(title_text='Probability Density', row=1, col=1)\n",
    "fig.update_layout(title_text=f'Normal Distribution with p_value: {round(p_value_1, 3)} & D: {round(D, 2)}', showlegend=False)\n",
    "\n",
    "# Plot Gumbel Distribution\n",
    "params_2 = gumbel_r.fit(data[variable])\n",
    "D, p_value_2 = kstest(data[variable], gumbel_r.cdf, params_2)\n",
    "x_range_gumbel = np.linspace(data[variable].min(), data[variable].max(), 100)\n",
    "fig.add_trace(go.Histogram(x=data[variable], nbinsx=30, histnorm='probability density', name='Gumbel', opacity=0.7), row=1, col=2)\n",
    "fig.add_trace(go.Scatter(x=x_range_gumbel, y=gumbel_r.pdf(x_range_gumbel, *params_2), mode='lines', name='Gumbel Fit', line=dict(color='red', width=2)), row=1, col=2)\n",
    "fig.update_xaxes(title_text=f'Values of the {variable}', row=1, col=2)\n",
    "fig.update_yaxes(title_text='Probability Density', row=1, col=2)\n",
    "fig.update_layout(title_text=f'Gumbel Distribution with p_value: {round(p_value_2, 3)} & D: {round(D, 2)}', showlegend=False)\n",
    "\n",
    "# Plot Log Pearson Distribution\n",
    "params_3 = lognorm.fit(data[variable])\n",
    "D, p_value_3 = kstest(data[variable], lognorm.cdf, params_3)\n",
    "x_range_lognorm = np.linspace(data[variable].min(), data[variable].max(), 100)\n",
    "fig.add_trace(go.Histogram(x=data[variable], nbinsx=30, histnorm='probability density', name='Log Pearson', opacity=0.7), row=1, col=3)\n",
    "fig.add_trace(go.Scatter(x=x_range_lognorm, y=lognorm.pdf(x_range_lognorm, *params_3), mode='lines', name='Log Pearson Fit', line=dict(color='red', width=2)), row=1, col=3)\n",
    "fig.update_xaxes(title_text=f'Values of the {variable}', row=1, col=3)\n",
    "fig.update_yaxes(title_text='Probability Density', row=1, col=3)\n",
    "fig.update_layout(title_text=f'Log Pearson Distribution with p_value: {round(p_value_3, 3)} & D: {round(D, 2)}', showlegend=False)\n",
    "\n",
    "# Plot General Extreme Distribution\n",
    "params_4 = genextreme.fit(data[variable])\n",
    "D, p_value_4 = kstest(data[variable], genextreme.cdf, params_4)\n",
    "x_range_genextreme = np.linspace(data[variable].min(), data[variable].max(), 100)\n",
    "fig.add_trace(go.Histogram(x=data[variable], nbinsx=30, histnorm='probability density', name='General Extreme', opacity=0.7), row=1, col=4)\n",
    "fig.add_trace(go.Scatter(x=x_range_genextreme, y=genextreme.pdf(x_range_genextreme, *params_4), mode='lines', name='General Extreme Fit', line=dict(color='red', width=2)), row=1, col=4)\n",
    "fig.update_xaxes(title_text=f'Values of the {variable}', row=1, col=4)\n",
    "fig.update_yaxes(title_text='Probability Density', row=1, col=4)\n",
    "fig.update_layout(title_text=f'General Extreme Distribution with p_value: {round(p_value_4, 3)} & D: {round(D, 2)}', showlegend=False)\n",
    "\n",
    "# Update layout to add title and adjust spacing\n",
    "fig.update_layout(title_text=\"Distributions Comparison\", showlegend=True, height=400, width=1200)\n",
    "\n",
    "# Show the plot\n",
    "fig.show()\n"
   ]
  },
  {
   "cell_type": "code",
   "execution_count": 133,
   "metadata": {},
   "outputs": [
    {
     "data": {
      "application/vnd.plotly.v1+json": {
       "config": {
        "plotlyServerURL": "https://plot.ly"
       },
       "data": [
        {
         "mode": "lines",
         "name": "Time Series",
         "type": "scatter",
         "x": [
          1940,
          1941,
          1942,
          1943,
          1944,
          1945,
          1946,
          1947,
          1948,
          1949,
          1950,
          1951,
          1952,
          1953,
          1954,
          1955,
          1956,
          1957,
          1958,
          1959,
          1960,
          1961,
          1962,
          1963,
          1964,
          1965,
          1966,
          1967,
          1968,
          1969,
          1970,
          1971,
          1972,
          1973,
          1974,
          1975,
          1976,
          1977,
          1978,
          1979,
          1980,
          1981,
          1982,
          1983,
          1984,
          1985,
          1986,
          1987,
          1988,
          1989,
          1990,
          1991,
          1992,
          1993,
          1994,
          1995,
          1996,
          1997,
          1998,
          1999,
          2000,
          2001,
          2002,
          2003,
          2004,
          2005,
          2006,
          2007,
          2008,
          2009,
          2010,
          2011,
          2012,
          2013,
          2014,
          2015,
          2016,
          2017,
          2018,
          2019,
          2020,
          2021,
          2022,
          2023
         ],
         "y": [
          20.4,
          17.42,
          28.97,
          20.22,
          30.63,
          29.91,
          28.62,
          26.12,
          32.61,
          31.46,
          28.48,
          27.65,
          24.98,
          24.8,
          27.64,
          37.67,
          23.2,
          35.92,
          30.53,
          33.67,
          32.49,
          34.22,
          24.28,
          32.34,
          22.51,
          26.04,
          24.29,
          20.47,
          20.38,
          19.11,
          17.25,
          17.49,
          17.66,
          17.23,
          15.39,
          16.17,
          18.79,
          18.68,
          14.09,
          15.64,
          17.75,
          19.56,
          15.31,
          17.89,
          16.13,
          17.85,
          14.08,
          20.18,
          20.16,
          14.44,
          12.4,
          15.36,
          12.5,
          11.93,
          16.33,
          23.07,
          21.08,
          22.56,
          21.11,
          23.12,
          19.03,
          16.97,
          18.73,
          18.27,
          21.92,
          20.56,
          17.63,
          22.63,
          23.28,
          16.69,
          23.71,
          22.15,
          24.68,
          16.51,
          17.56,
          18.36,
          21.42,
          22.55,
          19.93,
          26.41,
          23.13,
          17.83,
          22.36,
          17.26
         ]
        },
        {
         "line": {
          "color": "red"
         },
         "mode": "lines",
         "name": "Trend Line",
         "type": "scatter",
         "x": [
          1940,
          1941,
          1942,
          1943,
          1944,
          1945,
          1946,
          1947,
          1948,
          1949,
          1950,
          1951,
          1952,
          1953,
          1954,
          1955,
          1956,
          1957,
          1958,
          1959,
          1960,
          1961,
          1962,
          1963,
          1964,
          1965,
          1966,
          1967,
          1968,
          1969,
          1970,
          1971,
          1972,
          1973,
          1974,
          1975,
          1976,
          1977,
          1978,
          1979,
          1980,
          1981,
          1982,
          1983,
          1984,
          1985,
          1986,
          1987,
          1988,
          1989,
          1990,
          1991,
          1992,
          1993,
          1994,
          1995,
          1996,
          1997,
          1998,
          1999,
          2000,
          2001,
          2002,
          2003,
          2004,
          2005,
          2006,
          2007,
          2008,
          2009,
          2010,
          2011,
          2012,
          2013,
          2014,
          2015,
          2016,
          2017,
          2018,
          2019,
          2020,
          2021,
          2022,
          2023
         ],
         "y": [
          null,
          null,
          null,
          null,
          null,
          null,
          null,
          null,
          null,
          null,
          null,
          null,
          null,
          null,
          null,
          null,
          null,
          null,
          null,
          28.044999999999998,
          28.6495,
          29.4895,
          29.255000000000003,
          29.861,
          29.455000000000002,
          29.2615,
          29.045000000000005,
          28.7625,
          28.151,
          27.533499999999997,
          26.971999999999998,
          26.464,
          26.098000000000003,
          25.7195,
          25.107,
          24.032000000000004,
          23.811500000000002,
          22.9495,
          22.1275,
          21.226,
          20.489,
          19.756,
          19.3075,
          18.585,
          18.266,
          17.8565,
          17.346,
          17.3315,
          17.3205,
          17.086999999999996,
          16.8445,
          16.738000000000003,
          16.48,
          16.214999999999996,
          16.262,
          16.607,
          16.7215,
          16.9155,
          17.2665,
          17.6405,
          17.7045,
          17.575,
          17.746,
          17.765,
          18.0545,
          18.189999999999998,
          18.3675,
          18.490000000000002,
          18.646,
          18.7585,
          19.324,
          19.6635,
          20.2725,
          20.5015,
          20.563,
          20.3275,
          20.3445,
          20.344,
          20.285,
          20.4495,
          20.654500000000002,
          20.697499999999998,
          20.879,
          20.8285
         ]
        }
       ],
       "layout": {
        "template": {
         "data": {
          "bar": [
           {
            "error_x": {
             "color": "#f2f5fa"
            },
            "error_y": {
             "color": "#f2f5fa"
            },
            "marker": {
             "line": {
              "color": "rgb(17,17,17)",
              "width": 0.5
             },
             "pattern": {
              "fillmode": "overlay",
              "size": 10,
              "solidity": 0.2
             }
            },
            "type": "bar"
           }
          ],
          "barpolar": [
           {
            "marker": {
             "line": {
              "color": "rgb(17,17,17)",
              "width": 0.5
             },
             "pattern": {
              "fillmode": "overlay",
              "size": 10,
              "solidity": 0.2
             }
            },
            "type": "barpolar"
           }
          ],
          "carpet": [
           {
            "aaxis": {
             "endlinecolor": "#A2B1C6",
             "gridcolor": "#506784",
             "linecolor": "#506784",
             "minorgridcolor": "#506784",
             "startlinecolor": "#A2B1C6"
            },
            "baxis": {
             "endlinecolor": "#A2B1C6",
             "gridcolor": "#506784",
             "linecolor": "#506784",
             "minorgridcolor": "#506784",
             "startlinecolor": "#A2B1C6"
            },
            "type": "carpet"
           }
          ],
          "choropleth": [
           {
            "colorbar": {
             "outlinewidth": 0,
             "ticks": ""
            },
            "type": "choropleth"
           }
          ],
          "contour": [
           {
            "colorbar": {
             "outlinewidth": 0,
             "ticks": ""
            },
            "colorscale": [
             [
              0,
              "#0d0887"
             ],
             [
              0.1111111111111111,
              "#46039f"
             ],
             [
              0.2222222222222222,
              "#7201a8"
             ],
             [
              0.3333333333333333,
              "#9c179e"
             ],
             [
              0.4444444444444444,
              "#bd3786"
             ],
             [
              0.5555555555555556,
              "#d8576b"
             ],
             [
              0.6666666666666666,
              "#ed7953"
             ],
             [
              0.7777777777777778,
              "#fb9f3a"
             ],
             [
              0.8888888888888888,
              "#fdca26"
             ],
             [
              1,
              "#f0f921"
             ]
            ],
            "type": "contour"
           }
          ],
          "contourcarpet": [
           {
            "colorbar": {
             "outlinewidth": 0,
             "ticks": ""
            },
            "type": "contourcarpet"
           }
          ],
          "heatmap": [
           {
            "colorbar": {
             "outlinewidth": 0,
             "ticks": ""
            },
            "colorscale": [
             [
              0,
              "#0d0887"
             ],
             [
              0.1111111111111111,
              "#46039f"
             ],
             [
              0.2222222222222222,
              "#7201a8"
             ],
             [
              0.3333333333333333,
              "#9c179e"
             ],
             [
              0.4444444444444444,
              "#bd3786"
             ],
             [
              0.5555555555555556,
              "#d8576b"
             ],
             [
              0.6666666666666666,
              "#ed7953"
             ],
             [
              0.7777777777777778,
              "#fb9f3a"
             ],
             [
              0.8888888888888888,
              "#fdca26"
             ],
             [
              1,
              "#f0f921"
             ]
            ],
            "type": "heatmap"
           }
          ],
          "heatmapgl": [
           {
            "colorbar": {
             "outlinewidth": 0,
             "ticks": ""
            },
            "colorscale": [
             [
              0,
              "#0d0887"
             ],
             [
              0.1111111111111111,
              "#46039f"
             ],
             [
              0.2222222222222222,
              "#7201a8"
             ],
             [
              0.3333333333333333,
              "#9c179e"
             ],
             [
              0.4444444444444444,
              "#bd3786"
             ],
             [
              0.5555555555555556,
              "#d8576b"
             ],
             [
              0.6666666666666666,
              "#ed7953"
             ],
             [
              0.7777777777777778,
              "#fb9f3a"
             ],
             [
              0.8888888888888888,
              "#fdca26"
             ],
             [
              1,
              "#f0f921"
             ]
            ],
            "type": "heatmapgl"
           }
          ],
          "histogram": [
           {
            "marker": {
             "pattern": {
              "fillmode": "overlay",
              "size": 10,
              "solidity": 0.2
             }
            },
            "type": "histogram"
           }
          ],
          "histogram2d": [
           {
            "colorbar": {
             "outlinewidth": 0,
             "ticks": ""
            },
            "colorscale": [
             [
              0,
              "#0d0887"
             ],
             [
              0.1111111111111111,
              "#46039f"
             ],
             [
              0.2222222222222222,
              "#7201a8"
             ],
             [
              0.3333333333333333,
              "#9c179e"
             ],
             [
              0.4444444444444444,
              "#bd3786"
             ],
             [
              0.5555555555555556,
              "#d8576b"
             ],
             [
              0.6666666666666666,
              "#ed7953"
             ],
             [
              0.7777777777777778,
              "#fb9f3a"
             ],
             [
              0.8888888888888888,
              "#fdca26"
             ],
             [
              1,
              "#f0f921"
             ]
            ],
            "type": "histogram2d"
           }
          ],
          "histogram2dcontour": [
           {
            "colorbar": {
             "outlinewidth": 0,
             "ticks": ""
            },
            "colorscale": [
             [
              0,
              "#0d0887"
             ],
             [
              0.1111111111111111,
              "#46039f"
             ],
             [
              0.2222222222222222,
              "#7201a8"
             ],
             [
              0.3333333333333333,
              "#9c179e"
             ],
             [
              0.4444444444444444,
              "#bd3786"
             ],
             [
              0.5555555555555556,
              "#d8576b"
             ],
             [
              0.6666666666666666,
              "#ed7953"
             ],
             [
              0.7777777777777778,
              "#fb9f3a"
             ],
             [
              0.8888888888888888,
              "#fdca26"
             ],
             [
              1,
              "#f0f921"
             ]
            ],
            "type": "histogram2dcontour"
           }
          ],
          "mesh3d": [
           {
            "colorbar": {
             "outlinewidth": 0,
             "ticks": ""
            },
            "type": "mesh3d"
           }
          ],
          "parcoords": [
           {
            "line": {
             "colorbar": {
              "outlinewidth": 0,
              "ticks": ""
             }
            },
            "type": "parcoords"
           }
          ],
          "pie": [
           {
            "automargin": true,
            "type": "pie"
           }
          ],
          "scatter": [
           {
            "marker": {
             "line": {
              "color": "#283442"
             }
            },
            "type": "scatter"
           }
          ],
          "scatter3d": [
           {
            "line": {
             "colorbar": {
              "outlinewidth": 0,
              "ticks": ""
             }
            },
            "marker": {
             "colorbar": {
              "outlinewidth": 0,
              "ticks": ""
             }
            },
            "type": "scatter3d"
           }
          ],
          "scattercarpet": [
           {
            "marker": {
             "colorbar": {
              "outlinewidth": 0,
              "ticks": ""
             }
            },
            "type": "scattercarpet"
           }
          ],
          "scattergeo": [
           {
            "marker": {
             "colorbar": {
              "outlinewidth": 0,
              "ticks": ""
             }
            },
            "type": "scattergeo"
           }
          ],
          "scattergl": [
           {
            "marker": {
             "line": {
              "color": "#283442"
             }
            },
            "type": "scattergl"
           }
          ],
          "scattermapbox": [
           {
            "marker": {
             "colorbar": {
              "outlinewidth": 0,
              "ticks": ""
             }
            },
            "type": "scattermapbox"
           }
          ],
          "scatterpolar": [
           {
            "marker": {
             "colorbar": {
              "outlinewidth": 0,
              "ticks": ""
             }
            },
            "type": "scatterpolar"
           }
          ],
          "scatterpolargl": [
           {
            "marker": {
             "colorbar": {
              "outlinewidth": 0,
              "ticks": ""
             }
            },
            "type": "scatterpolargl"
           }
          ],
          "scatterternary": [
           {
            "marker": {
             "colorbar": {
              "outlinewidth": 0,
              "ticks": ""
             }
            },
            "type": "scatterternary"
           }
          ],
          "surface": [
           {
            "colorbar": {
             "outlinewidth": 0,
             "ticks": ""
            },
            "colorscale": [
             [
              0,
              "#0d0887"
             ],
             [
              0.1111111111111111,
              "#46039f"
             ],
             [
              0.2222222222222222,
              "#7201a8"
             ],
             [
              0.3333333333333333,
              "#9c179e"
             ],
             [
              0.4444444444444444,
              "#bd3786"
             ],
             [
              0.5555555555555556,
              "#d8576b"
             ],
             [
              0.6666666666666666,
              "#ed7953"
             ],
             [
              0.7777777777777778,
              "#fb9f3a"
             ],
             [
              0.8888888888888888,
              "#fdca26"
             ],
             [
              1,
              "#f0f921"
             ]
            ],
            "type": "surface"
           }
          ],
          "table": [
           {
            "cells": {
             "fill": {
              "color": "#506784"
             },
             "line": {
              "color": "rgb(17,17,17)"
             }
            },
            "header": {
             "fill": {
              "color": "#2a3f5f"
             },
             "line": {
              "color": "rgb(17,17,17)"
             }
            },
            "type": "table"
           }
          ]
         },
         "layout": {
          "annotationdefaults": {
           "arrowcolor": "#f2f5fa",
           "arrowhead": 0,
           "arrowwidth": 1
          },
          "autotypenumbers": "strict",
          "coloraxis": {
           "colorbar": {
            "outlinewidth": 0,
            "ticks": ""
           }
          },
          "colorscale": {
           "diverging": [
            [
             0,
             "#8e0152"
            ],
            [
             0.1,
             "#c51b7d"
            ],
            [
             0.2,
             "#de77ae"
            ],
            [
             0.3,
             "#f1b6da"
            ],
            [
             0.4,
             "#fde0ef"
            ],
            [
             0.5,
             "#f7f7f7"
            ],
            [
             0.6,
             "#e6f5d0"
            ],
            [
             0.7,
             "#b8e186"
            ],
            [
             0.8,
             "#7fbc41"
            ],
            [
             0.9,
             "#4d9221"
            ],
            [
             1,
             "#276419"
            ]
           ],
           "sequential": [
            [
             0,
             "#0d0887"
            ],
            [
             0.1111111111111111,
             "#46039f"
            ],
            [
             0.2222222222222222,
             "#7201a8"
            ],
            [
             0.3333333333333333,
             "#9c179e"
            ],
            [
             0.4444444444444444,
             "#bd3786"
            ],
            [
             0.5555555555555556,
             "#d8576b"
            ],
            [
             0.6666666666666666,
             "#ed7953"
            ],
            [
             0.7777777777777778,
             "#fb9f3a"
            ],
            [
             0.8888888888888888,
             "#fdca26"
            ],
            [
             1,
             "#f0f921"
            ]
           ],
           "sequentialminus": [
            [
             0,
             "#0d0887"
            ],
            [
             0.1111111111111111,
             "#46039f"
            ],
            [
             0.2222222222222222,
             "#7201a8"
            ],
            [
             0.3333333333333333,
             "#9c179e"
            ],
            [
             0.4444444444444444,
             "#bd3786"
            ],
            [
             0.5555555555555556,
             "#d8576b"
            ],
            [
             0.6666666666666666,
             "#ed7953"
            ],
            [
             0.7777777777777778,
             "#fb9f3a"
            ],
            [
             0.8888888888888888,
             "#fdca26"
            ],
            [
             1,
             "#f0f921"
            ]
           ]
          },
          "colorway": [
           "#636efa",
           "#EF553B",
           "#00cc96",
           "#ab63fa",
           "#FFA15A",
           "#19d3f3",
           "#FF6692",
           "#B6E880",
           "#FF97FF",
           "#FECB52"
          ],
          "font": {
           "color": "#f2f5fa"
          },
          "geo": {
           "bgcolor": "rgb(17,17,17)",
           "lakecolor": "rgb(17,17,17)",
           "landcolor": "rgb(17,17,17)",
           "showlakes": true,
           "showland": true,
           "subunitcolor": "#506784"
          },
          "hoverlabel": {
           "align": "left"
          },
          "hovermode": "closest",
          "mapbox": {
           "style": "dark"
          },
          "paper_bgcolor": "rgb(17,17,17)",
          "plot_bgcolor": "rgb(17,17,17)",
          "polar": {
           "angularaxis": {
            "gridcolor": "#506784",
            "linecolor": "#506784",
            "ticks": ""
           },
           "bgcolor": "rgb(17,17,17)",
           "radialaxis": {
            "gridcolor": "#506784",
            "linecolor": "#506784",
            "ticks": ""
           }
          },
          "scene": {
           "xaxis": {
            "backgroundcolor": "rgb(17,17,17)",
            "gridcolor": "#506784",
            "gridwidth": 2,
            "linecolor": "#506784",
            "showbackground": true,
            "ticks": "",
            "zerolinecolor": "#C8D4E3"
           },
           "yaxis": {
            "backgroundcolor": "rgb(17,17,17)",
            "gridcolor": "#506784",
            "gridwidth": 2,
            "linecolor": "#506784",
            "showbackground": true,
            "ticks": "",
            "zerolinecolor": "#C8D4E3"
           },
           "zaxis": {
            "backgroundcolor": "rgb(17,17,17)",
            "gridcolor": "#506784",
            "gridwidth": 2,
            "linecolor": "#506784",
            "showbackground": true,
            "ticks": "",
            "zerolinecolor": "#C8D4E3"
           }
          },
          "shapedefaults": {
           "line": {
            "color": "#f2f5fa"
           }
          },
          "sliderdefaults": {
           "bgcolor": "#C8D4E3",
           "bordercolor": "rgb(17,17,17)",
           "borderwidth": 1,
           "tickwidth": 0
          },
          "ternary": {
           "aaxis": {
            "gridcolor": "#506784",
            "linecolor": "#506784",
            "ticks": ""
           },
           "baxis": {
            "gridcolor": "#506784",
            "linecolor": "#506784",
            "ticks": ""
           },
           "bgcolor": "rgb(17,17,17)",
           "caxis": {
            "gridcolor": "#506784",
            "linecolor": "#506784",
            "ticks": ""
           }
          },
          "title": {
           "x": 0.05
          },
          "updatemenudefaults": {
           "bgcolor": "#506784",
           "borderwidth": 0
          },
          "xaxis": {
           "automargin": true,
           "gridcolor": "#283442",
           "linecolor": "#506784",
           "ticks": "",
           "title": {
            "standoff": 15
           },
           "zerolinecolor": "#283442",
           "zerolinewidth": 2
          },
          "yaxis": {
           "automargin": true,
           "gridcolor": "#283442",
           "linecolor": "#506784",
           "ticks": "",
           "title": {
            "standoff": 15
           },
           "zerolinecolor": "#283442",
           "zerolinewidth": 2
          }
         }
        },
        "title": {
         "text": "Time Series Plot for Initial Spead Index"
        },
        "xaxis": {
         "title": {
          "text": "Time"
         }
        },
        "yaxis": {
         "title": {
          "text": "Initial Spead Index"
         }
        }
       }
      }
     },
     "metadata": {},
     "output_type": "display_data"
    }
   ],
   "source": [
    "# Create a time series plot with Plotly Graph Objects\n",
    "figure = go.Figure()\n",
    "\n",
    "# Add a scatter trace\n",
    "figure.add_trace(go.Scatter(x=data['Year'], y=data[variable], mode='lines', name='Time Series'))\n",
    "# Add trendline\n",
    "figure.add_trace(go.Scatter(x=data['Year'], y=data[variable].rolling(window=20).mean(), \n",
    "                         mode='lines', name='Trend Line', line=dict(color='red')))\n",
    "\n",
    "# Customize the layout if needed\n",
    "figure.update_layout(\n",
    "    title=f'Time Series Plot for {variable}',\n",
    "    xaxis_title='Time',\n",
    "    yaxis_title=variable,\n",
    "    template='plotly_dark',  # You can choose a different template if desired\n",
    ")\n",
    "\n",
    "# Show the plot\n",
    "figure.show()"
   ]
  },
  {
   "cell_type": "markdown",
   "metadata": {},
   "source": []
  },
  {
   "cell_type": "code",
   "execution_count": 137,
   "metadata": {},
   "outputs": [
    {
     "name": "stdout",
     "output_type": "stream",
     "text": [
      "Estimated value for a 2-year return period: -3.369527871429053\n",
      "Estimated value for a 5-year return period: -4.129328738837346\n",
      "Estimated value for a 10-year return period: -4.133296122689199\n",
      "Estimated value for a 50-year return period: -4.133424575826062\n"
     ]
    }
   ],
   "source": [
    "from scipy.stats import genextreme\n",
    "import numpy as np\n",
    "\n",
    "\n",
    "# Return periods (in years)\n",
    "return_periods = [2, 5, 10, 50]\n",
    "\n",
    "# Function to estimate the values corresponding to return periods\n",
    "def estimate_values_from_return_periods(return_periods, params):\n",
    "    location, scale, shape = params\n",
    "    return location + scale * ((-np.log(1 - 1/np.array(return_periods))) ** shape - 1) / shape\n",
    "\n",
    "# Estimate the values corresponding to the given return periods\n",
    "estimated_values = estimate_values_from_return_periods(return_periods, params_4)\n",
    "\n",
    "# Print the results\n",
    "for period, value in zip(return_periods, estimated_values):\n",
    "    print(f\"Estimated value for a {period}-year return period: {value}\")\n"
   ]
  },
  {
   "cell_type": "code",
   "execution_count": 135,
   "metadata": {},
   "outputs": [
    {
     "data": {
      "text/plain": [
       "(0.009427100639550802, 19.110781718742807, 4.612953327798838)"
      ]
     },
     "execution_count": 135,
     "metadata": {},
     "output_type": "execute_result"
    }
   ],
   "source": [
    "params_4"
   ]
  },
  {
   "cell_type": "code",
   "execution_count": null,
   "metadata": {},
   "outputs": [],
   "source": []
  },
  {
   "cell_type": "code",
   "execution_count": null,
   "metadata": {},
   "outputs": [],
   "source": []
  },
  {
   "cell_type": "code",
   "execution_count": null,
   "metadata": {},
   "outputs": [],
   "source": []
  }
 ],
 "metadata": {
  "kernelspec": {
   "display_name": "hydromt",
   "language": "python",
   "name": "python3"
  },
  "language_info": {
   "codemirror_mode": {
    "name": "ipython",
    "version": 3
   },
   "file_extension": ".py",
   "mimetype": "text/x-python",
   "name": "python",
   "nbconvert_exporter": "python",
   "pygments_lexer": "ipython3",
   "version": "3.11.3"
  }
 },
 "nbformat": 4,
 "nbformat_minor": 2
}
