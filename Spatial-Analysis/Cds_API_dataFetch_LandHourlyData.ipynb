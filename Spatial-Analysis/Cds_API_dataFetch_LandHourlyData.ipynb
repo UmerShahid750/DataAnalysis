{
 "cells": [
  {
   "cell_type": "code",
   "execution_count": 1,
   "id": "618a580d",
   "metadata": {},
   "outputs": [],
   "source": [
    "import cdsapi\n",
    "import pandas as pd\n",
    "import xarray as xr\n",
    "import numpy as np\n",
    "import datetime\n",
    "import os"
   ]
  },
  {
   "cell_type": "code",
   "execution_count": 3,
   "id": "02110967",
   "metadata": {},
   "outputs": [
    {
     "name": "stdout",
     "output_type": "stream",
     "text": [
      "year: [1989]\n"
     ]
    }
   ],
   "source": [
    "#Change the date range accordingly\n",
    "daterange = pd.date_range(datetime.date(1989, 1, 1), datetime.date(1989,1, 31))\n",
    "years = list(set([date.year for date in daterange]))\n",
    "months = list(set([date.month for date in daterange]))\n",
    "years.sort()\n",
    "print(\"year:\", years)\n",
    "\n",
    "# perils: \"total_precipitation\", '2m_temperature'\n",
    "#Paste the required peril in the list below\n",
    "perils = ['total_precipitation']\n",
    "c = cdsapi.Client()"
   ]
  },
  {
   "cell_type": "code",
   "execution_count": 4,
   "id": "961bdd32",
   "metadata": {},
   "outputs": [
    {
     "data": {
      "text/plain": [
       "[1989]"
      ]
     },
     "execution_count": 4,
     "metadata": {},
     "output_type": "execute_result"
    }
   ],
   "source": [
    "years"
   ]
  },
  {
   "cell_type": "code",
   "execution_count": 5,
   "id": "43dfc5a4",
   "metadata": {},
   "outputs": [
    {
     "data": {
      "text/plain": [
       "[1]"
      ]
     },
     "execution_count": 5,
     "metadata": {},
     "output_type": "execute_result"
    }
   ],
   "source": [
    "months"
   ]
  },
  {
   "cell_type": "code",
   "execution_count": 6,
   "id": "11d45891",
   "metadata": {},
   "outputs": [
    {
     "data": {
      "text/plain": [
       "['total_precipitation']"
      ]
     },
     "execution_count": 6,
     "metadata": {},
     "output_type": "execute_result"
    }
   ],
   "source": [
    "perils"
   ]
  },
  {
   "cell_type": "code",
   "execution_count": 7,
   "id": "856a6e00",
   "metadata": {},
   "outputs": [
    {
     "data": {
      "text/plain": [
       "[1]"
      ]
     },
     "execution_count": 7,
     "metadata": {},
     "output_type": "execute_result"
    }
   ],
   "source": [
    "months"
   ]
  },
  {
   "cell_type": "code",
   "execution_count": 8,
   "id": "3fcbbbac",
   "metadata": {},
   "outputs": [],
   "source": [
    "North = 33.27\n",
    "South = 30.27\n",
    "East = 71.26\n",
    "West = 67.11"
   ]
  },
  {
   "cell_type": "code",
   "execution_count": 9,
   "id": "a6b9a0fa",
   "metadata": {},
   "outputs": [],
   "source": [
    "# #ERA5 single level data\n",
    "# try:\n",
    "#     i=0\n",
    "#     for year in years:\n",
    "#         print(years[i])\n",
    "#         j=0\n",
    "#         for month in months:\n",
    "#             print(months[j])\n",
    "#             k=0\n",
    "#             for each_peril in perils:\n",
    "                \n",
    "# #                 print(each_peril)\n",
    "                \n",
    "#                 filename = str(years[i])+\"_\"+str(months[j])+\"_\"+str(each_peril)+\".nc\"\n",
    "#                 print(perils[k])\n",
    "#                 k+=1\n",
    "#                 print(filename)\n",
    "#                 print(year)\n",
    "#                 c.retrieve(\n",
    "#                     'reanalysis-era5-single-levels',\n",
    "#                     {\n",
    "#                         'product_type': 'reanalysis',\n",
    "#                         'variable': each_peril,\n",
    "#                         'year': years[i],\n",
    "#                         'month': months[j],\n",
    "#                         'day': [\n",
    "#                             '01', '02', '03',\n",
    "#                             '04', '05', '06',\n",
    "#                             '07', '08', '09',\n",
    "#                             '10', '11', '12',\n",
    "#                             '13', '14', '15',\n",
    "#                             '16', '17', '18',\n",
    "#                             '19', '20', '21',\n",
    "#                             '22', '23', '24',\n",
    "#                             '25', '26', '27',\n",
    "#                             '28', '29', '30',\n",
    "#                             '31',\n",
    "#                         ],\n",
    "#                         'time': [\n",
    "#                             '00:00', '01:00', '02:00',\n",
    "#                             '03:00', '04:00', '05:00',\n",
    "#                             '06:00', '07:00', '08:00',\n",
    "#                             '09:00', '10:00', '11:00',\n",
    "#                             '12:00', '13:00', '14:00',\n",
    "#                             '15:00', '16:00', '17:00',\n",
    "#                             '18:00', '19:00', '20:00',\n",
    "#                             '21:00', '22:00', '23:00',\n",
    "#                         ],\n",
    "#                         'area': [\n",
    "#                             North, West, South,\n",
    "#                             East,\n",
    "#                         ],\n",
    "#                         'format': 'netcdf',\n",
    "#                     },\n",
    "#                     filename)\n",
    "#                 print(f\"download request completed, data downloaded for {each_peril}, year: {year} and month: {months} at  {filename}\")\n",
    "  \n",
    "#             j+=1\n",
    "#         i+=1\n",
    "#     print(\"ALL DONE\")\n",
    "# except Exception as e:\n",
    "#     print(e)"
   ]
  },
  {
   "cell_type": "code",
   "execution_count": 10,
   "id": "cc6e90c7",
   "metadata": {},
   "outputs": [
    {
     "name": "stdout",
     "output_type": "stream",
     "text": [
      "1989\n",
      "1\n",
      "total_precipitation\n",
      "1989_1_total_precipitation.nc\n",
      "1989\n"
     ]
    },
    {
     "name": "stderr",
     "output_type": "stream",
     "text": [
      "2023-05-13 01:14:08,141 INFO Welcome to the CDS\n",
      "2023-05-13 01:14:08,141 INFO Sending request to https://cds.climate.copernicus.eu/api/v2/resources/reanalysis-era5-land\n",
      "2023-05-13 01:14:08,362 INFO Request is completed\n",
      "2023-05-13 01:14:08,362 INFO Downloading https://download-0002-clone.copernicus-climate.eu/cache-compute-0002/cache/data0/adaptor.mars.internal-1683921932.7679672-16400-14-f2fb47df-1baf-412b-b969-754c4d450443.nc to 1989_1_total_precipitation.nc (80.3K)\n",
      "2023-05-13 01:14:09,511 INFO Download rate 69.9K/s                                                                     \n"
     ]
    },
    {
     "name": "stdout",
     "output_type": "stream",
     "text": [
      "download request completed, data downloaded for total_precipitation, year: 1989 and month: [1] at  1989_1_total_precipitation.nc\n",
      "ALL DONE\n"
     ]
    }
   ],
   "source": [
    "try:\n",
    "    i=0\n",
    "    for year in years:\n",
    "        print(years[i])\n",
    "        j=0\n",
    "        for month in months:\n",
    "            print(months[j])\n",
    "            k=0\n",
    "            for each_peril in perils:\n",
    "                \n",
    "#                 print(each_peril)\n",
    "                \n",
    "                filename = str(years[i])+\"_\"+str(months[j])+\"_\"+str(each_peril)+\".nc\"\n",
    "                print(perils[k])\n",
    "                k+=1\n",
    "                print(filename)\n",
    "                print(year)\n",
    "                c.retrieve(\n",
    "                    'reanalysis-era5-land',\n",
    "                    {\n",
    "                        'variable': each_peril,\n",
    "                        'year': years[i],\n",
    "                        'month': months[j],\n",
    "                        'day': [\n",
    "                            '01', '02', '03',\n",
    "                            '04', '05', '06',\n",
    "                            '07', '08', '09',\n",
    "                            '10', '11', '12',\n",
    "                            '13', '14', '15',\n",
    "                            '16', '17', '18',\n",
    "                            '19', '20', '21',\n",
    "                            '22', '23', '24',\n",
    "                            '25', '26', '27',\n",
    "                            '28', '29', '30',\n",
    "                            '31',\n",
    "                        ],\n",
    "                        'time': [\n",
    "                            '00:00',\n",
    "                        ],\n",
    "                        'area': [\n",
    "                            North, West, South,\n",
    "                            East,\n",
    "                        ],\n",
    "                        'format': 'netcdf',\n",
    "                    },\n",
    "                    filename)\n",
    "                print(f\"download request completed, data downloaded for {each_peril}, year: {year} and month: {months} at  {filename}\")\n",
    "  \n",
    "            j+=1\n",
    "        i+=1\n",
    "    print(\"ALL DONE\")\n",
    "except Exception as e:\n",
    "    print(e)"
   ]
  },
  {
   "cell_type": "code",
   "execution_count": 9,
   "id": "0f26666c",
   "metadata": {},
   "outputs": [
    {
     "name": "stdout",
     "output_type": "stream",
     "text": [
      "1989\n",
      "1\n",
      "total_precipitation\n",
      "1989_1_total_precipitation.nc\n",
      "1989\n"
     ]
    },
    {
     "name": "stderr",
     "output_type": "stream",
     "text": [
      "2023-05-13 00:49:05,847 INFO Welcome to the CDS\n",
      "2023-05-13 00:49:05,848 INFO Sending request to https://cds.climate.copernicus.eu/api/v2/resources/reanalysis-era5-land\n",
      "2023-05-13 00:49:06,009 INFO Request is queued\n",
      "2023-05-13 00:49:07,156 INFO Request is completed\n",
      "2023-05-13 00:49:07,157 INFO Downloading https://download-0016.copernicus-climate.eu/cache-compute-0016/cache/data0/adaptor.mars.internal-1683917970.1827714-17979-14-cf8b729b-43d0-4f02-ba69-f5ec4b0e8c4c.nc to 1989_1_total_precipitation.nc (1.9M)\n",
      "2023-05-13 00:49:21,611 INFO Download rate 131.2K/s                                                                    \n"
     ]
    },
    {
     "name": "stdout",
     "output_type": "stream",
     "text": [
      "download request completed, data downloaded for total_precipitation, year: 1989 and month: [1] at  1989_1_total_precipitation.nc\n",
      "ALL DONE\n"
     ]
    }
   ],
   "source": [
    "# try:\n",
    "#     i=0\n",
    "#     for year in years:\n",
    "#         print(years[i])\n",
    "#         j=0\n",
    "#         for month in months:\n",
    "#             print(months[j])\n",
    "#             k=0\n",
    "#             for each_peril in perils:\n",
    "                \n",
    "# #                 print(each_peril)\n",
    "                \n",
    "#                 filename = str(years[i])+\"_\"+str(months[j])+\"_\"+str(each_peril)+\".nc\"\n",
    "#                 print(perils[k])\n",
    "#                 k+=1\n",
    "#                 print(filename)\n",
    "#                 print(year)\n",
    "#                 c.retrieve(\n",
    "#                     'reanalysis-era5-land',\n",
    "#                     {\n",
    "#                         'variable': each_peril,\n",
    "#                         'year': years[i],\n",
    "#                         'month': months[j],\n",
    "#                         'day': [\n",
    "#                             '01', '02', '03',\n",
    "#                             '04', '05', '06',\n",
    "#                             '07', '08', '09',\n",
    "#                             '10', '11', '12',\n",
    "#                             '13', '14', '15',\n",
    "#                             '16', '17', '18',\n",
    "#                             '19', '20', '21',\n",
    "#                             '22', '23', '24',\n",
    "#                             '25', '26', '27',\n",
    "#                             '28', '29', '30',\n",
    "#                             '31',\n",
    "#                         ],\n",
    "#                         'time': [\n",
    "#                             '00:00', '01:00', '02:00',\n",
    "#                             '03:00', '04:00', '05:00',\n",
    "#                             '06:00', '07:00', '08:00',\n",
    "#                             '09:00', '10:00', '11:00',\n",
    "#                             '12:00', '13:00', '14:00',\n",
    "#                             '15:00', '16:00', '17:00',\n",
    "#                             '18:00', '19:00', '20:00',\n",
    "#                             '21:00', '22:00', '23:00',\n",
    "#                         ],\n",
    "#                         'area': [\n",
    "#                             North, West, South,\n",
    "#                             East,\n",
    "#                         ],\n",
    "#                         'format': 'netcdf',\n",
    "#                     },\n",
    "#                     filename)\n",
    "#                 print(f\"download request completed, data downloaded for {each_peril}, year: {year} and month: {months} at  {filename}\")\n",
    "  \n",
    "#             j+=1\n",
    "#         i+=1\n",
    "#     print(\"ALL DONE\")\n",
    "# except Exception as e:\n",
    "#     print(e)"
   ]
  },
  {
   "cell_type": "code",
   "execution_count": null,
   "id": "470adfe4",
   "metadata": {},
   "outputs": [],
   "source": []
  }
 ],
 "metadata": {
  "kernelspec": {
   "display_name": "infarmer_env",
   "language": "python",
   "name": "infarmer_env"
  },
  "language_info": {
   "codemirror_mode": {
    "name": "ipython",
    "version": 3
   },
   "file_extension": ".py",
   "mimetype": "text/x-python",
   "name": "python",
   "nbconvert_exporter": "python",
   "pygments_lexer": "ipython3",
   "version": "3.10.0"
  }
 },
 "nbformat": 4,
 "nbformat_minor": 5
}
