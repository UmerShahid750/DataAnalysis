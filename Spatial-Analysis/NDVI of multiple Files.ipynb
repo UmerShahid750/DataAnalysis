{
 "cells": [
  {
   "cell_type": "code",
   "execution_count": 9,
   "metadata": {},
   "outputs": [],
   "source": [
    "import os\n",
    "import rasterio\n",
    "import numpy as np\n"
   ]
  },
  {
   "cell_type": "code",
   "execution_count": 14,
   "metadata": {},
   "outputs": [],
   "source": [
    "# Path to the folder containing the Band 4 and Band 8 files\n",
    "main_folder = r'C:\\Users\\LENOVO\\OneDrive\\inFarmer\\8. Crop Mapping\\StarchPak-2024_Maize\\S3 Data'\n",
    "# output_folder = 'path/to/your/output_folder'"
   ]
  },
  {
   "cell_type": "code",
   "execution_count": 15,
   "metadata": {},
   "outputs": [
    {
     "name": "stdout",
     "output_type": "stream",
     "text": [
      "C:\\Users\\LENOVO\\OneDrive\\inFarmer\\8. Crop Mapping\\StarchPak-2024_Maize\\S3 Data\\03Oct\n",
      "NDVI calculated and saved to C:\\Users\\LENOVO\\OneDrive\\inFarmer\\8. Crop Mapping\\StarchPak-2024_Maize\\S3 Data\\03Oct\\NDVI_03Oct\n",
      "C:\\Users\\LENOVO\\OneDrive\\inFarmer\\8. Crop Mapping\\StarchPak-2024_Maize\\S3 Data\\08-09\n"
     ]
    },
    {
     "name": "stderr",
     "output_type": "stream",
     "text": [
      "C:\\Users\\LENOVO\\AppData\\Local\\Temp\\ipykernel_14776\\1036180799.py:14: RuntimeWarning: invalid value encountered in divide\n",
      "  ndvi = np.where((nir + red) == 0, 0, (nir - red) / (nir + red))\n"
     ]
    },
    {
     "name": "stdout",
     "output_type": "stream",
     "text": [
      "NDVI calculated and saved to C:\\Users\\LENOVO\\OneDrive\\inFarmer\\8. Crop Mapping\\StarchPak-2024_Maize\\S3 Data\\08-09\\NDVI_08-09\n",
      "C:\\Users\\LENOVO\\OneDrive\\inFarmer\\8. Crop Mapping\\StarchPak-2024_Maize\\S3 Data\\08Oct\n",
      "NDVI calculated and saved to C:\\Users\\LENOVO\\OneDrive\\inFarmer\\8. Crop Mapping\\StarchPak-2024_Maize\\S3 Data\\08Oct\\NDVI_08Oct\n",
      "C:\\Users\\LENOVO\\OneDrive\\inFarmer\\8. Crop Mapping\\StarchPak-2024_Maize\\S3 Data\\13-09\n",
      "NDVI calculated and saved to C:\\Users\\LENOVO\\OneDrive\\inFarmer\\8. Crop Mapping\\StarchPak-2024_Maize\\S3 Data\\13-09\\NDVI_13-09\n",
      "C:\\Users\\LENOVO\\OneDrive\\inFarmer\\8. Crop Mapping\\StarchPak-2024_Maize\\S3 Data\\13Oct\n",
      "NDVI calculated and saved to C:\\Users\\LENOVO\\OneDrive\\inFarmer\\8. Crop Mapping\\StarchPak-2024_Maize\\S3 Data\\13Oct\\NDVI_13Oct\n",
      "C:\\Users\\LENOVO\\OneDrive\\inFarmer\\8. Crop Mapping\\StarchPak-2024_Maize\\S3 Data\\18-09\n",
      "NDVI calculated and saved to C:\\Users\\LENOVO\\OneDrive\\inFarmer\\8. Crop Mapping\\StarchPak-2024_Maize\\S3 Data\\18-09\\NDVI_18-09\n",
      "C:\\Users\\LENOVO\\OneDrive\\inFarmer\\8. Crop Mapping\\StarchPak-2024_Maize\\S3 Data\\18Oct\n",
      "NDVI calculated and saved to C:\\Users\\LENOVO\\OneDrive\\inFarmer\\8. Crop Mapping\\StarchPak-2024_Maize\\S3 Data\\18Oct\\NDVI_18Oct\n",
      "C:\\Users\\LENOVO\\OneDrive\\inFarmer\\8. Crop Mapping\\StarchPak-2024_Maize\\S3 Data\\23-09\n",
      "NDVI calculated and saved to C:\\Users\\LENOVO\\OneDrive\\inFarmer\\8. Crop Mapping\\StarchPak-2024_Maize\\S3 Data\\23-09\\NDVI_23-09\n",
      "C:\\Users\\LENOVO\\OneDrive\\inFarmer\\8. Crop Mapping\\StarchPak-2024_Maize\\S3 Data\\23Oct\n",
      "NDVI calculated and saved to C:\\Users\\LENOVO\\OneDrive\\inFarmer\\8. Crop Mapping\\StarchPak-2024_Maize\\S3 Data\\23Oct\\NDVI_23Oct\n",
      "C:\\Users\\LENOVO\\OneDrive\\inFarmer\\8. Crop Mapping\\StarchPak-2024_Maize\\S3 Data\\28Oct\n",
      "NDVI calculated and saved to C:\\Users\\LENOVO\\OneDrive\\inFarmer\\8. Crop Mapping\\StarchPak-2024_Maize\\S3 Data\\28Oct\\NDVI_28Oct\n"
     ]
    }
   ],
   "source": [
    "\n",
    "# # Create the main output folder if it doesn't exist\n",
    "# os.makedirs(output_folder, exist_ok=True)\n",
    "\n",
    "# Function to calculate NDVI\n",
    "def calculate_ndvi(red_band_path, nir_band_path, output_path):\n",
    "    with rasterio.open(red_band_path) as red_src:\n",
    "        red = red_src.read(1).astype('float32')\n",
    "        meta = red_src.meta\n",
    "\n",
    "    with rasterio.open(nir_band_path) as nir_src:\n",
    "        nir = nir_src.read(1).astype('float32')\n",
    "\n",
    "    # Avoid division by zero and calculate NDVI\n",
    "    ndvi = np.where((nir + red) == 0, 0, (nir - red) / (nir + red))\n",
    "\n",
    "    # Update metadata to save NDVI as a single band\n",
    "    meta.update(dtype=rasterio.float32, count=1, driver='GTiff', compress='lzw') \n",
    "\n",
    "    # Write NDVI to a new file\n",
    "    with rasterio.open(output_path, 'w', **meta) as dst:\n",
    "        dst.write(ndvi, 1)\n",
    "\n",
    "# Loop through each date folder\n",
    "for date_folder in os.listdir(main_folder):\n",
    "    date_folder_path = os.path.join(main_folder, date_folder)\n",
    "    print(date_folder_path)\n",
    "    \n",
    "    # # Create an output folder for the date\n",
    "    # output_date_folder = os.path.join(output_folder, date_folder)\n",
    "    # os.makedirs(output_date_folder, exist_ok=True)\n",
    "    \n",
    "    if os.path.isdir(date_folder_path):  # Check if it's a directory\n",
    "        for filename in os.listdir(date_folder_path):\n",
    "            if 'B04' in filename:\n",
    "                red_band_path = os.path.join(date_folder_path, filename)\n",
    "                nir_band_path = red_band_path.replace('B04', 'B08')  # Assuming B8 files have 'B8' in their name\n",
    "\n",
    "                if os.path.exists(nir_band_path):\n",
    "                    # Define the output path for the NDVI file\n",
    "                    output_path = os.path.join(date_folder_path, f\"NDVI_{date_folder}\")\n",
    "                    calculate_ndvi(red_band_path, nir_band_path, output_path)\n",
    "                    print(f\"NDVI calculated and saved to {output_path}\")\n",
    "                else:\n",
    "                    print(f\"No matching NIR file for {filename} in {date_folder}\")"
   ]
  },
  {
   "cell_type": "code",
   "execution_count": 8,
   "metadata": {},
   "outputs": [],
   "source": [
    "# Open the source raster to get the transform\n",
    "with rasterio.open(raster1_path) as src:\n",
    "    source_transform = src.transform\n",
    "    source_crs = src.crs  # Optionally get CRS if you want to match CRS too\n",
    "\n",
    "# Open the target raster in update mode and modify its transform\n",
    "with rasterio.open(raster2_path, 'r+') as target:\n",
    "    # Update the transform\n",
    "    target.transform = source_transform\n",
    "    # Uncomment the line below if you also need to update the CRS\n",
    "    # target.crs = source_crs\n",
    "\n",
    "# print(f\"Transform updated in-place for {target_raster_path}\")"
   ]
  },
  {
   "cell_type": "code",
   "execution_count": null,
   "metadata": {},
   "outputs": [],
   "source": []
  }
 ],
 "metadata": {
  "kernelspec": {
   "display_name": "infarmer_env",
   "language": "python",
   "name": "python3"
  },
  "language_info": {
   "codemirror_mode": {
    "name": "ipython",
    "version": 3
   },
   "file_extension": ".py",
   "mimetype": "text/x-python",
   "name": "python",
   "nbconvert_exporter": "python",
   "pygments_lexer": "ipython3",
   "version": "3.10.0"
  }
 },
 "nbformat": 4,
 "nbformat_minor": 2
}
