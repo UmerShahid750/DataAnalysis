{
 "cells": [
  {
   "cell_type": "code",
   "execution_count": 1,
   "id": "b0122ac5",
   "metadata": {},
   "outputs": [],
   "source": [
    "from importlib.metadata import files\n",
    "import os\n",
    "from glob import glob\n",
    "import fiona\n",
    "import pdb\n",
    "from rasterio import mask as msk\n",
    "import rasterio\n",
    "import os\n",
    "import pandas as pd\n",
    "import geopandas as gpd\n",
    "import re\n",
    "import numpy as np"
   ]
  },
  {
   "cell_type": "code",
   "execution_count": 10,
   "id": "8f61c5b0",
   "metadata": {},
   "outputs": [],
   "source": [
    "data_folder = 'D:/fatima group/all tiles'"
   ]
  },
  {
   "cell_type": "code",
   "execution_count": 11,
   "id": "ff132425",
   "metadata": {},
   "outputs": [],
   "source": [
    "folder_in_data_folder = os.listdir(data_folder)"
   ]
  },
  {
   "cell_type": "code",
   "execution_count": 12,
   "id": "61cd9f4e",
   "metadata": {},
   "outputs": [
    {
     "data": {
      "text/plain": [
       "['L2A_T42RYU_A029532_20221101T054956_2022-11-01',\n",
       " 'L2A_T42RYU_A029675_20221111T055049_2022-11-11',\n",
       " 'L2A_T42RYU_A029818_20221121T055135_2022-11-21',\n",
       " 'L2A_T42RYU_A029961_20221201T055831_2022-12-01',\n",
       " 'L2A_T42RYU_A030104_20221211T055229_2022-12-11',\n",
       " 'L2A_T42RYU_A030247_20221221T055242_2022-12-21',\n",
       " 'L2A_T42RYU_A038798_20221126T055153_2022-11-26',\n",
       " 'L2A_T42RYU_A038941_20221206T055223_2022-12-06',\n",
       " 'L2A_T42RYU_A039084_20221216T055239_2022-12-16',\n",
       " 'L2A_T42RYU_A039370_20230105T055228_2023-01-05',\n",
       " 'L2A_T42RYU_A039513_20230115T055201_2023-01-15',\n",
       " 'L2A_T42RYU_A039656_20230125T055121_2023-01-25',\n",
       " 'L2A_T42RYU_A039799_20230204T055032_2023-02-04',\n",
       " 'L2A_T42RYU_A040228_20230306T055732_2023-03-06']"
      ]
     },
     "execution_count": 12,
     "metadata": {},
     "output_type": "execute_result"
    }
   ],
   "source": [
    "folder_in_data_folder"
   ]
  },
  {
   "cell_type": "code",
   "execution_count": 13,
   "id": "d34389c1",
   "metadata": {},
   "outputs": [
    {
     "name": "stdout",
     "output_type": "stream",
     "text": [
      "main_folder:  L2A_T42RYU_A029532_20221101T054956_2022-11-01\n",
      "D:/fatima group/all tiles/L2A_T42RYU_A029532_20221101T054956_2022-11-01/clipped\n",
      "files in main folder:  ['clipT42RYU_A029532_20221101T054956_B01.tif', 'clipT42RYU_A029532_20221101T054956_B02.tif', 'clipT42RYU_A029532_20221101T054956_B03.tif', 'clipT42RYU_A029532_20221101T054956_B04.tif', 'clipT42RYU_A029532_20221101T054956_B05.tif', 'clipT42RYU_A029532_20221101T054956_B06.tif', 'clipT42RYU_A029532_20221101T054956_B07.tif', 'clipT42RYU_A029532_20221101T054956_B08.tif', 'clipT42RYU_A029532_20221101T054956_B09.tif', 'clipT42RYU_A029532_20221101T054956_B11.tif', 'clipT42RYU_A029532_20221101T054956_B12.tif', 'clipT42RYU_A029532_20221101T054956_B8A.tif', 'NDMI.tiff']\n",
      "band 8 file path is  D:/fatima group/all tiles/L2A_T42RYU_A029532_20221101T054956_2022-11-01/clipped/clipT42RYU_A029532_20221101T054956_B8A.tif\n",
      "band 11 file path is  D:/fatima group/all tiles/L2A_T42RYU_A029532_20221101T054956_2022-11-01/clipped/clipT42RYU_A029532_20221101T054956_B11.tif\n",
      "main_folder:  L2A_T42RYU_A029675_20221111T055049_2022-11-11\n",
      "D:/fatima group/all tiles/L2A_T42RYU_A029675_20221111T055049_2022-11-11/clipped\n",
      "files in main folder:  ['clipT42RYU_A029675_20221111T055049_B01.tif', 'clipT42RYU_A029675_20221111T055049_B02.tif', 'clipT42RYU_A029675_20221111T055049_B03.tif', 'clipT42RYU_A029675_20221111T055049_B04.tif', 'clipT42RYU_A029675_20221111T055049_B05.tif', 'clipT42RYU_A029675_20221111T055049_B06.tif', 'clipT42RYU_A029675_20221111T055049_B07.tif', 'clipT42RYU_A029675_20221111T055049_B08.tif', 'clipT42RYU_A029675_20221111T055049_B09.tif', 'clipT42RYU_A029675_20221111T055049_B11.tif', 'clipT42RYU_A029675_20221111T055049_B12.tif', 'clipT42RYU_A029675_20221111T055049_B8A.tif', 'NDMI.tiff']\n",
      "band 8 file path is  D:/fatima group/all tiles/L2A_T42RYU_A029675_20221111T055049_2022-11-11/clipped/clipT42RYU_A029675_20221111T055049_B8A.tif\n",
      "band 11 file path is  D:/fatima group/all tiles/L2A_T42RYU_A029675_20221111T055049_2022-11-11/clipped/clipT42RYU_A029675_20221111T055049_B11.tif\n",
      "main_folder:  L2A_T42RYU_A029818_20221121T055135_2022-11-21\n",
      "D:/fatima group/all tiles/L2A_T42RYU_A029818_20221121T055135_2022-11-21/clipped\n",
      "files in main folder:  ['clipT42RYU_A029818_20221121T055135_B01.tif', 'clipT42RYU_A029818_20221121T055135_B02.tif', 'clipT42RYU_A029818_20221121T055135_B03.tif', 'clipT42RYU_A029818_20221121T055135_B04.tif', 'clipT42RYU_A029818_20221121T055135_B05.tif', 'clipT42RYU_A029818_20221121T055135_B06.tif', 'clipT42RYU_A029818_20221121T055135_B07.tif', 'clipT42RYU_A029818_20221121T055135_B08.tif', 'clipT42RYU_A029818_20221121T055135_B09.tif', 'clipT42RYU_A029818_20221121T055135_B11.tif', 'clipT42RYU_A029818_20221121T055135_B12.tif', 'clipT42RYU_A029818_20221121T055135_B8A.tif']\n",
      "band 8 file path is  D:/fatima group/all tiles/L2A_T42RYU_A029818_20221121T055135_2022-11-21/clipped/clipT42RYU_A029818_20221121T055135_B8A.tif\n",
      "band 11 file path is  D:/fatima group/all tiles/L2A_T42RYU_A029818_20221121T055135_2022-11-21/clipped/clipT42RYU_A029818_20221121T055135_B11.tif\n",
      "main_folder:  L2A_T42RYU_A029961_20221201T055831_2022-12-01\n",
      "D:/fatima group/all tiles/L2A_T42RYU_A029961_20221201T055831_2022-12-01/clipped\n",
      "files in main folder:  ['clipT42RYU_A029961_20221201T055831_B01.tif', 'clipT42RYU_A029961_20221201T055831_B02.tif', 'clipT42RYU_A029961_20221201T055831_B03.tif', 'clipT42RYU_A029961_20221201T055831_B04.tif', 'clipT42RYU_A029961_20221201T055831_B05.tif', 'clipT42RYU_A029961_20221201T055831_B06.tif', 'clipT42RYU_A029961_20221201T055831_B07.tif', 'clipT42RYU_A029961_20221201T055831_B08.tif', 'clipT42RYU_A029961_20221201T055831_B09.tif', 'clipT42RYU_A029961_20221201T055831_B11.tif', 'clipT42RYU_A029961_20221201T055831_B12.tif', 'clipT42RYU_A029961_20221201T055831_B8A.tif']\n",
      "band 8 file path is  D:/fatima group/all tiles/L2A_T42RYU_A029961_20221201T055831_2022-12-01/clipped/clipT42RYU_A029961_20221201T055831_B8A.tif\n",
      "band 11 file path is  D:/fatima group/all tiles/L2A_T42RYU_A029961_20221201T055831_2022-12-01/clipped/clipT42RYU_A029961_20221201T055831_B11.tif\n",
      "main_folder:  L2A_T42RYU_A030104_20221211T055229_2022-12-11\n",
      "D:/fatima group/all tiles/L2A_T42RYU_A030104_20221211T055229_2022-12-11/clipped\n",
      "files in main folder:  ['clipT42RYU_A030104_20221211T055229_B01.tif', 'clipT42RYU_A030104_20221211T055229_B02.tif', 'clipT42RYU_A030104_20221211T055229_B03.tif', 'clipT42RYU_A030104_20221211T055229_B04.tif', 'clipT42RYU_A030104_20221211T055229_B05.tif', 'clipT42RYU_A030104_20221211T055229_B06.tif', 'clipT42RYU_A030104_20221211T055229_B07.tif', 'clipT42RYU_A030104_20221211T055229_B08.tif', 'clipT42RYU_A030104_20221211T055229_B09.tif', 'clipT42RYU_A030104_20221211T055229_B11.tif', 'clipT42RYU_A030104_20221211T055229_B12.tif', 'clipT42RYU_A030104_20221211T055229_B8A.tif']\n",
      "band 8 file path is  D:/fatima group/all tiles/L2A_T42RYU_A030104_20221211T055229_2022-12-11/clipped/clipT42RYU_A030104_20221211T055229_B8A.tif\n",
      "band 11 file path is  D:/fatima group/all tiles/L2A_T42RYU_A030104_20221211T055229_2022-12-11/clipped/clipT42RYU_A030104_20221211T055229_B11.tif\n",
      "main_folder:  L2A_T42RYU_A030247_20221221T055242_2022-12-21\n",
      "D:/fatima group/all tiles/L2A_T42RYU_A030247_20221221T055242_2022-12-21/clipped\n",
      "files in main folder:  ['clipT42RYU_A030247_20221221T055242_B01.tif', 'clipT42RYU_A030247_20221221T055242_B02.tif', 'clipT42RYU_A030247_20221221T055242_B03.tif', 'clipT42RYU_A030247_20221221T055242_B04.tif', 'clipT42RYU_A030247_20221221T055242_B05.tif', 'clipT42RYU_A030247_20221221T055242_B06.tif', 'clipT42RYU_A030247_20221221T055242_B07.tif', 'clipT42RYU_A030247_20221221T055242_B08.tif', 'clipT42RYU_A030247_20221221T055242_B09.tif', 'clipT42RYU_A030247_20221221T055242_B11.tif', 'clipT42RYU_A030247_20221221T055242_B12.tif', 'clipT42RYU_A030247_20221221T055242_B8A.tif']\n",
      "band 8 file path is  D:/fatima group/all tiles/L2A_T42RYU_A030247_20221221T055242_2022-12-21/clipped/clipT42RYU_A030247_20221221T055242_B8A.tif\n",
      "band 11 file path is  D:/fatima group/all tiles/L2A_T42RYU_A030247_20221221T055242_2022-12-21/clipped/clipT42RYU_A030247_20221221T055242_B11.tif\n",
      "main_folder:  L2A_T42RYU_A038798_20221126T055153_2022-11-26\n",
      "D:/fatima group/all tiles/L2A_T42RYU_A038798_20221126T055153_2022-11-26/clipped\n",
      "files in main folder:  ['clipT42RYU_A038798_20221126T055153_B01.tif', 'clipT42RYU_A038798_20221126T055153_B02.tif', 'clipT42RYU_A038798_20221126T055153_B03.tif', 'clipT42RYU_A038798_20221126T055153_B04.tif', 'clipT42RYU_A038798_20221126T055153_B05.tif', 'clipT42RYU_A038798_20221126T055153_B06.tif', 'clipT42RYU_A038798_20221126T055153_B07.tif', 'clipT42RYU_A038798_20221126T055153_B08.tif', 'clipT42RYU_A038798_20221126T055153_B09.tif', 'clipT42RYU_A038798_20221126T055153_B11.tif', 'clipT42RYU_A038798_20221126T055153_B12.tif', 'clipT42RYU_A038798_20221126T055153_B8A.tif']\n",
      "band 8 file path is  D:/fatima group/all tiles/L2A_T42RYU_A038798_20221126T055153_2022-11-26/clipped/clipT42RYU_A038798_20221126T055153_B8A.tif\n",
      "band 11 file path is  D:/fatima group/all tiles/L2A_T42RYU_A038798_20221126T055153_2022-11-26/clipped/clipT42RYU_A038798_20221126T055153_B11.tif\n",
      "main_folder:  L2A_T42RYU_A038941_20221206T055223_2022-12-06\n",
      "D:/fatima group/all tiles/L2A_T42RYU_A038941_20221206T055223_2022-12-06/clipped\n",
      "files in main folder:  ['clipT42RYU_A038941_20221206T055223_B01.tif', 'clipT42RYU_A038941_20221206T055223_B02.tif', 'clipT42RYU_A038941_20221206T055223_B03.tif', 'clipT42RYU_A038941_20221206T055223_B04.tif', 'clipT42RYU_A038941_20221206T055223_B05.tif', 'clipT42RYU_A038941_20221206T055223_B06.tif', 'clipT42RYU_A038941_20221206T055223_B07.tif', 'clipT42RYU_A038941_20221206T055223_B08.tif', 'clipT42RYU_A038941_20221206T055223_B09.tif', 'clipT42RYU_A038941_20221206T055223_B11.tif', 'clipT42RYU_A038941_20221206T055223_B12.tif', 'clipT42RYU_A038941_20221206T055223_B8A.tif']\n",
      "band 8 file path is  D:/fatima group/all tiles/L2A_T42RYU_A038941_20221206T055223_2022-12-06/clipped/clipT42RYU_A038941_20221206T055223_B8A.tif\n",
      "band 11 file path is  D:/fatima group/all tiles/L2A_T42RYU_A038941_20221206T055223_2022-12-06/clipped/clipT42RYU_A038941_20221206T055223_B11.tif\n",
      "main_folder:  L2A_T42RYU_A039084_20221216T055239_2022-12-16\n",
      "D:/fatima group/all tiles/L2A_T42RYU_A039084_20221216T055239_2022-12-16/clipped\n",
      "files in main folder:  ['clipT42RYU_A039084_20221216T055239_B01.tif', 'clipT42RYU_A039084_20221216T055239_B02.tif', 'clipT42RYU_A039084_20221216T055239_B03.tif', 'clipT42RYU_A039084_20221216T055239_B04.tif', 'clipT42RYU_A039084_20221216T055239_B05.tif', 'clipT42RYU_A039084_20221216T055239_B06.tif', 'clipT42RYU_A039084_20221216T055239_B07.tif', 'clipT42RYU_A039084_20221216T055239_B08.tif', 'clipT42RYU_A039084_20221216T055239_B09.tif', 'clipT42RYU_A039084_20221216T055239_B11.tif', 'clipT42RYU_A039084_20221216T055239_B12.tif', 'clipT42RYU_A039084_20221216T055239_B8A.tif']\n",
      "band 8 file path is  D:/fatima group/all tiles/L2A_T42RYU_A039084_20221216T055239_2022-12-16/clipped/clipT42RYU_A039084_20221216T055239_B8A.tif\n",
      "band 11 file path is  D:/fatima group/all tiles/L2A_T42RYU_A039084_20221216T055239_2022-12-16/clipped/clipT42RYU_A039084_20221216T055239_B11.tif\n",
      "main_folder:  L2A_T42RYU_A039370_20230105T055228_2023-01-05\n",
      "D:/fatima group/all tiles/L2A_T42RYU_A039370_20230105T055228_2023-01-05/clipped\n",
      "files in main folder:  ['clipT42RYU_A039370_20230105T055228_B01.tif', 'clipT42RYU_A039370_20230105T055228_B02.tif', 'clipT42RYU_A039370_20230105T055228_B03.tif', 'clipT42RYU_A039370_20230105T055228_B04.tif', 'clipT42RYU_A039370_20230105T055228_B05.tif', 'clipT42RYU_A039370_20230105T055228_B06.tif', 'clipT42RYU_A039370_20230105T055228_B07.tif', 'clipT42RYU_A039370_20230105T055228_B08.tif', 'clipT42RYU_A039370_20230105T055228_B09.tif', 'clipT42RYU_A039370_20230105T055228_B11.tif', 'clipT42RYU_A039370_20230105T055228_B12.tif', 'clipT42RYU_A039370_20230105T055228_B8A.tif']\n",
      "band 8 file path is  D:/fatima group/all tiles/L2A_T42RYU_A039370_20230105T055228_2023-01-05/clipped/clipT42RYU_A039370_20230105T055228_B8A.tif\n",
      "band 11 file path is  D:/fatima group/all tiles/L2A_T42RYU_A039370_20230105T055228_2023-01-05/clipped/clipT42RYU_A039370_20230105T055228_B11.tif\n"
     ]
    },
    {
     "name": "stdout",
     "output_type": "stream",
     "text": [
      "main_folder:  L2A_T42RYU_A039513_20230115T055201_2023-01-15\n",
      "D:/fatima group/all tiles/L2A_T42RYU_A039513_20230115T055201_2023-01-15/clipped\n",
      "files in main folder:  ['clipT42RYU_A039513_20230115T055201_B01.tif', 'clipT42RYU_A039513_20230115T055201_B02.tif', 'clipT42RYU_A039513_20230115T055201_B03.tif', 'clipT42RYU_A039513_20230115T055201_B04.tif', 'clipT42RYU_A039513_20230115T055201_B05.tif', 'clipT42RYU_A039513_20230115T055201_B06.tif', 'clipT42RYU_A039513_20230115T055201_B07.tif', 'clipT42RYU_A039513_20230115T055201_B08.tif', 'clipT42RYU_A039513_20230115T055201_B09.tif', 'clipT42RYU_A039513_20230115T055201_B11.tif', 'clipT42RYU_A039513_20230115T055201_B12.tif', 'clipT42RYU_A039513_20230115T055201_B8A.tif']\n",
      "band 8 file path is  D:/fatima group/all tiles/L2A_T42RYU_A039513_20230115T055201_2023-01-15/clipped/clipT42RYU_A039513_20230115T055201_B8A.tif\n",
      "band 11 file path is  D:/fatima group/all tiles/L2A_T42RYU_A039513_20230115T055201_2023-01-15/clipped/clipT42RYU_A039513_20230115T055201_B11.tif\n",
      "main_folder:  L2A_T42RYU_A039656_20230125T055121_2023-01-25\n",
      "D:/fatima group/all tiles/L2A_T42RYU_A039656_20230125T055121_2023-01-25/clipped\n",
      "files in main folder:  ['clipT42RYU_A039656_20230125T055121_B01.tif', 'clipT42RYU_A039656_20230125T055121_B02.tif', 'clipT42RYU_A039656_20230125T055121_B03.tif', 'clipT42RYU_A039656_20230125T055121_B04.tif', 'clipT42RYU_A039656_20230125T055121_B05.tif', 'clipT42RYU_A039656_20230125T055121_B06.tif', 'clipT42RYU_A039656_20230125T055121_B07.tif', 'clipT42RYU_A039656_20230125T055121_B08.tif', 'clipT42RYU_A039656_20230125T055121_B09.tif', 'clipT42RYU_A039656_20230125T055121_B11.tif', 'clipT42RYU_A039656_20230125T055121_B12.tif', 'clipT42RYU_A039656_20230125T055121_B8A.tif']\n",
      "band 8 file path is  D:/fatima group/all tiles/L2A_T42RYU_A039656_20230125T055121_2023-01-25/clipped/clipT42RYU_A039656_20230125T055121_B8A.tif\n",
      "band 11 file path is  D:/fatima group/all tiles/L2A_T42RYU_A039656_20230125T055121_2023-01-25/clipped/clipT42RYU_A039656_20230125T055121_B11.tif\n",
      "main_folder:  L2A_T42RYU_A039799_20230204T055032_2023-02-04\n",
      "D:/fatima group/all tiles/L2A_T42RYU_A039799_20230204T055032_2023-02-04/clipped\n",
      "files in main folder:  ['clipT42RYU_A039799_20230204T055032_B01.tif', 'clipT42RYU_A039799_20230204T055032_B02.tif', 'clipT42RYU_A039799_20230204T055032_B03.tif', 'clipT42RYU_A039799_20230204T055032_B04.tif', 'clipT42RYU_A039799_20230204T055032_B05.tif', 'clipT42RYU_A039799_20230204T055032_B06.tif', 'clipT42RYU_A039799_20230204T055032_B07.tif', 'clipT42RYU_A039799_20230204T055032_B08.tif', 'clipT42RYU_A039799_20230204T055032_B09.tif', 'clipT42RYU_A039799_20230204T055032_B11.tif', 'clipT42RYU_A039799_20230204T055032_B12.tif', 'clipT42RYU_A039799_20230204T055032_B8A.tif']\n",
      "band 8 file path is  D:/fatima group/all tiles/L2A_T42RYU_A039799_20230204T055032_2023-02-04/clipped/clipT42RYU_A039799_20230204T055032_B8A.tif\n",
      "band 11 file path is  D:/fatima group/all tiles/L2A_T42RYU_A039799_20230204T055032_2023-02-04/clipped/clipT42RYU_A039799_20230204T055032_B11.tif\n",
      "main_folder:  L2A_T42RYU_A040228_20230306T055732_2023-03-06\n",
      "D:/fatima group/all tiles/L2A_T42RYU_A040228_20230306T055732_2023-03-06/clipped\n",
      "files in main folder:  ['clipT42RYU_A040228_20230306T055732_B01.tif', 'clipT42RYU_A040228_20230306T055732_B02.tif', 'clipT42RYU_A040228_20230306T055732_B03.tif', 'clipT42RYU_A040228_20230306T055732_B04.tif', 'clipT42RYU_A040228_20230306T055732_B05.tif', 'clipT42RYU_A040228_20230306T055732_B06.tif', 'clipT42RYU_A040228_20230306T055732_B07.tif', 'clipT42RYU_A040228_20230306T055732_B08.tif', 'clipT42RYU_A040228_20230306T055732_B09.tif', 'clipT42RYU_A040228_20230306T055732_B11.tif', 'clipT42RYU_A040228_20230306T055732_B12.tif', 'clipT42RYU_A040228_20230306T055732_B8A.tif']\n",
      "band 8 file path is  D:/fatima group/all tiles/L2A_T42RYU_A040228_20230306T055732_2023-03-06/clipped/clipT42RYU_A040228_20230306T055732_B8A.tif\n",
      "band 11 file path is  D:/fatima group/all tiles/L2A_T42RYU_A040228_20230306T055732_2023-03-06/clipped/clipT42RYU_A040228_20230306T055732_B11.tif\n"
     ]
    }
   ],
   "source": [
    "for folder in folder_in_data_folder:\n",
    "#     count=count+1\n",
    "    if str(folder).__contains__(\"L2A\"):\n",
    "        print(\"main_folder: \", folder)\n",
    "        folder1_path = \"\".join(data_folder +\"/\"+ folder+ \"/\"+\"clipped\")\n",
    "        print(folder1_path)\n",
    "        files_in_folder1 = os.listdir(folder1_path) \n",
    "        print(\"files in main folder: \",files_in_folder1)\n",
    "        b8 = []\n",
    "        b11 = []\n",
    "        ndvi= []\n",
    "\n",
    "        for file in files_in_folder1:\n",
    "            if str(file).__contains__(\"B8A\"):\n",
    "                b8.append(file)\n",
    "#                 print('band 8=',b8[0])\n",
    "                band8_path = \"\".join(folder1_path+\"/\"+b8[0])\n",
    "                print('band 8 file path is ',band8_path)\n",
    "\n",
    "        for file in files_in_folder1:\n",
    "            if str(file).__contains__(\"B11\"):\n",
    "                b11.append(file)\n",
    "#                 print('band 4=',b4[0])\n",
    "                band11_path = \"\".join(folder1_path+\"/\"+b11[0])\n",
    "                print('band 11 file path is ',band11_path)\n",
    "    band11=rasterio.open(band11_path)\n",
    "    band8=rasterio.open(band8_path)\n",
    "\n",
    "    red=band11.read(1).astype('float64')\n",
    "    nir=band8.read(1).astype('float64')\n",
    "\n",
    "    ndvi=np.where(\n",
    "    (nir-red)==0.,\n",
    "    0,\n",
    "    (nir-red)/(nir+red))\n",
    "\n",
    "    image=rasterio.open(folder1_path+'/NDMI.tiff','w',driver='Gtiff',\n",
    "                    width=band8.width,\n",
    "                    height=band8.height,\n",
    "                   count=1,\n",
    "                   crs=band8.crs,\n",
    "                   transform=band8.transform,\n",
    "                   dtype='float64')\n",
    "    image.write(ndvi,1)\n",
    "    image.close()\n",
    "\n",
    "\n",
    "\n",
    "    #                 print(\"ndvi:\", ndvi) \n",
    "#                 ndvi_path = \"\".join(folder1_path +\"/\"+ ndvi[0])\n",
    "#         print(\"ndvi_path:\", ndvi_path) \n",
    "#         pixel_data=rasterio.open(ndvi_path)\n",
    "#         pixel_data1=pixel_data.read(1).astype('float64')\n",
    "#         arr=pixel_data1+arr\n",
    "#         print('done')\n",
    "#         print(arr)"
   ]
  },
  {
   "cell_type": "code",
   "execution_count": null,
   "id": "ffe8a80f",
   "metadata": {},
   "outputs": [],
   "source": []
  }
 ],
 "metadata": {
  "kernelspec": {
   "display_name": "Python 3 (ipykernel)",
   "language": "python",
   "name": "python3"
  },
  "language_info": {
   "codemirror_mode": {
    "name": "ipython",
    "version": 3
   },
   "file_extension": ".py",
   "mimetype": "text/x-python",
   "name": "python",
   "nbconvert_exporter": "python",
   "pygments_lexer": "ipython3",
   "version": "3.10.0"
  }
 },
 "nbformat": 4,
 "nbformat_minor": 5
}
